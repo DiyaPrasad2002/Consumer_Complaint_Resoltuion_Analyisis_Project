{
 "cells": [
  {
   "cell_type": "code",
   "execution_count": 39,
   "id": "96f6749b-5e4a-45cf-b56a-f4269ffc2cb6",
   "metadata": {},
   "outputs": [],
   "source": [
    "import streamlit as st\n",
    "import numpy as np\n",
    "import pandas as pd\n",
    "from sklearn.preprocessing import LabelEncoder\n",
    "import joblib"
   ]
  },
  {
   "cell_type": "code",
   "execution_count": 40,
   "id": "447f7743-681e-4695-9924-7722f0f5d49a",
   "metadata": {},
   "outputs": [],
   "source": [
    "model = joblib.load(\"model.pkl\")"
   ]
  },
  {
   "cell_type": "code",
   "execution_count": 41,
   "id": "9a625eee-a1e9-4204-9d4e-9b1c694134e4",
   "metadata": {},
   "outputs": [],
   "source": [
    "product_encoder = LabelEncoder()\n",
    "company_encoder = LabelEncoder()\n",
    "state_encoder = LabelEncoder()\n",
    "submit_encoder = LabelEncoder()\n",
    "response_encoder = LabelEncoder()\n",
    "time_encoder = LabelEncoder()"
   ]
  },
  {
   "cell_type": "code",
   "execution_count": 55,
   "id": "a636618f-8640-447a-aab8-1cd303a7e2d0",
   "metadata": {},
   "outputs": [
    {
     "data": {
      "text/html": [
       "<style>#sk-container-id-2 {color: black;background-color: white;}#sk-container-id-2 pre{padding: 0;}#sk-container-id-2 div.sk-toggleable {background-color: white;}#sk-container-id-2 label.sk-toggleable__label {cursor: pointer;display: block;width: 100%;margin-bottom: 0;padding: 0.3em;box-sizing: border-box;text-align: center;}#sk-container-id-2 label.sk-toggleable__label-arrow:before {content: \"▸\";float: left;margin-right: 0.25em;color: #696969;}#sk-container-id-2 label.sk-toggleable__label-arrow:hover:before {color: black;}#sk-container-id-2 div.sk-estimator:hover label.sk-toggleable__label-arrow:before {color: black;}#sk-container-id-2 div.sk-toggleable__content {max-height: 0;max-width: 0;overflow: hidden;text-align: left;background-color: #f0f8ff;}#sk-container-id-2 div.sk-toggleable__content pre {margin: 0.2em;color: black;border-radius: 0.25em;background-color: #f0f8ff;}#sk-container-id-2 input.sk-toggleable__control:checked~div.sk-toggleable__content {max-height: 200px;max-width: 100%;overflow: auto;}#sk-container-id-2 input.sk-toggleable__control:checked~label.sk-toggleable__label-arrow:before {content: \"▾\";}#sk-container-id-2 div.sk-estimator input.sk-toggleable__control:checked~label.sk-toggleable__label {background-color: #d4ebff;}#sk-container-id-2 div.sk-label input.sk-toggleable__control:checked~label.sk-toggleable__label {background-color: #d4ebff;}#sk-container-id-2 input.sk-hidden--visually {border: 0;clip: rect(1px 1px 1px 1px);clip: rect(1px, 1px, 1px, 1px);height: 1px;margin: -1px;overflow: hidden;padding: 0;position: absolute;width: 1px;}#sk-container-id-2 div.sk-estimator {font-family: monospace;background-color: #f0f8ff;border: 1px dotted black;border-radius: 0.25em;box-sizing: border-box;margin-bottom: 0.5em;}#sk-container-id-2 div.sk-estimator:hover {background-color: #d4ebff;}#sk-container-id-2 div.sk-parallel-item::after {content: \"\";width: 100%;border-bottom: 1px solid gray;flex-grow: 1;}#sk-container-id-2 div.sk-label:hover label.sk-toggleable__label {background-color: #d4ebff;}#sk-container-id-2 div.sk-serial::before {content: \"\";position: absolute;border-left: 1px solid gray;box-sizing: border-box;top: 0;bottom: 0;left: 50%;z-index: 0;}#sk-container-id-2 div.sk-serial {display: flex;flex-direction: column;align-items: center;background-color: white;padding-right: 0.2em;padding-left: 0.2em;position: relative;}#sk-container-id-2 div.sk-item {position: relative;z-index: 1;}#sk-container-id-2 div.sk-parallel {display: flex;align-items: stretch;justify-content: center;background-color: white;position: relative;}#sk-container-id-2 div.sk-item::before, #sk-container-id-2 div.sk-parallel-item::before {content: \"\";position: absolute;border-left: 1px solid gray;box-sizing: border-box;top: 0;bottom: 0;left: 50%;z-index: -1;}#sk-container-id-2 div.sk-parallel-item {display: flex;flex-direction: column;z-index: 1;position: relative;background-color: white;}#sk-container-id-2 div.sk-parallel-item:first-child::after {align-self: flex-end;width: 50%;}#sk-container-id-2 div.sk-parallel-item:last-child::after {align-self: flex-start;width: 50%;}#sk-container-id-2 div.sk-parallel-item:only-child::after {width: 0;}#sk-container-id-2 div.sk-dashed-wrapped {border: 1px dashed gray;margin: 0 0.4em 0.5em 0.4em;box-sizing: border-box;padding-bottom: 0.4em;background-color: white;}#sk-container-id-2 div.sk-label label {font-family: monospace;font-weight: bold;display: inline-block;line-height: 1.2em;}#sk-container-id-2 div.sk-label-container {text-align: center;}#sk-container-id-2 div.sk-container {/* jupyter's `normalize.less` sets `[hidden] { display: none; }` but bootstrap.min.css set `[hidden] { display: none !important; }` so we also need the `!important` here to be able to override the default hidden behavior on the sphinx rendered scikit-learn.org. See: https://github.com/scikit-learn/scikit-learn/issues/21755 */display: inline-block !important;position: relative;}#sk-container-id-2 div.sk-text-repr-fallback {display: none;}</style><div id=\"sk-container-id-2\" class=\"sk-top-container\"><div class=\"sk-text-repr-fallback\"><pre>LabelEncoder()</pre><b>In a Jupyter environment, please rerun this cell to show the HTML representation or trust the notebook. <br />On GitHub, the HTML representation is unable to render, please try loading this page with nbviewer.org.</b></div><div class=\"sk-container\" hidden><div class=\"sk-item\"><div class=\"sk-estimator sk-toggleable\"><input class=\"sk-toggleable__control sk-hidden--visually\" id=\"sk-estimator-id-2\" type=\"checkbox\" checked><label for=\"sk-estimator-id-2\" class=\"sk-toggleable__label sk-toggleable__label-arrow\">LabelEncoder</label><div class=\"sk-toggleable__content\"><pre>LabelEncoder()</pre></div></div></div></div></div>"
      ],
      "text/plain": [
       "LabelEncoder()"
      ]
     },
     "execution_count": 55,
     "metadata": {},
     "output_type": "execute_result"
    }
   ],
   "source": [
    "product_encoder.fit(['Mortgage', 'Credit reporting', 'Student loan', 'Debt collection',\n",
    "       'Credit card', 'Bank account or service', 'Consumer Loan',\n",
    "       'Money transfers', 'Payday loan', 'Prepaid card',\n",
    "       'Other financial service'])\n",
    "company_encoder.fit(['Bank of America', 'Wells Fargo & Company', 'JPMorgan Chase & Co.', 'Equifax', 'Citibank', 'TransUnion Intermediate Holdings, Inc.',\n",
    "                     'Ocwen', 'Capital One', 'Nationstar Mortgage', 'U.S. Bancorp', 'Synchrony Financial', 'Ditech Financial LLC', 'Navient Solutions, Inc.', \n",
    "                     'PNC Bank N.A.', 'Encore Capital Group', 'HSBC North America Holdings Inc.', 'Amex', 'SunTrust Banks, Inc.', 'Discover',\n",
    "                     'TD Bank US Holding Company', 'Select Portfolio Servicing, Inc', 'Portfolio Recovery Associates, Inc.',\n",
    "                     'Citizens Financial Group, Inc.', 'Fifth Third Financial Corporation', 'Seterus, Inc.', 'Barclays PLC', 'ERC',\n",
    "                     'BB&T Financial', 'M&T Bank Corporation', 'Ally Financial Inc.', 'Regions Financial Corporation', 'PayPal Holdings, Inc.',\n",
    "                     'USAA Savings', 'Specialized Loan Servicing LLC', 'Santander Consumer USA Holdings Inc', 'Santander Bank US', 'AES/PHEAA',\n",
    "                     'Expert Global Solutions, Inc.', 'Flagstar Bank'])\n",
    "state_encoder.fit(['CA', 'NY', 'MD', 'GA', 'AZ', 'IL', 'NC', 'TX', 'DC', 'KY', 'RI',\n",
    "       'TN', 'AR', 'AL', 'NJ', 'VA', 'FL', 'MN', 'AK', 'OH', 'OR', 'MO',\n",
    "       'LA', 'SC', 'OK', 'WA', 'PA', 'MI', 'CO', 'KS', 'MA', 'NH', 'NV',\n",
    "       'WV', 'PR', 'DE', 'IN', 'UT', 'ME', 'NE', 'NM', 'WY', 'CT', 'HI',\n",
    "       'ID', 'MS', 'WI', 'IA', 'MT', 'MH', 'VT', 'AE', 'SD', 'FM',\n",
    "       'VI', 'ND', 'GU', 'MP', 'AP', 'AS', 'PW', 'AA'])\n",
    "submit_encoder.fit(['Referral', 'Postal mail', 'Email', 'Web', 'Phone', 'Fax'])\n",
    "response_encoder.fit(['Closed with explanation', 'Closed with monetary relief',\n",
    "       'Closed with non-monetary relief', 'Closed', 'Untimely response',\n",
    "       'In progress', 'Closed without relief', 'Closed with relief'])\n",
    "time_encoder.fit(['Yes', 'No'])"
   ]
  },
  {
   "cell_type": "code",
   "execution_count": 56,
   "id": "fd595359-d05e-4045-8f24-9e529d22ecc0",
   "metadata": {},
   "outputs": [],
   "source": [
    "st.title(\"Is the consumer disputed?\")\n",
    "\n",
    "product = st.selectbox(\"product\", product_encoder.classes_)\n",
    "company = st.selectbox(\"company associated\", company_encoder.classes_)\n",
    "state = st.selectbox(\"state\", state_encoder.classes_)\n",
    "submission = st.selectbox(\"mode of submission\", submit_encoder.classes_)\n",
    "response = st.selectbox(\"company response\", response_encoder.classes_)\n",
    "time = st.selectbox(\"was it a timely response?\", time_encoder.classes_)\n",
    "\n",
    "latency = st.number_input(\"delay in submission\", min_value = 0, max_value = 1000)\n",
    "day = st.number_input(\"date of submission\", min_value = 1, max_value = 31)\n",
    "month = st.number_input(\"month of submission\", min_value = 1, max_value = 12)"
   ]
  },
  {
   "cell_type": "code",
   "execution_count": 57,
   "id": "d65e24da-bbfb-4f0f-9d6a-df8e750772e1",
   "metadata": {},
   "outputs": [],
   "source": [
    "product_enc = product_encoder.transform([product])[0]\n",
    "company_enc = company_encoder.transform([company])[0]\n",
    "state_enc = state_encoder.transform([state])[0]\n",
    "submission_enc = submit_encoder.transform([submission])[0]\n",
    "response_enc = response_encoder.transform([response])[0]\n",
    "time_enc = time_encoder.transform([time])[0]"
   ]
  },
  {
   "cell_type": "code",
   "execution_count": 58,
   "id": "e629b938-f846-47b5-b377-2145e888632b",
   "metadata": {},
   "outputs": [],
   "source": [
    "input_array = np.array([[product_enc, company_enc, state_enc,submission_enc, response_enc,time_enc, latency, day, month]])"
   ]
  },
  {
   "cell_type": "code",
   "execution_count": 59,
   "id": "781f43e7-1391-4a94-8c6e-6fdd09be04ad",
   "metadata": {},
   "outputs": [],
   "source": [
    "if st.button(\"Predict\"):\n",
    "    prediction = model.predict(input_array)\n",
    "    st.write(f\"Prediction : {prediction[0]}\")"
   ]
  },
  {
   "cell_type": "code",
   "execution_count": null,
   "id": "0ea6a94e-9a6a-4668-9f80-5fb4ae64f7de",
   "metadata": {},
   "outputs": [],
   "source": []
  }
 ],
 "metadata": {
  "kernelspec": {
   "display_name": "Python 3 (ipykernel)",
   "language": "python",
   "name": "python3"
  },
  "language_info": {
   "codemirror_mode": {
    "name": "ipython",
    "version": 3
   },
   "file_extension": ".py",
   "mimetype": "text/x-python",
   "name": "python",
   "nbconvert_exporter": "python",
   "pygments_lexer": "ipython3",
   "version": "3.11.7"
  }
 },
 "nbformat": 4,
 "nbformat_minor": 5
}
