{
 "cells": [
  {
   "cell_type": "markdown",
   "id": "fb36b1f3-f54f-4363-9c92-a1cb553b97a9",
   "metadata": {},
   "source": [
    "# Consumer Complaint Resolution Prediction Model"
   ]
  },
  {
   "cell_type": "markdown",
   "id": "6f2dac9a-927f-4673-83fd-118848fea372",
   "metadata": {},
   "source": [
    "Aim of the project is to develop a model that when provided with the user data and the complaint information, is able to predict if the particular complaint could be eliminated in the future.\n",
    "\n",
    "#### APPLICATIONS : \n",
    "Such models could help organisations to improve customer services and fasten up their grievance catering methods in order to prevent piling up of complaints. These models can also be integrated with response mechanisms that can filter out grievances that were similar to some prior catered complaints, avoiding repeated actions. "
   ]
  },
  {
   "cell_type": "markdown",
   "id": "b1c2116c-a33d-4d41-bf5b-f7903e86d339",
   "metadata": {},
   "source": [
    "### Importing Libraries"
   ]
  },
  {
   "cell_type": "code",
   "execution_count": 86,
   "id": "4b05b389-9f48-4db9-b8d5-085aa1443090",
   "metadata": {},
   "outputs": [],
   "source": [
    "import numpy as np\n",
    "import pandas as pd\n",
    "import matplotlib.pyplot as plt\n",
    "import seaborn as sns\n",
    "import statsmodels.api as sm\n",
    "\n",
    "from sklearn import metrics\n",
    "from sklearn.metrics import confusion_matrix, roc_auc_score, roc_curve, precision_score, classification_report, accuracy_score\n",
    "from sklearn.preprocessing import LabelEncoder\n",
    "from sklearn.model_selection import train_test_split\n",
    "from sklearn.linear_model import LogisticRegression\n",
    "from sklearn.ensemble import AdaBoostClassifier, RandomForestClassifier\n",
    "from sklearn.tree import DecisionTreeClassifier\n",
    "\n",
    "from sklearn.neighbors import KNeighborsClassifier as KNN\n",
    "from sklearn.svm import SVC\n",
    "from io import StringIO\n",
    "from imblearn.over_sampling import SMOTE\n",
    "%matplotlib inline"
   ]
  },
  {
   "cell_type": "code",
   "execution_count": 87,
   "id": "1571709b-4b6e-4178-bc5c-68d14689d69e",
   "metadata": {},
   "outputs": [],
   "source": [
    "from datetime import date\n",
    "import time\n",
    "import joblib"
   ]
  },
  {
   "cell_type": "markdown",
   "id": "a48bd087-0a66-4c05-a54c-8be33c7936c1",
   "metadata": {},
   "source": [
    "### Importing dataset and data overview"
   ]
  },
  {
   "cell_type": "code",
   "execution_count": 3,
   "id": "063783d1-ab0f-47f9-9a92-f6f7ef72c01d",
   "metadata": {},
   "outputs": [
    {
     "name": "stderr",
     "output_type": "stream",
     "text": [
      "C:\\Users\\Diya Sivaprasad\\AppData\\Local\\Temp\\ipykernel_14692\\2514161639.py:1: DtypeWarning: Columns (5,11) have mixed types. Specify dtype option on import or set low_memory=False.\n",
      "  data = pd.read_csv(\"consumer_complaints.csv\")\n"
     ]
    }
   ],
   "source": [
    "data = pd.read_csv(\"consumer_complaints.csv\")"
   ]
  },
  {
   "cell_type": "markdown",
   "id": "cbb90ee4-c3d0-4438-9f34-621623a3aa77",
   "metadata": {},
   "source": [
    "##### Looking into a sample of data "
   ]
  },
  {
   "cell_type": "code",
   "execution_count": 4,
   "id": "a25e864b-5962-49a0-b070-3987f66886c2",
   "metadata": {},
   "outputs": [
    {
     "data": {
      "text/html": [
       "<div>\n",
       "<style scoped>\n",
       "    .dataframe tbody tr th:only-of-type {\n",
       "        vertical-align: middle;\n",
       "    }\n",
       "\n",
       "    .dataframe tbody tr th {\n",
       "        vertical-align: top;\n",
       "    }\n",
       "\n",
       "    .dataframe thead th {\n",
       "        text-align: right;\n",
       "    }\n",
       "</style>\n",
       "<table border=\"1\" class=\"dataframe\">\n",
       "  <thead>\n",
       "    <tr style=\"text-align: right;\">\n",
       "      <th></th>\n",
       "      <th>date_received</th>\n",
       "      <th>product</th>\n",
       "      <th>sub_product</th>\n",
       "      <th>issue</th>\n",
       "      <th>sub_issue</th>\n",
       "      <th>consumer_complaint_narrative</th>\n",
       "      <th>company_public_response</th>\n",
       "      <th>company</th>\n",
       "      <th>state</th>\n",
       "      <th>zipcode</th>\n",
       "      <th>tags</th>\n",
       "      <th>consumer_consent_provided</th>\n",
       "      <th>submitted_via</th>\n",
       "      <th>date_sent_to_company</th>\n",
       "      <th>company_response_to_consumer</th>\n",
       "      <th>timely_response</th>\n",
       "      <th>consumer_disputed?</th>\n",
       "      <th>complaint_id</th>\n",
       "    </tr>\n",
       "  </thead>\n",
       "  <tbody>\n",
       "    <tr>\n",
       "      <th>157914</th>\n",
       "      <td>11/21/2014</td>\n",
       "      <td>Debt collection</td>\n",
       "      <td>Payday loan</td>\n",
       "      <td>Disclosure verification of debt</td>\n",
       "      <td>Not given enough info to verify debt</td>\n",
       "      <td>NaN</td>\n",
       "      <td>NaN</td>\n",
       "      <td>Turning Point Solutions LLC</td>\n",
       "      <td>GA</td>\n",
       "      <td>30012</td>\n",
       "      <td>NaN</td>\n",
       "      <td>NaN</td>\n",
       "      <td>Web</td>\n",
       "      <td>11/21/2014</td>\n",
       "      <td>Closed with non-monetary relief</td>\n",
       "      <td>Yes</td>\n",
       "      <td>No</td>\n",
       "      <td>1132659</td>\n",
       "    </tr>\n",
       "    <tr>\n",
       "      <th>259490</th>\n",
       "      <td>07/27/2015</td>\n",
       "      <td>Credit card</td>\n",
       "      <td>NaN</td>\n",
       "      <td>Billing disputes</td>\n",
       "      <td>NaN</td>\n",
       "      <td>NaN</td>\n",
       "      <td>NaN</td>\n",
       "      <td>Amex</td>\n",
       "      <td>AZ</td>\n",
       "      <td>85250</td>\n",
       "      <td>NaN</td>\n",
       "      <td>Consent not provided</td>\n",
       "      <td>Web</td>\n",
       "      <td>07/28/2015</td>\n",
       "      <td>Closed with explanation</td>\n",
       "      <td>Yes</td>\n",
       "      <td>Yes</td>\n",
       "      <td>1489237</td>\n",
       "    </tr>\n",
       "    <tr>\n",
       "      <th>336007</th>\n",
       "      <td>08/08/2012</td>\n",
       "      <td>Credit card</td>\n",
       "      <td>NaN</td>\n",
       "      <td>Credit determination</td>\n",
       "      <td>NaN</td>\n",
       "      <td>NaN</td>\n",
       "      <td>NaN</td>\n",
       "      <td>Citibank</td>\n",
       "      <td>CA</td>\n",
       "      <td>90064</td>\n",
       "      <td>NaN</td>\n",
       "      <td>NaN</td>\n",
       "      <td>Web</td>\n",
       "      <td>10/25/2012</td>\n",
       "      <td>Closed with explanation</td>\n",
       "      <td>Yes</td>\n",
       "      <td>No</td>\n",
       "      <td>131972</td>\n",
       "    </tr>\n",
       "    <tr>\n",
       "      <th>371759</th>\n",
       "      <td>05/20/2013</td>\n",
       "      <td>Mortgage</td>\n",
       "      <td>Other mortgage</td>\n",
       "      <td>Loan modification,collection,foreclosure</td>\n",
       "      <td>NaN</td>\n",
       "      <td>NaN</td>\n",
       "      <td>NaN</td>\n",
       "      <td>Bank of America</td>\n",
       "      <td>IL</td>\n",
       "      <td>60126</td>\n",
       "      <td>NaN</td>\n",
       "      <td>NaN</td>\n",
       "      <td>Referral</td>\n",
       "      <td>05/20/2013</td>\n",
       "      <td>Closed with explanation</td>\n",
       "      <td>Yes</td>\n",
       "      <td>No</td>\n",
       "      <td>410858</td>\n",
       "    </tr>\n",
       "    <tr>\n",
       "      <th>75165</th>\n",
       "      <td>06/05/2014</td>\n",
       "      <td>Debt collection</td>\n",
       "      <td>Medical</td>\n",
       "      <td>Communication tactics</td>\n",
       "      <td>Frequent or repeated calls</td>\n",
       "      <td>NaN</td>\n",
       "      <td>NaN</td>\n",
       "      <td>Nationwide Credit &amp; Collection, Inc.</td>\n",
       "      <td>IL</td>\n",
       "      <td>60187</td>\n",
       "      <td>NaN</td>\n",
       "      <td>NaN</td>\n",
       "      <td>Web</td>\n",
       "      <td>06/05/2014</td>\n",
       "      <td>Closed with explanation</td>\n",
       "      <td>Yes</td>\n",
       "      <td>Yes</td>\n",
       "      <td>882109</td>\n",
       "    </tr>\n",
       "    <tr>\n",
       "      <th>208438</th>\n",
       "      <td>04/13/2015</td>\n",
       "      <td>Mortgage</td>\n",
       "      <td>Conventional adjustable mortgage (ARM)</td>\n",
       "      <td>Loan servicing, payments, escrow account</td>\n",
       "      <td>NaN</td>\n",
       "      <td>Capital One 360 purchased ING Direct ( a year ...</td>\n",
       "      <td>NaN</td>\n",
       "      <td>Capital One</td>\n",
       "      <td>IL</td>\n",
       "      <td>606XX</td>\n",
       "      <td>NaN</td>\n",
       "      <td>Consent provided</td>\n",
       "      <td>Web</td>\n",
       "      <td>04/13/2015</td>\n",
       "      <td>Closed with explanation</td>\n",
       "      <td>Yes</td>\n",
       "      <td>No</td>\n",
       "      <td>1326600</td>\n",
       "    </tr>\n",
       "    <tr>\n",
       "      <th>142712</th>\n",
       "      <td>10/15/2014</td>\n",
       "      <td>Debt collection</td>\n",
       "      <td>Other (i.e. phone, health club, etc.)</td>\n",
       "      <td>Cont'd attempts collect debt not owed</td>\n",
       "      <td>Debt is not mine</td>\n",
       "      <td>NaN</td>\n",
       "      <td>NaN</td>\n",
       "      <td>AmerAssist A/R Solutions, Inc.</td>\n",
       "      <td>AZ</td>\n",
       "      <td>78525</td>\n",
       "      <td>NaN</td>\n",
       "      <td>NaN</td>\n",
       "      <td>Referral</td>\n",
       "      <td>10/21/2014</td>\n",
       "      <td>Closed</td>\n",
       "      <td>No</td>\n",
       "      <td>No</td>\n",
       "      <td>1071633</td>\n",
       "    </tr>\n",
       "    <tr>\n",
       "      <th>306488</th>\n",
       "      <td>11/16/2015</td>\n",
       "      <td>Mortgage</td>\n",
       "      <td>Conventional fixed mortgage</td>\n",
       "      <td>Loan servicing, payments, escrow account</td>\n",
       "      <td>NaN</td>\n",
       "      <td>NaN</td>\n",
       "      <td>NaN</td>\n",
       "      <td>JPMorgan Chase &amp; Co.</td>\n",
       "      <td>FL</td>\n",
       "      <td>32114</td>\n",
       "      <td>NaN</td>\n",
       "      <td>Consent not provided</td>\n",
       "      <td>Web</td>\n",
       "      <td>11/16/2015</td>\n",
       "      <td>Closed with explanation</td>\n",
       "      <td>Yes</td>\n",
       "      <td>No</td>\n",
       "      <td>1657365</td>\n",
       "    </tr>\n",
       "    <tr>\n",
       "      <th>509309</th>\n",
       "      <td>03/12/2016</td>\n",
       "      <td>Consumer Loan</td>\n",
       "      <td>Vehicle loan</td>\n",
       "      <td>Taking out the loan or lease</td>\n",
       "      <td>NaN</td>\n",
       "      <td>NaN</td>\n",
       "      <td>NaN</td>\n",
       "      <td>Honor Finance Holdings, LLC</td>\n",
       "      <td>IN</td>\n",
       "      <td>46410</td>\n",
       "      <td>NaN</td>\n",
       "      <td>NaN</td>\n",
       "      <td>Web</td>\n",
       "      <td>03/24/2016</td>\n",
       "      <td>Closed with explanation</td>\n",
       "      <td>Yes</td>\n",
       "      <td>Yes</td>\n",
       "      <td>1829424</td>\n",
       "    </tr>\n",
       "    <tr>\n",
       "      <th>475538</th>\n",
       "      <td>09/04/2013</td>\n",
       "      <td>Mortgage</td>\n",
       "      <td>Home equity loan or line of credit</td>\n",
       "      <td>Application, originator, mortgage broker</td>\n",
       "      <td>NaN</td>\n",
       "      <td>NaN</td>\n",
       "      <td>NaN</td>\n",
       "      <td>Citibank</td>\n",
       "      <td>SC</td>\n",
       "      <td>29579</td>\n",
       "      <td>NaN</td>\n",
       "      <td>NaN</td>\n",
       "      <td>Web</td>\n",
       "      <td>09/04/2013</td>\n",
       "      <td>Closed with non-monetary relief</td>\n",
       "      <td>Yes</td>\n",
       "      <td>No</td>\n",
       "      <td>513984</td>\n",
       "    </tr>\n",
       "  </tbody>\n",
       "</table>\n",
       "</div>"
      ],
      "text/plain": [
       "       date_received          product                             sub_product  \\\n",
       "157914    11/21/2014  Debt collection                             Payday loan   \n",
       "259490    07/27/2015      Credit card                                     NaN   \n",
       "336007    08/08/2012      Credit card                                     NaN   \n",
       "371759    05/20/2013         Mortgage                          Other mortgage   \n",
       "75165     06/05/2014  Debt collection                                 Medical   \n",
       "208438    04/13/2015         Mortgage  Conventional adjustable mortgage (ARM)   \n",
       "142712    10/15/2014  Debt collection   Other (i.e. phone, health club, etc.)   \n",
       "306488    11/16/2015         Mortgage             Conventional fixed mortgage   \n",
       "509309    03/12/2016    Consumer Loan                            Vehicle loan   \n",
       "475538    09/04/2013         Mortgage      Home equity loan or line of credit   \n",
       "\n",
       "                                           issue  \\\n",
       "157914           Disclosure verification of debt   \n",
       "259490                          Billing disputes   \n",
       "336007                      Credit determination   \n",
       "371759  Loan modification,collection,foreclosure   \n",
       "75165                      Communication tactics   \n",
       "208438  Loan servicing, payments, escrow account   \n",
       "142712     Cont'd attempts collect debt not owed   \n",
       "306488  Loan servicing, payments, escrow account   \n",
       "509309              Taking out the loan or lease   \n",
       "475538  Application, originator, mortgage broker   \n",
       "\n",
       "                                   sub_issue  \\\n",
       "157914  Not given enough info to verify debt   \n",
       "259490                                   NaN   \n",
       "336007                                   NaN   \n",
       "371759                                   NaN   \n",
       "75165             Frequent or repeated calls   \n",
       "208438                                   NaN   \n",
       "142712                      Debt is not mine   \n",
       "306488                                   NaN   \n",
       "509309                                   NaN   \n",
       "475538                                   NaN   \n",
       "\n",
       "                             consumer_complaint_narrative  \\\n",
       "157914                                                NaN   \n",
       "259490                                                NaN   \n",
       "336007                                                NaN   \n",
       "371759                                                NaN   \n",
       "75165                                                 NaN   \n",
       "208438  Capital One 360 purchased ING Direct ( a year ...   \n",
       "142712                                                NaN   \n",
       "306488                                                NaN   \n",
       "509309                                                NaN   \n",
       "475538                                                NaN   \n",
       "\n",
       "       company_public_response                               company state  \\\n",
       "157914                     NaN           Turning Point Solutions LLC    GA   \n",
       "259490                     NaN                                  Amex    AZ   \n",
       "336007                     NaN                              Citibank    CA   \n",
       "371759                     NaN                       Bank of America    IL   \n",
       "75165                      NaN  Nationwide Credit & Collection, Inc.    IL   \n",
       "208438                     NaN                           Capital One    IL   \n",
       "142712                     NaN        AmerAssist A/R Solutions, Inc.    AZ   \n",
       "306488                     NaN                  JPMorgan Chase & Co.    FL   \n",
       "509309                     NaN           Honor Finance Holdings, LLC    IN   \n",
       "475538                     NaN                              Citibank    SC   \n",
       "\n",
       "       zipcode tags consumer_consent_provided submitted_via  \\\n",
       "157914   30012  NaN                       NaN           Web   \n",
       "259490   85250  NaN      Consent not provided           Web   \n",
       "336007   90064  NaN                       NaN           Web   \n",
       "371759   60126  NaN                       NaN      Referral   \n",
       "75165    60187  NaN                       NaN           Web   \n",
       "208438   606XX  NaN          Consent provided           Web   \n",
       "142712   78525  NaN                       NaN      Referral   \n",
       "306488   32114  NaN      Consent not provided           Web   \n",
       "509309   46410  NaN                       NaN           Web   \n",
       "475538   29579  NaN                       NaN           Web   \n",
       "\n",
       "       date_sent_to_company     company_response_to_consumer timely_response  \\\n",
       "157914           11/21/2014  Closed with non-monetary relief             Yes   \n",
       "259490           07/28/2015          Closed with explanation             Yes   \n",
       "336007           10/25/2012          Closed with explanation             Yes   \n",
       "371759           05/20/2013          Closed with explanation             Yes   \n",
       "75165            06/05/2014          Closed with explanation             Yes   \n",
       "208438           04/13/2015          Closed with explanation             Yes   \n",
       "142712           10/21/2014                           Closed              No   \n",
       "306488           11/16/2015          Closed with explanation             Yes   \n",
       "509309           03/24/2016          Closed with explanation             Yes   \n",
       "475538           09/04/2013  Closed with non-monetary relief             Yes   \n",
       "\n",
       "       consumer_disputed?  complaint_id  \n",
       "157914                 No       1132659  \n",
       "259490                Yes       1489237  \n",
       "336007                 No        131972  \n",
       "371759                 No        410858  \n",
       "75165                 Yes        882109  \n",
       "208438                 No       1326600  \n",
       "142712                 No       1071633  \n",
       "306488                 No       1657365  \n",
       "509309                Yes       1829424  \n",
       "475538                 No        513984  "
      ]
     },
     "execution_count": 4,
     "metadata": {},
     "output_type": "execute_result"
    }
   ],
   "source": [
    "data.sample(10)"
   ]
  },
  {
   "cell_type": "code",
   "execution_count": 5,
   "id": "1c14d33a-5c43-4cb4-b497-c157050cf5b5",
   "metadata": {},
   "outputs": [
    {
     "name": "stdout",
     "output_type": "stream",
     "text": [
      "<class 'pandas.core.frame.DataFrame'>\n",
      "RangeIndex: 555957 entries, 0 to 555956\n",
      "Data columns (total 18 columns):\n",
      " #   Column                        Non-Null Count   Dtype \n",
      "---  ------                        --------------   ----- \n",
      " 0   date_received                 555957 non-null  object\n",
      " 1   product                       555957 non-null  object\n",
      " 2   sub_product                   397635 non-null  object\n",
      " 3   issue                         555957 non-null  object\n",
      " 4   sub_issue                     212622 non-null  object\n",
      " 5   consumer_complaint_narrative  66806 non-null   object\n",
      " 6   company_public_response       85124 non-null   object\n",
      " 7   company                       555957 non-null  object\n",
      " 8   state                         551070 non-null  object\n",
      " 9   zipcode                       551452 non-null  object\n",
      " 10  tags                          77959 non-null   object\n",
      " 11  consumer_consent_provided     123458 non-null  object\n",
      " 12  submitted_via                 555957 non-null  object\n",
      " 13  date_sent_to_company          555957 non-null  object\n",
      " 14  company_response_to_consumer  555957 non-null  object\n",
      " 15  timely_response               555957 non-null  object\n",
      " 16  consumer_disputed?            555957 non-null  object\n",
      " 17  complaint_id                  555957 non-null  int64 \n",
      "dtypes: int64(1), object(17)\n",
      "memory usage: 76.3+ MB\n"
     ]
    }
   ],
   "source": [
    "data.info()"
   ]
  },
  {
   "cell_type": "markdown",
   "id": "5d063af2-614b-4513-bc3b-b2f1af54522e",
   "metadata": {},
   "source": [
    "##### Looking into the info, we infer that there are multiple rows with abundant null values which would not contribute much to prediction"
   ]
  },
  {
   "cell_type": "code",
   "execution_count": 6,
   "id": "6a3bbfa2-9852-48cd-b7d7-cd810b0eb432",
   "metadata": {},
   "outputs": [
    {
     "name": "stdout",
     "output_type": "stream",
     "text": [
      "shape of the data =  (555957, 18)\n"
     ]
    }
   ],
   "source": [
    "print(\"shape of the data = \", data.shape)"
   ]
  },
  {
   "cell_type": "markdown",
   "id": "757f6fc1-2b9f-448f-a0b9-de854280f317",
   "metadata": {},
   "source": [
    "### Data pre-processing"
   ]
  },
  {
   "cell_type": "code",
   "execution_count": 7,
   "id": "f240b54a-429f-4f1f-9d76-b060b3d300cb",
   "metadata": {},
   "outputs": [
    {
     "data": {
      "text/plain": [
       "0"
      ]
     },
     "execution_count": 7,
     "metadata": {},
     "output_type": "execute_result"
    }
   ],
   "source": [
    "data.duplicated().sum()"
   ]
  },
  {
   "cell_type": "code",
   "execution_count": 8,
   "id": "0c59fa84-c9a6-4095-a543-3caaddf4a1ce",
   "metadata": {},
   "outputs": [
    {
     "data": {
      "text/plain": [
       "date_received                        0\n",
       "product                              0\n",
       "sub_product                     158322\n",
       "issue                                0\n",
       "sub_issue                       343335\n",
       "consumer_complaint_narrative    489151\n",
       "company_public_response         470833\n",
       "company                              0\n",
       "state                             4887\n",
       "zipcode                           4505\n",
       "tags                            477998\n",
       "consumer_consent_provided       432499\n",
       "submitted_via                        0\n",
       "date_sent_to_company                 0\n",
       "company_response_to_consumer         0\n",
       "timely_response                      0\n",
       "consumer_disputed?                   0\n",
       "complaint_id                         0\n",
       "dtype: int64"
      ]
     },
     "execution_count": 8,
     "metadata": {},
     "output_type": "execute_result"
    }
   ],
   "source": [
    "data.isnull().sum()"
   ]
  },
  {
   "cell_type": "markdown",
   "id": "a585c202-7678-4f0a-abf3-35083ac27418",
   "metadata": {},
   "source": [
    "##### We'll drop the columns which have more than 25% of null values "
   ]
  },
  {
   "cell_type": "code",
   "execution_count": 9,
   "id": "eaa979ae-1e84-426f-870d-2a055277d24a",
   "metadata": {},
   "outputs": [],
   "source": [
    "for i in data.columns:\n",
    "    if(data[i].isnull().sum()/len(data) >= 0.25):\n",
    "        data = data.drop(i, axis = 1)"
   ]
  },
  {
   "cell_type": "code",
   "execution_count": 10,
   "id": "481363b2-c026-4a49-a82f-0c51e6e48c05",
   "metadata": {},
   "outputs": [
    {
     "data": {
      "text/plain": [
       "Index(['date_received', 'product', 'issue', 'company', 'state', 'zipcode',\n",
       "       'submitted_via', 'date_sent_to_company', 'company_response_to_consumer',\n",
       "       'timely_response', 'consumer_disputed?', 'complaint_id'],\n",
       "      dtype='object')"
      ]
     },
     "execution_count": 10,
     "metadata": {},
     "output_type": "execute_result"
    }
   ],
   "source": [
    "data.columns"
   ]
  },
  {
   "cell_type": "code",
   "execution_count": 11,
   "id": "7543fcec-a136-4853-9e64-d05afd659e17",
   "metadata": {},
   "outputs": [
    {
     "data": {
      "text/plain": [
       "date_received                      0\n",
       "product                            0\n",
       "issue                              0\n",
       "company                            0\n",
       "state                           4887\n",
       "zipcode                         4505\n",
       "submitted_via                      0\n",
       "date_sent_to_company               0\n",
       "company_response_to_consumer       0\n",
       "timely_response                    0\n",
       "consumer_disputed?                 0\n",
       "complaint_id                       0\n",
       "dtype: int64"
      ]
     },
     "execution_count": 11,
     "metadata": {},
     "output_type": "execute_result"
    }
   ],
   "source": [
    "data.isnull().sum()"
   ]
  },
  {
   "cell_type": "markdown",
   "id": "f73575bc-f523-4445-b1ab-da63db73d2c3",
   "metadata": {},
   "source": [
    "##### We are left with only the zipcode and state to deal with"
   ]
  },
  {
   "cell_type": "code",
   "execution_count": 12,
   "id": "e822fa9a-fde2-4e20-9827-9743b6a9a42c",
   "metadata": {},
   "outputs": [
    {
     "data": {
      "text/plain": [
       "62"
      ]
     },
     "execution_count": 12,
     "metadata": {},
     "output_type": "execute_result"
    }
   ],
   "source": [
    "data['state'].nunique()"
   ]
  },
  {
   "cell_type": "code",
   "execution_count": 13,
   "id": "2b0015be-ea9d-42a4-81fe-bda99e86068d",
   "metadata": {},
   "outputs": [
    {
     "data": {
      "text/plain": [
       "state\n",
       "CA    81700\n",
       "FL    53673\n",
       "TX    41352\n",
       "NY    38266\n",
       "GA    24548\n",
       "      ...  \n",
       "MH       27\n",
       "MP       19\n",
       "AS       17\n",
       "PW        9\n",
       "AA        9\n",
       "Name: count, Length: 62, dtype: int64"
      ]
     },
     "execution_count": 13,
     "metadata": {},
     "output_type": "execute_result"
    }
   ],
   "source": [
    "data[\"state\"].value_counts()"
   ]
  },
  {
   "cell_type": "markdown",
   "id": "ae999455-3d9c-4bea-aa3e-b8a7b66733f8",
   "metadata": {},
   "source": [
    "##### Since the complaints from CA are the highest with a large margin, we can impute the null data with CA and drop the zipcodes"
   ]
  },
  {
   "cell_type": "code",
   "execution_count": 14,
   "id": "c8bcf16d-0189-4936-b0ff-df7ffbea5e4e",
   "metadata": {},
   "outputs": [],
   "source": [
    "data['state'].fillna(\"CA\", inplace = True)"
   ]
  },
  {
   "cell_type": "code",
   "execution_count": 15,
   "id": "d2d91bb9-813c-4092-9c65-84768e9bd65d",
   "metadata": {},
   "outputs": [],
   "source": [
    "data = data.drop(['zipcode'], axis = 1)"
   ]
  },
  {
   "cell_type": "code",
   "execution_count": 16,
   "id": "4eb2c5e9-28a6-4b8b-aecf-d113ea79b958",
   "metadata": {},
   "outputs": [
    {
     "data": {
      "text/plain": [
       "95"
      ]
     },
     "execution_count": 16,
     "metadata": {},
     "output_type": "execute_result"
    }
   ],
   "source": [
    "data['issue'].nunique()"
   ]
  },
  {
   "cell_type": "code",
   "execution_count": 17,
   "id": "3efd7fe9-e3ef-4555-ad58-e6e57488b2ff",
   "metadata": {},
   "outputs": [],
   "source": [
    "data['date_received'] = pd.to_datetime(data['date_received'])\n",
    "data['date_sent_to_company'] = pd.to_datetime(data['date_sent_to_company'])"
   ]
  },
  {
   "cell_type": "code",
   "execution_count": 18,
   "id": "fe3eff96-19ff-4d3b-bd9c-e9a57cf831eb",
   "metadata": {},
   "outputs": [],
   "source": [
    "data = data.drop(['complaint_id'], axis = 1)"
   ]
  },
  {
   "cell_type": "markdown",
   "id": "2c430a1b-0626-4405-8e6c-1e4aca7d0817",
   "metadata": {},
   "source": [
    "##### We have dropped the IDs since they do not contribute to prediction"
   ]
  },
  {
   "cell_type": "code",
   "execution_count": 19,
   "id": "27be6ec6-2cc3-4220-a6b5-61ff49917b02",
   "metadata": {},
   "outputs": [
    {
     "data": {
      "text/plain": [
       "array(['Closed with explanation', 'Closed with monetary relief',\n",
       "       'Closed with non-monetary relief', 'Closed', 'Untimely response',\n",
       "       'In progress', 'Closed without relief', 'Closed with relief'],\n",
       "      dtype=object)"
      ]
     },
     "execution_count": 19,
     "metadata": {},
     "output_type": "execute_result"
    }
   ],
   "source": [
    "data['company_response_to_consumer'].unique()"
   ]
  },
  {
   "cell_type": "markdown",
   "id": "cc6307dd-26e9-4de4-b47c-7ba6e1cf70e3",
   "metadata": {},
   "source": [
    "##### We will take into account the delay in registering the concern to the company and the date and month of the registration"
   ]
  },
  {
   "cell_type": "code",
   "execution_count": 20,
   "id": "9c83d279-44c9-4349-b827-55f3fe92c2d5",
   "metadata": {},
   "outputs": [],
   "source": [
    "data['latency'] = (data['date_sent_to_company'] - data['date_received']).dt.days"
   ]
  },
  {
   "cell_type": "code",
   "execution_count": 21,
   "id": "ddc5e197-6b62-4ca7-a663-4632f38b0e40",
   "metadata": {},
   "outputs": [],
   "source": [
    "data['day'] = data['date_sent_to_company'].dt.day\n",
    "data['month'] = data['date_sent_to_company'].dt.month"
   ]
  },
  {
   "cell_type": "code",
   "execution_count": 22,
   "id": "6a4753b8-b183-4e50-a3d4-ee0665e7b5ec",
   "metadata": {},
   "outputs": [],
   "source": [
    "data = data.drop(['date_received', 'date_sent_to_company'], axis = 1)"
   ]
  },
  {
   "cell_type": "code",
   "execution_count": 23,
   "id": "9e7b6371-5da6-4e65-b12a-6d34a710d690",
   "metadata": {},
   "outputs": [
    {
     "data": {
      "text/html": [
       "<div>\n",
       "<style scoped>\n",
       "    .dataframe tbody tr th:only-of-type {\n",
       "        vertical-align: middle;\n",
       "    }\n",
       "\n",
       "    .dataframe tbody tr th {\n",
       "        vertical-align: top;\n",
       "    }\n",
       "\n",
       "    .dataframe thead th {\n",
       "        text-align: right;\n",
       "    }\n",
       "</style>\n",
       "<table border=\"1\" class=\"dataframe\">\n",
       "  <thead>\n",
       "    <tr style=\"text-align: right;\">\n",
       "      <th></th>\n",
       "      <th>product</th>\n",
       "      <th>issue</th>\n",
       "      <th>company</th>\n",
       "      <th>state</th>\n",
       "      <th>submitted_via</th>\n",
       "      <th>company_response_to_consumer</th>\n",
       "      <th>timely_response</th>\n",
       "      <th>consumer_disputed?</th>\n",
       "      <th>latency</th>\n",
       "      <th>day</th>\n",
       "      <th>month</th>\n",
       "    </tr>\n",
       "  </thead>\n",
       "  <tbody>\n",
       "    <tr>\n",
       "      <th>0</th>\n",
       "      <td>Mortgage</td>\n",
       "      <td>Loan modification,collection,foreclosure</td>\n",
       "      <td>U.S. Bancorp</td>\n",
       "      <td>CA</td>\n",
       "      <td>Referral</td>\n",
       "      <td>Closed with explanation</td>\n",
       "      <td>Yes</td>\n",
       "      <td>Yes</td>\n",
       "      <td>4</td>\n",
       "      <td>3</td>\n",
       "      <td>9</td>\n",
       "    </tr>\n",
       "    <tr>\n",
       "      <th>1</th>\n",
       "      <td>Mortgage</td>\n",
       "      <td>Loan servicing, payments, escrow account</td>\n",
       "      <td>Wells Fargo &amp; Company</td>\n",
       "      <td>CA</td>\n",
       "      <td>Referral</td>\n",
       "      <td>Closed with explanation</td>\n",
       "      <td>Yes</td>\n",
       "      <td>Yes</td>\n",
       "      <td>4</td>\n",
       "      <td>3</td>\n",
       "      <td>9</td>\n",
       "    </tr>\n",
       "    <tr>\n",
       "      <th>2</th>\n",
       "      <td>Credit reporting</td>\n",
       "      <td>Incorrect information on credit report</td>\n",
       "      <td>Wells Fargo &amp; Company</td>\n",
       "      <td>NY</td>\n",
       "      <td>Postal mail</td>\n",
       "      <td>Closed with explanation</td>\n",
       "      <td>Yes</td>\n",
       "      <td>No</td>\n",
       "      <td>19</td>\n",
       "      <td>18</td>\n",
       "      <td>9</td>\n",
       "    </tr>\n",
       "    <tr>\n",
       "      <th>3</th>\n",
       "      <td>Student loan</td>\n",
       "      <td>Repaying your loan</td>\n",
       "      <td>Navient Solutions, Inc.</td>\n",
       "      <td>MD</td>\n",
       "      <td>Email</td>\n",
       "      <td>Closed with explanation</td>\n",
       "      <td>Yes</td>\n",
       "      <td>Yes</td>\n",
       "      <td>0</td>\n",
       "      <td>30</td>\n",
       "      <td>8</td>\n",
       "    </tr>\n",
       "    <tr>\n",
       "      <th>4</th>\n",
       "      <td>Debt collection</td>\n",
       "      <td>False statements or representation</td>\n",
       "      <td>Resurgent Capital Services L.P.</td>\n",
       "      <td>GA</td>\n",
       "      <td>Web</td>\n",
       "      <td>Closed with explanation</td>\n",
       "      <td>Yes</td>\n",
       "      <td>Yes</td>\n",
       "      <td>0</td>\n",
       "      <td>30</td>\n",
       "      <td>8</td>\n",
       "    </tr>\n",
       "  </tbody>\n",
       "</table>\n",
       "</div>"
      ],
      "text/plain": [
       "            product                                     issue  \\\n",
       "0          Mortgage  Loan modification,collection,foreclosure   \n",
       "1          Mortgage  Loan servicing, payments, escrow account   \n",
       "2  Credit reporting    Incorrect information on credit report   \n",
       "3      Student loan                        Repaying your loan   \n",
       "4   Debt collection        False statements or representation   \n",
       "\n",
       "                           company state submitted_via  \\\n",
       "0                     U.S. Bancorp    CA      Referral   \n",
       "1            Wells Fargo & Company    CA      Referral   \n",
       "2            Wells Fargo & Company    NY   Postal mail   \n",
       "3          Navient Solutions, Inc.    MD         Email   \n",
       "4  Resurgent Capital Services L.P.    GA           Web   \n",
       "\n",
       "  company_response_to_consumer timely_response consumer_disputed?  latency  \\\n",
       "0      Closed with explanation             Yes                Yes        4   \n",
       "1      Closed with explanation             Yes                Yes        4   \n",
       "2      Closed with explanation             Yes                 No       19   \n",
       "3      Closed with explanation             Yes                Yes        0   \n",
       "4      Closed with explanation             Yes                Yes        0   \n",
       "\n",
       "   day  month  \n",
       "0    3      9  \n",
       "1    3      9  \n",
       "2   18      9  \n",
       "3   30      8  \n",
       "4   30      8  "
      ]
     },
     "execution_count": 23,
     "metadata": {},
     "output_type": "execute_result"
    }
   ],
   "source": [
    "data.head()"
   ]
  },
  {
   "cell_type": "markdown",
   "id": "03a0cc72-eb29-4b6a-a2f4-258119f3861e",
   "metadata": {},
   "source": [
    "##### Checking the number of classes in each categorical column"
   ]
  },
  {
   "cell_type": "code",
   "execution_count": 25,
   "id": "b4582fbe-ce01-43e8-8566-9838072e25f0",
   "metadata": {},
   "outputs": [
    {
     "data": {
      "text/plain": [
       "11"
      ]
     },
     "execution_count": 25,
     "metadata": {},
     "output_type": "execute_result"
    }
   ],
   "source": [
    "data['product'].nunique()"
   ]
  },
  {
   "cell_type": "code",
   "execution_count": 26,
   "id": "7cf70b25-f9c7-4cae-bc93-3012e5318b97",
   "metadata": {},
   "outputs": [
    {
     "data": {
      "text/plain": [
       "62"
      ]
     },
     "execution_count": 26,
     "metadata": {},
     "output_type": "execute_result"
    }
   ],
   "source": [
    "data['state'].nunique()"
   ]
  },
  {
   "cell_type": "code",
   "execution_count": 27,
   "id": "dc6e3e39-8593-4ab5-99a8-a962735b68df",
   "metadata": {},
   "outputs": [
    {
     "data": {
      "text/plain": [
       "6"
      ]
     },
     "execution_count": 27,
     "metadata": {},
     "output_type": "execute_result"
    }
   ],
   "source": [
    "data['submitted_via'].nunique()"
   ]
  },
  {
   "cell_type": "code",
   "execution_count": 28,
   "id": "9728aaeb-b772-4127-8bc7-f3dd62443ef6",
   "metadata": {},
   "outputs": [
    {
     "data": {
      "text/plain": [
       "8"
      ]
     },
     "execution_count": 28,
     "metadata": {},
     "output_type": "execute_result"
    }
   ],
   "source": [
    "data['company_response_to_consumer'].nunique()"
   ]
  },
  {
   "cell_type": "code",
   "execution_count": 29,
   "id": "58cc6550-0a9e-46fa-ac1e-dff4eb3e0988",
   "metadata": {},
   "outputs": [
    {
     "data": {
      "text/plain": [
       "product\n",
       "Mortgage                   186475\n",
       "Debt collection            101052\n",
       "Credit reporting            91854\n",
       "Credit card                 66468\n",
       "Bank account or service     62563\n",
       "Consumer Loan               20990\n",
       "Student loan                15839\n",
       "Payday loan                  3877\n",
       "Money transfers              3812\n",
       "Prepaid card                 2470\n",
       "Other financial service       557\n",
       "Name: count, dtype: int64"
      ]
     },
     "execution_count": 29,
     "metadata": {},
     "output_type": "execute_result"
    }
   ],
   "source": [
    "data['product'].value_counts()"
   ]
  },
  {
   "cell_type": "markdown",
   "id": "14e0aece-6a14-4eb1-bdbf-accd0bb06b7f",
   "metadata": {},
   "source": [
    "### Data Analysis and Visualisation"
   ]
  },
  {
   "cell_type": "code",
   "execution_count": 30,
   "id": "e89de86b-8e40-41fd-aed1-338eb3e479d0",
   "metadata": {},
   "outputs": [
    {
     "data": {
      "image/png": "[encoded data removed]",
      "text/plain": [
       "<Figure size 1000x400 with 1 Axes>"
      ]
     },
     "metadata": {},
     "output_type": "display_data"
    }
   ],
   "source": [
    "plt.figure(figsize = (10, 4))\n",
    "fig = sns.countplot(data = data, x = 'product')\n",
    "fig.set_xticklabels(fig.get_xticklabels(), rotation=90)\n",
    "plt.xlabel(\"product name\")\n",
    "plt.title(\"Product types and count\")\n",
    "plt.show()"
   ]
  },
  {
   "cell_type": "markdown",
   "id": "faa5c100-640f-4fd4-ade1-dbf054c487dc",
   "metadata": {},
   "source": [
    "##### We find that the most concerns are regarding Mortgages, followed by Debts and Credits"
   ]
  },
  {
   "cell_type": "code",
   "execution_count": 31,
   "id": "48c47c2a-7a2a-4fc5-a465-98b440f25ec3",
   "metadata": {},
   "outputs": [
    {
     "name": "stdout",
     "output_type": "stream",
     "text": [
      "percentage share of products in the complaints product\n",
      "Mortgage                   33.541263\n",
      "Debt collection            18.176226\n",
      "Credit reporting           16.521781\n",
      "Credit card                11.955601\n",
      "Bank account or service    11.253208\n",
      "Consumer Loan               3.775472\n",
      "Student loan                2.848961\n",
      "Payday loan                 0.697356\n",
      "Money transfers             0.685665\n",
      "Prepaid card                0.444279\n",
      "Other financial service     0.100188\n",
      "Name: count, dtype: float64\n"
     ]
    }
   ],
   "source": [
    "print(\"percentage share of products in the complaints\", data['product'].value_counts()/len(data)*100)"
   ]
  },
  {
   "cell_type": "code",
   "execution_count": 32,
   "id": "5d6248e4-b48f-4a5c-a86b-5743f6984a1b",
   "metadata": {},
   "outputs": [
    {
     "data": {
      "image/png": "[encoded data removed]",
      "text/plain": [
       "<Figure size 1000x400 with 1 Axes>"
      ]
     },
     "metadata": {},
     "output_type": "display_data"
    }
   ],
   "source": [
    "plt.figure(figsize = (10, 4))\n",
    "fig = sns.countplot(data = data, x = 'state', order=data['state'].value_counts().iloc[:15].index)\n",
    "fig.set_xticklabels(fig.get_xticklabels(), rotation=90)\n",
    "plt.xlabel(\"state names\")\n",
    "plt.title(\"complaints registered per state\")\n",
    "plt.show()"
   ]
  },
  {
   "cell_type": "code",
   "execution_count": 33,
   "id": "492f4dd4-35a9-4d16-a9fd-1f2d95ed91bf",
   "metadata": {},
   "outputs": [],
   "source": [
    "#CA is the state with the most number of complaints"
   ]
  },
  {
   "cell_type": "code",
   "execution_count": 34,
   "id": "af38495d-69ad-47c0-a0a9-ee18fd350e69",
   "metadata": {},
   "outputs": [],
   "source": [
    "ca_data = data[data['state'] == 'CA']"
   ]
  },
  {
   "cell_type": "code",
   "execution_count": 35,
   "id": "b8ec04a3-8534-4018-be55-d42f34446982",
   "metadata": {},
   "outputs": [
    {
     "name": "stdout",
     "output_type": "stream",
     "text": [
      "percentage share of products in the complaints in CA product\n",
      "Mortgage                   39.585619\n",
      "Debt collection            16.482844\n",
      "Credit reporting           14.522965\n",
      "Bank account or service    11.237253\n",
      "Credit card                11.169113\n",
      "Consumer Loan               2.984282\n",
      "Student loan                2.093848\n",
      "Money transfers             0.771478\n",
      "Payday loan                 0.628270\n",
      "Prepaid card                0.423851\n",
      "Other financial service     0.100477\n",
      "Name: count, dtype: float64\n"
     ]
    }
   ],
   "source": [
    "print(\"percentage share of products in the complaints in CA\", ca_data['product'].value_counts()/len(ca_data)*100)"
   ]
  },
  {
   "cell_type": "code",
   "execution_count": 36,
   "id": "642faef2-6b04-4255-9d7b-14ea12498004",
   "metadata": {},
   "outputs": [
    {
     "name": "stdout",
     "output_type": "stream",
     "text": [
      "percentage share of products in the complaints in CA company_response_to_consumer\n",
      "Closed with explanation            73.547992\n",
      "Closed with non-monetary relief    12.012196\n",
      "Closed with monetary relief         6.168362\n",
      "Closed without relief               3.770774\n",
      "Closed                              2.470348\n",
      "Closed with relief                  0.860406\n",
      "In progress                         0.706804\n",
      "Untimely response                   0.463118\n",
      "Name: count, dtype: float64\n"
     ]
    }
   ],
   "source": [
    "print(\"percentage share of products in the complaints in CA\", ca_data['company_response_to_consumer'].value_counts()/len(ca_data)*100)"
   ]
  },
  {
   "cell_type": "code",
   "execution_count": 37,
   "id": "f9cf8f77-26bb-4559-b4ac-ea97c9758004",
   "metadata": {},
   "outputs": [
    {
     "data": {
      "image/png": "[encoded data removed]",
      "text/plain": [
       "<Figure size 500x500 with 1 Axes>"
      ]
     },
     "metadata": {},
     "output_type": "display_data"
    }
   ],
   "source": [
    "plt.figure(figsize = (5,5))\n",
    "fig = sns.countplot(data = ca_data, x = 'consumer_disputed?')\n",
    "fig.set_xticklabels(fig.get_xticklabels(), rotation=90)\n",
    "plt.xlabel(\"Consumer Disputed\")\n",
    "plt.show()"
   ]
  },
  {
   "cell_type": "code",
   "execution_count": 38,
   "id": "590b97bb-8b9e-4a3f-ac2d-d2a4e1d55040",
   "metadata": {},
   "outputs": [],
   "source": [
    "#maybe complaints are high because they are being resolved well"
   ]
  },
  {
   "cell_type": "code",
   "execution_count": 39,
   "id": "3bfe2738-c074-4eb7-a0d0-bf421ba00747",
   "metadata": {},
   "outputs": [
    {
     "data": {
      "image/png": "[encoded data removed]",
      "text/plain": [
       "<Figure size 500x500 with 1 Axes>"
      ]
     },
     "metadata": {},
     "output_type": "display_data"
    }
   ],
   "source": [
    "plt.figure(figsize = (5,5))\n",
    "fig = sns.countplot(data = ca_data, x = 'timely_response')\n",
    "fig.set_xticklabels(fig.get_xticklabels(), rotation=90)\n",
    "plt.xlabel(\"Timely Response?\")\n",
    "plt.show()"
   ]
  },
  {
   "cell_type": "code",
   "execution_count": 40,
   "id": "98196893-59fb-4bad-9c22-e47e1cfaddc9",
   "metadata": {},
   "outputs": [],
   "source": [
    "#consumers file more complaints in CA because they are catered well"
   ]
  },
  {
   "cell_type": "code",
   "execution_count": 41,
   "id": "572949dc-98f4-4d90-8205-553277ffd249",
   "metadata": {},
   "outputs": [],
   "source": [
    "fl_data = data[data['state'] == 'FL']"
   ]
  },
  {
   "cell_type": "code",
   "execution_count": 42,
   "id": "ed294fde-9e78-4930-bba3-e75b62da36ee",
   "metadata": {},
   "outputs": [
    {
     "name": "stdout",
     "output_type": "stream",
     "text": [
      "percentage share of products in the complaints in CA product\n",
      "Mortgage                   38.447637\n",
      "Debt collection            17.338327\n",
      "Credit reporting           16.565126\n",
      "Bank account or service    10.849030\n",
      "Credit card                10.524845\n",
      "Consumer Loan               3.197138\n",
      "Student loan                1.816556\n",
      "Money transfers             0.534720\n",
      "Payday loan                 0.389395\n",
      "Prepaid card                0.262702\n",
      "Other financial service     0.074525\n",
      "Name: count, dtype: float64\n"
     ]
    }
   ],
   "source": [
    "print(\"percentage share of products in the complaints in CA\", fl_data['product'].value_counts()/len(fl_data)*100)"
   ]
  },
  {
   "cell_type": "code",
   "execution_count": 43,
   "id": "374a9fac-721b-401d-98f5-b25228b295dd",
   "metadata": {},
   "outputs": [
    {
     "name": "stdout",
     "output_type": "stream",
     "text": [
      "percentage share of products in the complaints in CA company_response_to_consumer\n",
      "Closed with explanation            74.482514\n",
      "Closed with non-monetary relief    12.207255\n",
      "Closed with monetary relief         6.003018\n",
      "Closed without relief               3.014551\n",
      "Closed                              2.209677\n",
      "Closed with relief                  0.827232\n",
      "In progress                         0.754569\n",
      "Untimely response                   0.501183\n",
      "Name: count, dtype: float64\n"
     ]
    }
   ],
   "source": [
    "print(\"percentage share of products in the complaints in CA\", fl_data['company_response_to_consumer'].value_counts()/len(fl_data)*100)"
   ]
  },
  {
   "cell_type": "code",
   "execution_count": 44,
   "id": "4a6395b4-3094-441e-abc3-f761cce16dd5",
   "metadata": {},
   "outputs": [
    {
     "data": {
      "image/png": "[encoded data removed]",
      "text/plain": [
       "<Figure size 500x500 with 1 Axes>"
      ]
     },
     "metadata": {},
     "output_type": "display_data"
    }
   ],
   "source": [
    "plt.figure(figsize = (5,5))\n",
    "fig = sns.countplot(data = fl_data, x = 'consumer_disputed?')\n",
    "fig.set_xticklabels(fig.get_xticklabels(), rotation=90)\n",
    "plt.xlabel(\"Consumer Disputed\")\n",
    "plt.show()"
   ]
  },
  {
   "cell_type": "code",
   "execution_count": 45,
   "id": "27b2f6e7-cf68-4a32-bd6d-82b7a10cc640",
   "metadata": {},
   "outputs": [
    {
     "data": {
      "image/png": "[encoded data removed]",
      "text/plain": [
       "<Figure size 500x500 with 1 Axes>"
      ]
     },
     "metadata": {},
     "output_type": "display_data"
    }
   ],
   "source": [
    "plt.figure(figsize = (5,5))\n",
    "fig = sns.countplot(data = fl_data, x = 'timely_response')\n",
    "fig.set_xticklabels(fig.get_xticklabels(), rotation=90)\n",
    "plt.xlabel(\"Timely Response?\")\n",
    "plt.show()"
   ]
  },
  {
   "cell_type": "markdown",
   "id": "9f97e4d9-a2f2-4e58-b567-27917c31dcad",
   "metadata": {},
   "source": [
    "##### We observe that in the top 2 states with the most complaints \"mortgage\" was the highest cause of complaints and the consumers ended up satisfied "
   ]
  },
  {
   "cell_type": "markdown",
   "id": "62fcf793-6d37-4560-ae28-c7158661f305",
   "metadata": {},
   "source": [
    "##### It could be concluded that complaints were high in these states because of the efficient resolution of the complaints"
   ]
  },
  {
   "cell_type": "code",
   "execution_count": 47,
   "id": "4cfa441d-e37f-41a6-bc4e-0647cb7c9aa1",
   "metadata": {},
   "outputs": [
    {
     "data": {
      "image/png": "[encoded data removed]",
      "text/plain": [
       "<Figure size 500x500 with 1 Axes>"
      ]
     },
     "metadata": {},
     "output_type": "display_data"
    }
   ],
   "source": [
    "plt.figure(figsize = (5,5))\n",
    "fig = sns.countplot(data = data, x = 'submitted_via')\n",
    "fig.set_xticklabels(fig.get_xticklabels(), rotation=90)\n",
    "plt.xlabel(\"Submission Methods\")\n",
    "plt.show()"
   ]
  },
  {
   "cell_type": "code",
   "execution_count": 48,
   "id": "88170054-9833-4419-a1b5-4b58210ec2d2",
   "metadata": {},
   "outputs": [
    {
     "data": {
      "image/png": "[encoded data removed]",
      "text/plain": [
       "<Figure size 500x500 with 1 Axes>"
      ]
     },
     "metadata": {},
     "output_type": "display_data"
    }
   ],
   "source": [
    "plt.figure(figsize = (5,5))\n",
    "fig = sns.countplot(data = data, x = 'consumer_disputed?')\n",
    "fig.set_xticklabels(fig.get_xticklabels(), rotation=90)\n",
    "plt.xlabel(\"Consumer Disputed\")\n",
    "plt.show()"
   ]
  },
  {
   "cell_type": "code",
   "execution_count": 49,
   "id": "54d2a14c-04b2-4a34-afdf-15d9ad6aa520",
   "metadata": {},
   "outputs": [
    {
     "data": {
      "image/png": "[encoded data removed]",
      "text/plain": [
       "<Figure size 500x500 with 1 Axes>"
      ]
     },
     "metadata": {},
     "output_type": "display_data"
    }
   ],
   "source": [
    "plt.figure(figsize = (5,5))\n",
    "fig = sns.countplot(data = data, x = 'company_response_to_consumer')\n",
    "fig.set_xticklabels(fig.get_xticklabels(), rotation=90)\n",
    "plt.xlabel(\"Response Distribution\")\n",
    "plt.show()"
   ]
  },
  {
   "cell_type": "markdown",
   "id": "c3db35f4-4fc0-4a89-a802-35ea90820f02",
   "metadata": {},
   "source": [
    "#### Analysing Latency and Dispute Behaviour"
   ]
  },
  {
   "cell_type": "code",
   "execution_count": 51,
   "id": "9303a791-6345-4bd2-9184-b5843abd8e1d",
   "metadata": {},
   "outputs": [
    {
     "name": "stdout",
     "output_type": "stream",
     "text": [
      "maximum delay in receiving concern 993 days\n",
      "average delay in receiving concern 4.657 days\n"
     ]
    }
   ],
   "source": [
    "print(\"maximum delay in receiving concern\",data['latency'].max(), \"days\")\n",
    "print(\"average delay in receiving concern\",round(data['latency'].mean(), 3), \"days\")"
   ]
  },
  {
   "cell_type": "code",
   "execution_count": 52,
   "id": "8e0e00e6-8ec6-4670-b077-a31220317487",
   "metadata": {},
   "outputs": [
    {
     "name": "stdout",
     "output_type": "stream",
     "text": [
      "Number of customers disputed even after timely response : 110421\n"
     ]
    }
   ],
   "source": [
    "print(\"Number of customers disputed even after timely response :\", len(data[(data[\"timely_response\"] == \"Yes\") & (data[\"consumer_disputed?\"] == \"Yes\")]))"
   ]
  },
  {
   "cell_type": "code",
   "execution_count": 53,
   "id": "08d676b9-5f28-4204-8b42-870d03c5779c",
   "metadata": {},
   "outputs": [
    {
     "name": "stdout",
     "output_type": "stream",
     "text": [
      "Number of customers disputed even after untimely response : 1713\n"
     ]
    }
   ],
   "source": [
    "print(\"Number of customers disputed even after untimely response :\", len(data[(data[\"timely_response\"] == \"No\") & (data[\"consumer_disputed?\"] == \"Yes\")]))"
   ]
  },
  {
   "cell_type": "code",
   "execution_count": 54,
   "id": "e5d632c3-8ca0-4986-8001-4f33021b2e68",
   "metadata": {},
   "outputs": [
    {
     "name": "stdout",
     "output_type": "stream",
     "text": [
      "Number of customers not disputed after timely response : 431488\n"
     ]
    }
   ],
   "source": [
    "print(\"Number of customers not disputed after timely response :\", len(data[(data[\"timely_response\"] == \"Yes\") & (data[\"consumer_disputed?\"] == \"No\")]))"
   ]
  },
  {
   "cell_type": "code",
   "execution_count": 55,
   "id": "74cd105b-b25e-49c4-8f48-403015c9c712",
   "metadata": {},
   "outputs": [
    {
     "name": "stdout",
     "output_type": "stream",
     "text": [
      "Number of customers not disputed even after untimely response : 12335\n"
     ]
    }
   ],
   "source": [
    "print(\"Number of customers not disputed even after untimely response :\", len(data[(data[\"timely_response\"] == \"No\") & (data[\"consumer_disputed?\"] == \"No\")]))"
   ]
  },
  {
   "cell_type": "markdown",
   "id": "2abf6de1-a4fc-48db-903a-a6e62f2acbfb",
   "metadata": {},
   "source": [
    "#### Company Analysis"
   ]
  },
  {
   "cell_type": "code",
   "execution_count": 56,
   "id": "bcc4422e-53b4-44f8-9c3c-90dc064c232c",
   "metadata": {},
   "outputs": [
    {
     "data": {
      "text/plain": [
       "company\n",
       "Bank of America                           55998\n",
       "Wells Fargo & Company                     42024\n",
       "JPMorgan Chase & Co.                      33881\n",
       "Equifax                                   31828\n",
       "Experian                                  30905\n",
       "Citibank                                  25540\n",
       "TransUnion Intermediate Holdings, Inc.    25534\n",
       "Ocwen                                     20978\n",
       "Capital One                               15628\n",
       "Nationstar Mortgage                       13250\n",
       "U.S. Bancorp                               9554\n",
       "Synchrony Financial                        9435\n",
       "Ditech Financial LLC                       8679\n",
       "Navient Solutions, Inc.                    8007\n",
       "PNC Bank N.A.                              6974\n",
       "Encore Capital Group                       6304\n",
       "HSBC North America Holdings Inc.           6180\n",
       "Amex                                       5752\n",
       "SunTrust Banks, Inc.                       4855\n",
       "Discover                                   4765\n",
       "Name: count, dtype: int64"
      ]
     },
     "execution_count": 56,
     "metadata": {},
     "output_type": "execute_result"
    }
   ],
   "source": [
    "data[\"company\"].value_counts().sort_values(ascending = False).head(20)"
   ]
  },
  {
   "cell_type": "code",
   "execution_count": 57,
   "id": "67e1f2b0-7baf-4ffc-8d12-532b9a4a6592",
   "metadata": {},
   "outputs": [
    {
     "data": {
      "text/plain": [
       "12480"
      ]
     },
     "execution_count": 57,
     "metadata": {},
     "output_type": "execute_result"
    }
   ],
   "source": [
    "len(data[(data[\"company\"] == \"Bank of America\") & (data[\"consumer_disputed?\"] == \"Yes\")])"
   ]
  },
  {
   "cell_type": "code",
   "execution_count": 58,
   "id": "b32f0bd3-9f5b-4148-9689-7fd91591d09d",
   "metadata": {},
   "outputs": [
    {
     "data": {
      "text/plain": [
       "43518"
      ]
     },
     "execution_count": 58,
     "metadata": {},
     "output_type": "execute_result"
    }
   ],
   "source": [
    "len(data[(data[\"company\"] == \"Bank of America\") & (data[\"consumer_disputed?\"] == \"No\")])"
   ]
  },
  {
   "cell_type": "code",
   "execution_count": 59,
   "id": "e9de4eef-8567-47b2-b53e-aeb99c49d519",
   "metadata": {},
   "outputs": [
    {
     "data": {
      "text/html": [
       "<div>\n",
       "<style scoped>\n",
       "    .dataframe tbody tr th:only-of-type {\n",
       "        vertical-align: middle;\n",
       "    }\n",
       "\n",
       "    .dataframe tbody tr th {\n",
       "        vertical-align: top;\n",
       "    }\n",
       "\n",
       "    .dataframe thead th {\n",
       "        text-align: right;\n",
       "    }\n",
       "</style>\n",
       "<table border=\"1\" class=\"dataframe\">\n",
       "  <thead>\n",
       "    <tr style=\"text-align: right;\">\n",
       "      <th></th>\n",
       "      <th>product</th>\n",
       "      <th>issue</th>\n",
       "      <th>company</th>\n",
       "      <th>state</th>\n",
       "      <th>submitted_via</th>\n",
       "      <th>company_response_to_consumer</th>\n",
       "      <th>timely_response</th>\n",
       "      <th>consumer_disputed?</th>\n",
       "      <th>latency</th>\n",
       "      <th>day</th>\n",
       "      <th>month</th>\n",
       "    </tr>\n",
       "  </thead>\n",
       "  <tbody>\n",
       "    <tr>\n",
       "      <th>0</th>\n",
       "      <td>Mortgage</td>\n",
       "      <td>Loan modification,collection,foreclosure</td>\n",
       "      <td>U.S. Bancorp</td>\n",
       "      <td>CA</td>\n",
       "      <td>Referral</td>\n",
       "      <td>Closed with explanation</td>\n",
       "      <td>Yes</td>\n",
       "      <td>Yes</td>\n",
       "      <td>4</td>\n",
       "      <td>3</td>\n",
       "      <td>9</td>\n",
       "    </tr>\n",
       "    <tr>\n",
       "      <th>1</th>\n",
       "      <td>Mortgage</td>\n",
       "      <td>Loan servicing, payments, escrow account</td>\n",
       "      <td>Wells Fargo &amp; Company</td>\n",
       "      <td>CA</td>\n",
       "      <td>Referral</td>\n",
       "      <td>Closed with explanation</td>\n",
       "      <td>Yes</td>\n",
       "      <td>Yes</td>\n",
       "      <td>4</td>\n",
       "      <td>3</td>\n",
       "      <td>9</td>\n",
       "    </tr>\n",
       "    <tr>\n",
       "      <th>2</th>\n",
       "      <td>Credit reporting</td>\n",
       "      <td>Incorrect information on credit report</td>\n",
       "      <td>Wells Fargo &amp; Company</td>\n",
       "      <td>NY</td>\n",
       "      <td>Postal mail</td>\n",
       "      <td>Closed with explanation</td>\n",
       "      <td>Yes</td>\n",
       "      <td>No</td>\n",
       "      <td>19</td>\n",
       "      <td>18</td>\n",
       "      <td>9</td>\n",
       "    </tr>\n",
       "    <tr>\n",
       "      <th>3</th>\n",
       "      <td>Student loan</td>\n",
       "      <td>Repaying your loan</td>\n",
       "      <td>Navient Solutions, Inc.</td>\n",
       "      <td>MD</td>\n",
       "      <td>Email</td>\n",
       "      <td>Closed with explanation</td>\n",
       "      <td>Yes</td>\n",
       "      <td>Yes</td>\n",
       "      <td>0</td>\n",
       "      <td>30</td>\n",
       "      <td>8</td>\n",
       "    </tr>\n",
       "    <tr>\n",
       "      <th>4</th>\n",
       "      <td>Debt collection</td>\n",
       "      <td>False statements or representation</td>\n",
       "      <td>Resurgent Capital Services L.P.</td>\n",
       "      <td>GA</td>\n",
       "      <td>Web</td>\n",
       "      <td>Closed with explanation</td>\n",
       "      <td>Yes</td>\n",
       "      <td>Yes</td>\n",
       "      <td>0</td>\n",
       "      <td>30</td>\n",
       "      <td>8</td>\n",
       "    </tr>\n",
       "  </tbody>\n",
       "</table>\n",
       "</div>"
      ],
      "text/plain": [
       "            product                                     issue  \\\n",
       "0          Mortgage  Loan modification,collection,foreclosure   \n",
       "1          Mortgage  Loan servicing, payments, escrow account   \n",
       "2  Credit reporting    Incorrect information on credit report   \n",
       "3      Student loan                        Repaying your loan   \n",
       "4   Debt collection        False statements or representation   \n",
       "\n",
       "                           company state submitted_via  \\\n",
       "0                     U.S. Bancorp    CA      Referral   \n",
       "1            Wells Fargo & Company    CA      Referral   \n",
       "2            Wells Fargo & Company    NY   Postal mail   \n",
       "3          Navient Solutions, Inc.    MD         Email   \n",
       "4  Resurgent Capital Services L.P.    GA           Web   \n",
       "\n",
       "  company_response_to_consumer timely_response consumer_disputed?  latency  \\\n",
       "0      Closed with explanation             Yes                Yes        4   \n",
       "1      Closed with explanation             Yes                Yes        4   \n",
       "2      Closed with explanation             Yes                 No       19   \n",
       "3      Closed with explanation             Yes                Yes        0   \n",
       "4      Closed with explanation             Yes                Yes        0   \n",
       "\n",
       "   day  month  \n",
       "0    3      9  \n",
       "1    3      9  \n",
       "2   18      9  \n",
       "3   30      8  \n",
       "4   30      8  "
      ]
     },
     "execution_count": 59,
     "metadata": {},
     "output_type": "execute_result"
    }
   ],
   "source": [
    "data.head()"
   ]
  },
  {
   "cell_type": "markdown",
   "id": "f8f3159e-f7b6-4192-b723-b088aa44c3ab",
   "metadata": {},
   "source": [
    "#### Analysing Timelines of Complaint Registration and Results"
   ]
  },
  {
   "cell_type": "code",
   "execution_count": 60,
   "id": "4d41f45d-8c6b-4f86-a79a-dcd3a4ead95f",
   "metadata": {},
   "outputs": [
    {
     "data": {
      "text/plain": [
       "56226"
      ]
     },
     "execution_count": 60,
     "metadata": {},
     "output_type": "execute_result"
    }
   ],
   "source": [
    "len(data[(data[\"consumer_disputed?\"] == \"Yes\") & (data[\"day\"] > 15)])"
   ]
  },
  {
   "cell_type": "code",
   "execution_count": 61,
   "id": "e28f6b27-adbc-498d-9a47-adfe54b23173",
   "metadata": {},
   "outputs": [
    {
     "data": {
      "text/plain": [
       "52025"
      ]
     },
     "execution_count": 61,
     "metadata": {},
     "output_type": "execute_result"
    }
   ],
   "source": [
    "len(data[(data[\"consumer_disputed?\"] == \"Yes\") & (data[\"day\"] < 15)])"
   ]
  },
  {
   "cell_type": "code",
   "execution_count": 62,
   "id": "13618408-c726-4663-b3e6-8d864c75a5ce",
   "metadata": {},
   "outputs": [
    {
     "data": {
      "image/png": "[encoded data removed]",
      "text/plain": [
       "<Figure size 500x500 with 1 Axes>"
      ]
     },
     "metadata": {},
     "output_type": "display_data"
    }
   ],
   "source": [
    "plt.figure(figsize = (5,5))\n",
    "sns.countplot(data = data, x = \"month\")\n",
    "plt.xlabel(\"month of the year\")\n",
    "plt.ylabel(\"number of complaints\")\n",
    "plt.show()"
   ]
  },
  {
   "cell_type": "code",
   "execution_count": 63,
   "id": "d3280fc4-e7ef-4470-b9fb-1363fe00842b",
   "metadata": {},
   "outputs": [
    {
     "data": {
      "image/png": "[encoded data removed]",
      "text/plain": [
       "<Figure size 500x500 with 1 Axes>"
      ]
     },
     "metadata": {},
     "output_type": "display_data"
    }
   ],
   "source": [
    "plt.figure(figsize = (5,5))\n",
    "sns.countplot(data = data[data[\"timely_response\"] == \"No\"], x = \"month\")\n",
    "plt.xlabel(\"month of the year\")\n",
    "plt.ylabel(\"number of untimely responses\")\n",
    "plt.show()"
   ]
  },
  {
   "cell_type": "markdown",
   "id": "bcf2ac13-1eaf-4b03-90e8-78f471d4a391",
   "metadata": {},
   "source": [
    "### Data Preparation for Model Training"
   ]
  },
  {
   "cell_type": "code",
   "execution_count": 65,
   "id": "038c7293-652b-4fbe-8ed0-10d0fb330cfd",
   "metadata": {},
   "outputs": [],
   "source": [
    "lc_prod = LabelEncoder()"
   ]
  },
  {
   "cell_type": "code",
   "execution_count": 66,
   "id": "9a9116d5-9ac1-46c5-a3e4-4969da26d919",
   "metadata": {},
   "outputs": [],
   "source": [
    "lc_prod.fit(data[\"product\"])\n",
    "data[\"product\"] = lc_prod.transform(data[\"product\"])"
   ]
  },
  {
   "cell_type": "code",
   "execution_count": 67,
   "id": "7db96fcf-8ca4-4cbd-856f-dff6f4ddd0cd",
   "metadata": {},
   "outputs": [],
   "source": [
    "lc_comp = LabelEncoder()\n",
    "lc_comp.fit(data[\"company\"])\n",
    "data[\"company\"] = lc_comp.transform(data[\"company\"])"
   ]
  },
  {
   "cell_type": "code",
   "execution_count": 68,
   "id": "b01c585f-2350-48f7-bd87-22831f6a1d7d",
   "metadata": {},
   "outputs": [],
   "source": [
    "lc_state = LabelEncoder()\n",
    "lc_state.fit(data[\"state\"])\n",
    "data[\"state\"] = lc_state.transform(data[\"state\"])"
   ]
  },
  {
   "cell_type": "code",
   "execution_count": 69,
   "id": "d487b639-6823-4194-81a4-6526c4a81a91",
   "metadata": {},
   "outputs": [],
   "source": [
    "lc_submit = LabelEncoder()\n",
    "lc_submit.fit(data[\"submitted_via\"])\n",
    "data[\"submitted_via\"] = lc_submit.transform(data[\"submitted_via\"])"
   ]
  },
  {
   "cell_type": "code",
   "execution_count": 70,
   "id": "90e23f33-796f-4905-ac78-8a2d99afe322",
   "metadata": {},
   "outputs": [],
   "source": [
    "lc_resp = LabelEncoder()\n",
    "lc_resp.fit(data[\"company_response_to_consumer\"])\n",
    "data[\"company_response_to_consumer\"] = lc_resp.transform(data[\"company_response_to_consumer\"])"
   ]
  },
  {
   "cell_type": "code",
   "execution_count": 71,
   "id": "5806717c-d3d6-4e8f-add4-2b541713308d",
   "metadata": {},
   "outputs": [],
   "source": [
    "lc_opt = LabelEncoder()\n",
    "lc_opt.fit(data[\"timely_response\"])\n",
    "data[\"timely_response\"] = lc_opt.transform(data[\"timely_response\"])\n",
    "data[\"consumer_disputed?\"] = lc_opt.transform(data[\"consumer_disputed?\"])"
   ]
  },
  {
   "cell_type": "code",
   "execution_count": 72,
   "id": "6c4a889e-d583-46f3-9653-e54869135e08",
   "metadata": {},
   "outputs": [],
   "source": [
    "data = data.drop([\"issue\"], axis = 1)"
   ]
  },
  {
   "cell_type": "code",
   "execution_count": 73,
   "id": "c6844a82-41e4-41d8-ab93-10cadb3aca91",
   "metadata": {},
   "outputs": [
    {
     "data": {
      "text/html": [
       "<div>\n",
       "<style scoped>\n",
       "    .dataframe tbody tr th:only-of-type {\n",
       "        vertical-align: middle;\n",
       "    }\n",
       "\n",
       "    .dataframe tbody tr th {\n",
       "        vertical-align: top;\n",
       "    }\n",
       "\n",
       "    .dataframe thead th {\n",
       "        text-align: right;\n",
       "    }\n",
       "</style>\n",
       "<table border=\"1\" class=\"dataframe\">\n",
       "  <thead>\n",
       "    <tr style=\"text-align: right;\">\n",
       "      <th></th>\n",
       "      <th>product</th>\n",
       "      <th>company</th>\n",
       "      <th>state</th>\n",
       "      <th>submitted_via</th>\n",
       "      <th>company_response_to_consumer</th>\n",
       "      <th>timely_response</th>\n",
       "      <th>consumer_disputed?</th>\n",
       "      <th>latency</th>\n",
       "      <th>day</th>\n",
       "      <th>month</th>\n",
       "    </tr>\n",
       "  </thead>\n",
       "  <tbody>\n",
       "    <tr>\n",
       "      <th>0</th>\n",
       "      <td>6</td>\n",
       "      <td>3350</td>\n",
       "      <td>8</td>\n",
       "      <td>4</td>\n",
       "      <td>1</td>\n",
       "      <td>1</td>\n",
       "      <td>1</td>\n",
       "      <td>4</td>\n",
       "      <td>3</td>\n",
       "      <td>9</td>\n",
       "    </tr>\n",
       "    <tr>\n",
       "      <th>1</th>\n",
       "      <td>6</td>\n",
       "      <td>3520</td>\n",
       "      <td>8</td>\n",
       "      <td>4</td>\n",
       "      <td>1</td>\n",
       "      <td>1</td>\n",
       "      <td>1</td>\n",
       "      <td>4</td>\n",
       "      <td>3</td>\n",
       "      <td>9</td>\n",
       "    </tr>\n",
       "    <tr>\n",
       "      <th>2</th>\n",
       "      <td>3</td>\n",
       "      <td>3520</td>\n",
       "      <td>42</td>\n",
       "      <td>3</td>\n",
       "      <td>1</td>\n",
       "      <td>1</td>\n",
       "      <td>0</td>\n",
       "      <td>19</td>\n",
       "      <td>18</td>\n",
       "      <td>9</td>\n",
       "    </tr>\n",
       "    <tr>\n",
       "      <th>3</th>\n",
       "      <td>10</td>\n",
       "      <td>2333</td>\n",
       "      <td>26</td>\n",
       "      <td>0</td>\n",
       "      <td>1</td>\n",
       "      <td>1</td>\n",
       "      <td>1</td>\n",
       "      <td>0</td>\n",
       "      <td>30</td>\n",
       "      <td>8</td>\n",
       "    </tr>\n",
       "    <tr>\n",
       "      <th>4</th>\n",
       "      <td>4</td>\n",
       "      <td>2813</td>\n",
       "      <td>15</td>\n",
       "      <td>5</td>\n",
       "      <td>1</td>\n",
       "      <td>1</td>\n",
       "      <td>1</td>\n",
       "      <td>0</td>\n",
       "      <td>30</td>\n",
       "      <td>8</td>\n",
       "    </tr>\n",
       "  </tbody>\n",
       "</table>\n",
       "</div>"
      ],
      "text/plain": [
       "   product  company  state  submitted_via  company_response_to_consumer  \\\n",
       "0        6     3350      8              4                             1   \n",
       "1        6     3520      8              4                             1   \n",
       "2        3     3520     42              3                             1   \n",
       "3       10     2333     26              0                             1   \n",
       "4        4     2813     15              5                             1   \n",
       "\n",
       "   timely_response  consumer_disputed?  latency  day  month  \n",
       "0                1                   1        4    3      9  \n",
       "1                1                   1        4    3      9  \n",
       "2                1                   0       19   18      9  \n",
       "3                1                   1        0   30      8  \n",
       "4                1                   1        0   30      8  "
      ]
     },
     "execution_count": 73,
     "metadata": {},
     "output_type": "execute_result"
    }
   ],
   "source": [
    "data.head()"
   ]
  },
  {
   "cell_type": "markdown",
   "id": "4e22d1b5-c85f-4d00-9290-61d8b2abdd26",
   "metadata": {},
   "source": [
    "### Training and Testing Sets"
   ]
  },
  {
   "cell_type": "code",
   "execution_count": 74,
   "id": "7ad755e9-7375-4b59-b435-ed6d9bf619f4",
   "metadata": {},
   "outputs": [],
   "source": [
    "y = data[\"consumer_disputed?\"]\n",
    "x = data.drop(['consumer_disputed?'], axis = 1)"
   ]
  },
  {
   "cell_type": "code",
   "execution_count": 75,
   "id": "46e61ba2-786b-4eb9-ae14-7321c20f9579",
   "metadata": {},
   "outputs": [],
   "source": [
    "x_train, x_test, y_train, y_test = train_test_split(x, y, test_size = 0.3, random_state = 42)"
   ]
  },
  {
   "cell_type": "markdown",
   "id": "8b7b4c8c-e40e-41b7-ba2a-535c7cf5cd28",
   "metadata": {},
   "source": [
    "### Testing Models"
   ]
  },
  {
   "cell_type": "code",
   "execution_count": 76,
   "id": "b2108587-6c3d-4e53-a87e-b22bba6b32b0",
   "metadata": {},
   "outputs": [],
   "source": [
    "def test_model(model):\n",
    "    model.fit(x_train, y_train)\n",
    "    y_pred = model.predict(x_test)\n",
    "    #comparing with y_test\n",
    "    prec_score = precision_score(y_test, y_pred, zero_division = 1)\n",
    "    acc_score = accuracy_score(y_test, y_pred)\n",
    "    print(\"precision score :\", prec_score)\n",
    "    print(\"accuracy score :\", acc_score)"
   ]
  },
  {
   "cell_type": "code",
   "execution_count": 77,
   "id": "92d9076a-3f93-402e-97dd-3e42a940f60e",
   "metadata": {},
   "outputs": [
    {
     "name": "stdout",
     "output_type": "stream",
     "text": [
      "precision score : 1.0\n",
      "accuracy score : 0.7981569417464086\n"
     ]
    },
    {
     "name": "stderr",
     "output_type": "stream",
     "text": [
      "C:\\anaconda1\\Lib\\site-packages\\sklearn\\linear_model\\_logistic.py:458: ConvergenceWarning: lbfgs failed to converge (status=1):\n",
      "STOP: TOTAL NO. of ITERATIONS REACHED LIMIT.\n",
      "\n",
      "Increase the number of iterations (max_iter) or scale the data as shown in:\n",
      "    https://scikit-learn.org/stable/modules/preprocessing.html\n",
      "Please also refer to the documentation for alternative solver options:\n",
      "    https://scikit-learn.org/stable/modules/linear_model.html#logistic-regression\n",
      "  n_iter_i = _check_optimize_result(\n"
     ]
    }
   ],
   "source": [
    "test_model(LogisticRegression())"
   ]
  },
  {
   "cell_type": "code",
   "execution_count": 78,
   "id": "778f5d0e-f081-4cf7-a524-b925810f0284",
   "metadata": {},
   "outputs": [
    {
     "name": "stdout",
     "output_type": "stream",
     "text": [
      "precision score : 0.2398514194746617\n",
      "accuracy score : 0.6923399764971101\n"
     ]
    }
   ],
   "source": [
    "test_model(DecisionTreeClassifier(criterion = 'entropy', random_state = 42))"
   ]
  },
  {
   "cell_type": "code",
   "execution_count": 79,
   "id": "77ac55aa-3a0e-41f1-ab23-dda70a23fa22",
   "metadata": {},
   "outputs": [
    {
     "name": "stdout",
     "output_type": "stream",
     "text": [
      "precision score : 0.3003423591658886\n",
      "accuracy score : 0.775079741947862\n"
     ]
    }
   ],
   "source": [
    "test_model(RandomForestClassifier())"
   ]
  },
  {
   "cell_type": "code",
   "execution_count": 80,
   "id": "1000032e-0186-44f9-8ce5-d8c584f6b453",
   "metadata": {},
   "outputs": [
    {
     "name": "stdout",
     "output_type": "stream",
     "text": [
      "precision score : 1.0\n",
      "accuracy score : 0.7981569417464086\n"
     ]
    }
   ],
   "source": [
    "test_model(AdaBoostClassifier(n_estimators = 10))"
   ]
  },
  {
   "cell_type": "code",
   "execution_count": 81,
   "id": "b6fd36b4-10e6-4b68-9cd4-d7efdd460e8e",
   "metadata": {},
   "outputs": [
    {
     "name": "stdout",
     "output_type": "stream",
     "text": [
      "precision score : 0.2476166791013844\n",
      "accuracy score : 0.7616495191500587\n"
     ]
    }
   ],
   "source": [
    "test_model(KNN())"
   ]
  },
  {
   "cell_type": "markdown",
   "id": "606aef05-b626-4c06-99a2-d6591db65aac",
   "metadata": {},
   "source": [
    "### Model Peformance"
   ]
  },
  {
   "cell_type": "code",
   "execution_count": 82,
   "id": "028d2cd8-166d-4561-875a-f3adc8fa75ea",
   "metadata": {},
   "outputs": [
    {
     "name": "stdout",
     "output_type": "stream",
     "text": [
      "0.798\n"
     ]
    }
   ],
   "source": [
    "adaboost = AdaBoostClassifier()\n",
    "adaboost.fit(x_train, y_train)\n",
    "\n",
    "y_pred = adaboost.predict(x_test)\n",
    "\n",
    "print(round(accuracy_score(y_test, y_pred), 3))"
   ]
  },
  {
   "cell_type": "code",
   "execution_count": 83,
   "id": "52a11608-a176-4703-bdd5-3e842b2c62f5",
   "metadata": {},
   "outputs": [
    {
     "name": "stdout",
     "output_type": "stream",
     "text": [
      "accuracy score =  0.798\n"
     ]
    }
   ],
   "source": [
    "print(\"accuracy score = \", round(accuracy_score(y_test, y_pred), 3))"
   ]
  },
  {
   "cell_type": "markdown",
   "id": "fb9ea133-3912-4b71-898c-91253509e5ab",
   "metadata": {},
   "source": [
    "### Saving the Model"
   ]
  },
  {
   "cell_type": "code",
   "execution_count": 84,
   "id": "fe67e782-486c-4b82-9d57-5cc40e34af22",
   "metadata": {},
   "outputs": [
    {
     "data": {
      "text/plain": [
       "['model.pkl']"
      ]
     },
     "execution_count": 84,
     "metadata": {},
     "output_type": "execute_result"
    }
   ],
   "source": [
    "joblib.dump(adaboost, \"model.pkl\")"
   ]
  },
  {
   "cell_type": "code",
   "execution_count": null,
   "id": "29e2a5de-d3ba-492b-b02c-5d71aad34b40",
   "metadata": {},
   "outputs": [],
   "source": []
  }
 ],
 "metadata": {
  "kernelspec": {
   "display_name": "Python 3 (ipykernel)",
   "language": "python",
   "name": "python3"
  },
  "language_info": {
   "codemirror_mode": {
    "name": "ipython",
    "version": 3
   },
   "file_extension": ".py",
   "mimetype": "text/x-python",
   "name": "python",
   "nbconvert_exporter": "python",
   "pygments_lexer": "ipython3",
   "version": "3.11.7"
  }
 },
 "nbformat": 4,
 "nbformat_minor": 5
}
