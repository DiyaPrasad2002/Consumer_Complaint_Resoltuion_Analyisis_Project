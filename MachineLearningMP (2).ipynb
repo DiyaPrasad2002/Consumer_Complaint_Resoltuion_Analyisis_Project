{
 "cells": [
  {
   "cell_type": "markdown",
   "id": "eff57e28",
   "metadata": {},
   "source": [
    "### MACHINE LEARNING PROJECT : CONSUMER COMPLAINT RESOLUTION ANALYSIS "
   ]
  },
  {
   "cell_type": "markdown",
   "id": "7e0678c3",
   "metadata": {},
   "source": [
    "Data Description : We are dealing with a customers review data, where the target variable is \"Consumer Disputed?\" in the testing data and \"Dispute\" in the training data, that indicates whether a customer has issues with the bank or not."
   ]
  },
  {
   "cell_type": "markdown",
   "id": "71b14f15",
   "metadata": {},
   "source": [
    "#### IMPORT LIBRARIES"
   ]
  },
  {
   "cell_type": "code",
   "execution_count": 1,
   "id": "6d7371cb",
   "metadata": {},
   "outputs": [],
   "source": [
    "#Loading the necessary libraries\n",
    "\n",
    "import numpy as np\n",
    "import pandas as pd\n",
    "import matplotlib.pyplot as plt\n",
    "import seaborn as sns\n",
    "import statsmodels.api as sm\n",
    "\n",
    "from sklearn import metrics\n",
    "from sklearn.metrics import accuracy_score, confusion_matrix, roc_auc_score, roc_curve, r2_score\n",
    "from sklearn.preprocessing import LabelEncoder, RobustScaler, StandardScaler\n",
    "from sklearn.model_selection import train_test_split\n",
    "from sklearn.linear_model import LinearRegression, LogisticRegression\n",
    "from sklearn.ensemble import AdaBoostClassifier, AdaBoostRegressor, RandomForestClassifier\n",
    "from sklearn.tree import DecisionTreeClassifier, plot_tree\n",
    "from sklearn.naive_bayes import GaussianNB, BernoulliNB\n",
    "from sklearn.neighbors import KNeighborsClassifier as KNN\n",
    "from sklearn.svm import SVC\n",
    "from io import StringIO\n",
    "from imblearn.over_sampling import SMOTE\n",
    "%matplotlib inline"
   ]
  },
  {
   "cell_type": "code",
   "execution_count": 2,
   "id": "df2e46a8",
   "metadata": {},
   "outputs": [],
   "source": [
    "from sklearn.metrics import precision_score\n",
    "from sklearn.metrics import classification_report"
   ]
  },
  {
   "cell_type": "markdown",
   "id": "6f20086e",
   "metadata": {},
   "source": [
    "#### IMPORTING THE DATA"
   ]
  },
  {
   "cell_type": "code",
   "execution_count": 3,
   "id": "3d2917c1",
   "metadata": {},
   "outputs": [],
   "source": [
    "train_data = pd.read_csv(\"Consumer_Complaints_train.csv\")\n",
    "test_data = pd.read_csv(\"Consumer_Complaints_test.csv\")"
   ]
  },
  {
   "cell_type": "markdown",
   "id": "3e3b91b5",
   "metadata": {},
   "source": [
    "#### EXPLORATORY DATA ANALYSIS"
   ]
  },
  {
   "cell_type": "code",
   "execution_count": 4,
   "id": "0ccbc87b",
   "metadata": {},
   "outputs": [
    {
     "name": "stdout",
     "output_type": "stream",
     "text": [
      "shape of the training data:  (358810, 18)\n",
      "shape of the testing data:  (119606, 17)\n"
     ]
    }
   ],
   "source": [
    "print(\"shape of the training data: \", train_data.shape)\n",
    "print(\"shape of the testing data: \", test_data.shape)"
   ]
  },
  {
   "cell_type": "code",
   "execution_count": 5,
   "id": "48a615e6",
   "metadata": {},
   "outputs": [
    {
     "data": {
      "text/plain": [
       "Date received                   object\n",
       "Product                         object\n",
       "Sub-product                     object\n",
       "Issue                           object\n",
       "Sub-issue                       object\n",
       "Consumer complaint narrative    object\n",
       "Company public response         object\n",
       "Company                         object\n",
       "State                           object\n",
       "ZIP code                        object\n",
       "Tags                            object\n",
       "Consumer consent provided?      object\n",
       "Submitted via                   object\n",
       "Date sent to company            object\n",
       "Company response to consumer    object\n",
       "Timely response?                object\n",
       "Consumer disputed?              object\n",
       "Complaint ID                     int64\n",
       "dtype: object"
      ]
     },
     "execution_count": 5,
     "metadata": {},
     "output_type": "execute_result"
    }
   ],
   "source": [
    "train_data.dtypes"
   ]
  },
  {
   "cell_type": "code",
   "execution_count": 6,
   "id": "d378b7e5",
   "metadata": {},
   "outputs": [
    {
     "data": {
      "text/plain": [
       "Date received                   object\n",
       "Product                         object\n",
       "Sub-product                     object\n",
       "Issue                           object\n",
       "Sub-issue                       object\n",
       "Consumer complaint narrative    object\n",
       "Company public response         object\n",
       "Company                         object\n",
       "State                           object\n",
       "ZIP code                        object\n",
       "Tags                            object\n",
       "Consumer consent provided?      object\n",
       "Submitted via                   object\n",
       "Date sent to company            object\n",
       "Company response to consumer    object\n",
       "Timely response?                object\n",
       "Complaint ID                     int64\n",
       "dtype: object"
      ]
     },
     "execution_count": 6,
     "metadata": {},
     "output_type": "execute_result"
    }
   ],
   "source": [
    "test_data.dtypes"
   ]
  },
  {
   "cell_type": "code",
   "execution_count": 7,
   "id": "57d5902c",
   "metadata": {},
   "outputs": [
    {
     "data": {
      "text/plain": [
       "0"
      ]
     },
     "execution_count": 7,
     "metadata": {},
     "output_type": "execute_result"
    }
   ],
   "source": [
    "train_data.duplicated().sum()"
   ]
  },
  {
   "cell_type": "code",
   "execution_count": 8,
   "id": "c9e68c9b",
   "metadata": {},
   "outputs": [
    {
     "data": {
      "text/plain": [
       "0"
      ]
     },
     "execution_count": 8,
     "metadata": {},
     "output_type": "execute_result"
    }
   ],
   "source": [
    "test_data.duplicated().sum()"
   ]
  },
  {
   "cell_type": "code",
   "execution_count": 9,
   "id": "724ab560",
   "metadata": {},
   "outputs": [
    {
     "data": {
      "text/plain": [
       "Date received                        0\n",
       "Product                              0\n",
       "Sub-product                     103786\n",
       "Issue                                0\n",
       "Sub-issue                       219374\n",
       "Consumer complaint narrative    302630\n",
       "Company public response         290879\n",
       "Company                              0\n",
       "State                             2903\n",
       "ZIP code                          2911\n",
       "Tags                            308584\n",
       "Consumer consent provided?      257230\n",
       "Submitted via                        0\n",
       "Date sent to company                 0\n",
       "Company response to consumer         0\n",
       "Timely response?                     0\n",
       "Consumer disputed?                   0\n",
       "Complaint ID                         0\n",
       "dtype: int64"
      ]
     },
     "execution_count": 9,
     "metadata": {},
     "output_type": "execute_result"
    }
   ],
   "source": [
    "train_data.isnull().sum()"
   ]
  },
  {
   "cell_type": "code",
   "execution_count": 10,
   "id": "2c661fe0",
   "metadata": {},
   "outputs": [
    {
     "data": {
      "text/plain": [
       "Date received                        0\n",
       "Product                              0\n",
       "Sub-product                      34683\n",
       "Issue                                0\n",
       "Sub-issue                        73250\n",
       "Consumer complaint narrative    100692\n",
       "Company public response          97146\n",
       "Company                              0\n",
       "State                              936\n",
       "ZIP code                           937\n",
       "Tags                            102629\n",
       "Consumer consent provided?       85699\n",
       "Submitted via                        0\n",
       "Date sent to company                 0\n",
       "Company response to consumer         0\n",
       "Timely response?                     0\n",
       "Complaint ID                         0\n",
       "dtype: int64"
      ]
     },
     "execution_count": 10,
     "metadata": {},
     "output_type": "execute_result"
    }
   ],
   "source": [
    "test_data.isnull().sum()"
   ]
  },
  {
   "cell_type": "markdown",
   "id": "fbc7da58",
   "metadata": {},
   "source": [
    "Dropping the columns of the data, in which the null values are more than 25%"
   ]
  },
  {
   "cell_type": "code",
   "execution_count": 11,
   "id": "384e5822",
   "metadata": {},
   "outputs": [
    {
     "data": {
      "text/plain": [
       "119606"
      ]
     },
     "execution_count": 11,
     "metadata": {},
     "output_type": "execute_result"
    }
   ],
   "source": [
    "len(test_data)"
   ]
  },
  {
   "cell_type": "code",
   "execution_count": 12,
   "id": "8b89954c",
   "metadata": {},
   "outputs": [],
   "source": [
    "for i in test_data.columns:\n",
    "    if (test_data[i].isnull().sum())/len(test_data) >= 0.25:\n",
    "        test_data = test_data.drop(i, axis = 1)"
   ]
  },
  {
   "cell_type": "code",
   "execution_count": 13,
   "id": "e4845ea7",
   "metadata": {},
   "outputs": [
    {
     "data": {
      "text/plain": [
       "(119606, 11)"
      ]
     },
     "execution_count": 13,
     "metadata": {},
     "output_type": "execute_result"
    }
   ],
   "source": [
    "test_data.shape"
   ]
  },
  {
   "cell_type": "code",
   "execution_count": 14,
   "id": "7384a87b",
   "metadata": {},
   "outputs": [
    {
     "data": {
      "text/plain": [
       "Index(['Date received', 'Product', 'Issue', 'Company', 'State', 'ZIP code',\n",
       "       'Submitted via', 'Date sent to company', 'Company response to consumer',\n",
       "       'Timely response?', 'Complaint ID'],\n",
       "      dtype='object')"
      ]
     },
     "execution_count": 14,
     "metadata": {},
     "output_type": "execute_result"
    }
   ],
   "source": [
    "test_data.columns"
   ]
  },
  {
   "cell_type": "code",
   "execution_count": 15,
   "id": "c25f6c96",
   "metadata": {},
   "outputs": [],
   "source": [
    "for i in train_data.columns:\n",
    "    if (train_data[i].isnull().sum())/len(test_data) >= 0.25:\n",
    "        train_data = train_data.drop(i, axis = 1)"
   ]
  },
  {
   "cell_type": "code",
   "execution_count": 16,
   "id": "3a955b73",
   "metadata": {},
   "outputs": [
    {
     "data": {
      "text/plain": [
       "(358810, 12)"
      ]
     },
     "execution_count": 16,
     "metadata": {},
     "output_type": "execute_result"
    }
   ],
   "source": [
    "train_data.shape"
   ]
  },
  {
   "cell_type": "code",
   "execution_count": 17,
   "id": "c0baf276",
   "metadata": {},
   "outputs": [
    {
     "data": {
      "text/plain": [
       "Index(['Date received', 'Product', 'Issue', 'Company', 'State', 'ZIP code',\n",
       "       'Submitted via', 'Date sent to company', 'Company response to consumer',\n",
       "       'Timely response?', 'Consumer disputed?', 'Complaint ID'],\n",
       "      dtype='object')"
      ]
     },
     "execution_count": 17,
     "metadata": {},
     "output_type": "execute_result"
    }
   ],
   "source": [
    "train_data.columns"
   ]
  },
  {
   "cell_type": "code",
   "execution_count": 18,
   "id": "b1bb4357",
   "metadata": {},
   "outputs": [
    {
     "data": {
      "text/plain": [
       "Date received                     0\n",
       "Product                           0\n",
       "Issue                             0\n",
       "Company                           0\n",
       "State                           936\n",
       "ZIP code                        937\n",
       "Submitted via                     0\n",
       "Date sent to company              0\n",
       "Company response to consumer      0\n",
       "Timely response?                  0\n",
       "Complaint ID                      0\n",
       "dtype: int64"
      ]
     },
     "execution_count": 18,
     "metadata": {},
     "output_type": "execute_result"
    }
   ],
   "source": [
    "test_data.isnull().sum()"
   ]
  },
  {
   "cell_type": "code",
   "execution_count": 19,
   "id": "9288bbdf",
   "metadata": {},
   "outputs": [
    {
     "data": {
      "text/plain": [
       "Date received                      0\n",
       "Product                            0\n",
       "Issue                              0\n",
       "Company                            0\n",
       "State                           2903\n",
       "ZIP code                        2911\n",
       "Submitted via                      0\n",
       "Date sent to company               0\n",
       "Company response to consumer       0\n",
       "Timely response?                   0\n",
       "Consumer disputed?                 0\n",
       "Complaint ID                       0\n",
       "dtype: int64"
      ]
     },
     "execution_count": 19,
     "metadata": {},
     "output_type": "execute_result"
    }
   ],
   "source": [
    "train_data.isnull().sum()"
   ]
  },
  {
   "cell_type": "code",
   "execution_count": 20,
   "id": "39bf3f8e",
   "metadata": {},
   "outputs": [
    {
     "data": {
      "text/html": [
       "<div>\n",
       "<style scoped>\n",
       "    .dataframe tbody tr th:only-of-type {\n",
       "        vertical-align: middle;\n",
       "    }\n",
       "\n",
       "    .dataframe tbody tr th {\n",
       "        vertical-align: top;\n",
       "    }\n",
       "\n",
       "    .dataframe thead th {\n",
       "        text-align: right;\n",
       "    }\n",
       "</style>\n",
       "<table border=\"1\" class=\"dataframe\">\n",
       "  <thead>\n",
       "    <tr style=\"text-align: right;\">\n",
       "      <th></th>\n",
       "      <th>Date received</th>\n",
       "      <th>Product</th>\n",
       "      <th>Issue</th>\n",
       "      <th>Company</th>\n",
       "      <th>State</th>\n",
       "      <th>ZIP code</th>\n",
       "      <th>Submitted via</th>\n",
       "      <th>Date sent to company</th>\n",
       "      <th>Company response to consumer</th>\n",
       "      <th>Timely response?</th>\n",
       "      <th>Consumer disputed?</th>\n",
       "      <th>Complaint ID</th>\n",
       "    </tr>\n",
       "  </thead>\n",
       "  <tbody>\n",
       "    <tr>\n",
       "      <th>0</th>\n",
       "      <td>2015-10-14</td>\n",
       "      <td>Credit reporting</td>\n",
       "      <td>Incorrect information on credit report</td>\n",
       "      <td>Equifax</td>\n",
       "      <td>GA</td>\n",
       "      <td>30134</td>\n",
       "      <td>Web</td>\n",
       "      <td>2015-10-14</td>\n",
       "      <td>Closed with explanation</td>\n",
       "      <td>Yes</td>\n",
       "      <td>No</td>\n",
       "      <td>1605653</td>\n",
       "    </tr>\n",
       "    <tr>\n",
       "      <th>1</th>\n",
       "      <td>2015-04-26</td>\n",
       "      <td>Bank account or service</td>\n",
       "      <td>Deposits and withdrawals</td>\n",
       "      <td>Wells Fargo &amp; Company</td>\n",
       "      <td>GA</td>\n",
       "      <td>319XX</td>\n",
       "      <td>Web</td>\n",
       "      <td>2015-04-26</td>\n",
       "      <td>Closed with explanation</td>\n",
       "      <td>Yes</td>\n",
       "      <td>Yes</td>\n",
       "      <td>1347613</td>\n",
       "    </tr>\n",
       "    <tr>\n",
       "      <th>2</th>\n",
       "      <td>2013-12-20</td>\n",
       "      <td>Credit card</td>\n",
       "      <td>Other</td>\n",
       "      <td>Citibank</td>\n",
       "      <td>SC</td>\n",
       "      <td>29203</td>\n",
       "      <td>Phone</td>\n",
       "      <td>2014-01-03</td>\n",
       "      <td>Closed with non-monetary relief</td>\n",
       "      <td>Yes</td>\n",
       "      <td>No</td>\n",
       "      <td>640394</td>\n",
       "    </tr>\n",
       "    <tr>\n",
       "      <th>3</th>\n",
       "      <td>2016-03-03</td>\n",
       "      <td>Debt collection</td>\n",
       "      <td>Disclosure verification of debt</td>\n",
       "      <td>FAIR COLLECTIONS &amp; OUTSOURCING, INC.</td>\n",
       "      <td>OH</td>\n",
       "      <td>43082</td>\n",
       "      <td>Referral</td>\n",
       "      <td>2016-03-04</td>\n",
       "      <td>Closed with explanation</td>\n",
       "      <td>Yes</td>\n",
       "      <td>No</td>\n",
       "      <td>1815134</td>\n",
       "    </tr>\n",
       "    <tr>\n",
       "      <th>4</th>\n",
       "      <td>2015-01-30</td>\n",
       "      <td>Debt collection</td>\n",
       "      <td>Disclosure verification of debt</td>\n",
       "      <td>HCFS Health Care Financial Services, Inc.</td>\n",
       "      <td>CA</td>\n",
       "      <td>90036</td>\n",
       "      <td>Web</td>\n",
       "      <td>2015-01-30</td>\n",
       "      <td>Closed with explanation</td>\n",
       "      <td>Yes</td>\n",
       "      <td>Yes</td>\n",
       "      <td>1218613</td>\n",
       "    </tr>\n",
       "  </tbody>\n",
       "</table>\n",
       "</div>"
      ],
      "text/plain": [
       "  Date received                  Product  \\\n",
       "0    2015-10-14         Credit reporting   \n",
       "1    2015-04-26  Bank account or service   \n",
       "2    2013-12-20              Credit card   \n",
       "3    2016-03-03          Debt collection   \n",
       "4    2015-01-30          Debt collection   \n",
       "\n",
       "                                    Issue  \\\n",
       "0  Incorrect information on credit report   \n",
       "1                Deposits and withdrawals   \n",
       "2                                   Other   \n",
       "3         Disclosure verification of debt   \n",
       "4         Disclosure verification of debt   \n",
       "\n",
       "                                     Company State ZIP code Submitted via  \\\n",
       "0                                    Equifax    GA    30134           Web   \n",
       "1                      Wells Fargo & Company    GA    319XX           Web   \n",
       "2                                   Citibank    SC    29203         Phone   \n",
       "3       FAIR COLLECTIONS & OUTSOURCING, INC.    OH    43082      Referral   \n",
       "4  HCFS Health Care Financial Services, Inc.    CA    90036           Web   \n",
       "\n",
       "  Date sent to company     Company response to consumer Timely response?  \\\n",
       "0           2015-10-14          Closed with explanation              Yes   \n",
       "1           2015-04-26          Closed with explanation              Yes   \n",
       "2           2014-01-03  Closed with non-monetary relief              Yes   \n",
       "3           2016-03-04          Closed with explanation              Yes   \n",
       "4           2015-01-30          Closed with explanation              Yes   \n",
       "\n",
       "  Consumer disputed?  Complaint ID  \n",
       "0                 No       1605653  \n",
       "1                Yes       1347613  \n",
       "2                 No        640394  \n",
       "3                 No       1815134  \n",
       "4                Yes       1218613  "
      ]
     },
     "execution_count": 20,
     "metadata": {},
     "output_type": "execute_result"
    }
   ],
   "source": [
    "train_data.head()"
   ]
  },
  {
   "cell_type": "code",
   "execution_count": 21,
   "id": "2182fe67",
   "metadata": {},
   "outputs": [
    {
     "data": {
      "text/html": [
       "<div>\n",
       "<style scoped>\n",
       "    .dataframe tbody tr th:only-of-type {\n",
       "        vertical-align: middle;\n",
       "    }\n",
       "\n",
       "    .dataframe tbody tr th {\n",
       "        vertical-align: top;\n",
       "    }\n",
       "\n",
       "    .dataframe thead th {\n",
       "        text-align: right;\n",
       "    }\n",
       "</style>\n",
       "<table border=\"1\" class=\"dataframe\">\n",
       "  <thead>\n",
       "    <tr style=\"text-align: right;\">\n",
       "      <th></th>\n",
       "      <th>Date received</th>\n",
       "      <th>Product</th>\n",
       "      <th>Issue</th>\n",
       "      <th>Company</th>\n",
       "      <th>State</th>\n",
       "      <th>ZIP code</th>\n",
       "      <th>Submitted via</th>\n",
       "      <th>Date sent to company</th>\n",
       "      <th>Company response to consumer</th>\n",
       "      <th>Timely response?</th>\n",
       "      <th>Complaint ID</th>\n",
       "    </tr>\n",
       "  </thead>\n",
       "  <tbody>\n",
       "    <tr>\n",
       "      <th>0</th>\n",
       "      <td>2015-01-17</td>\n",
       "      <td>Credit card</td>\n",
       "      <td>Customer service / Customer relations</td>\n",
       "      <td>Citibank</td>\n",
       "      <td>TX</td>\n",
       "      <td>75241</td>\n",
       "      <td>Web</td>\n",
       "      <td>2015-01-17</td>\n",
       "      <td>Closed with monetary relief</td>\n",
       "      <td>Yes</td>\n",
       "      <td>1198133</td>\n",
       "    </tr>\n",
       "    <tr>\n",
       "      <th>1</th>\n",
       "      <td>2016-06-22</td>\n",
       "      <td>Consumer Loan</td>\n",
       "      <td>Payment to acct not credited</td>\n",
       "      <td>Larsen MacColl Partners II, L.P.</td>\n",
       "      <td>TX</td>\n",
       "      <td>76548</td>\n",
       "      <td>Phone</td>\n",
       "      <td>2016-06-22</td>\n",
       "      <td>Closed with explanation</td>\n",
       "      <td>Yes</td>\n",
       "      <td>1979989</td>\n",
       "    </tr>\n",
       "    <tr>\n",
       "      <th>2</th>\n",
       "      <td>2015-09-04</td>\n",
       "      <td>Credit card</td>\n",
       "      <td>Credit line increase/decrease</td>\n",
       "      <td>Capital One</td>\n",
       "      <td>NC</td>\n",
       "      <td>271XX</td>\n",
       "      <td>Web</td>\n",
       "      <td>2015-09-04</td>\n",
       "      <td>Closed with explanation</td>\n",
       "      <td>Yes</td>\n",
       "      <td>1552090</td>\n",
       "    </tr>\n",
       "    <tr>\n",
       "      <th>3</th>\n",
       "      <td>2016-05-17</td>\n",
       "      <td>Consumer Loan</td>\n",
       "      <td>Problems when you are unable to pay</td>\n",
       "      <td>OneMain Financial Holdings, LLC</td>\n",
       "      <td>MO</td>\n",
       "      <td>634XX</td>\n",
       "      <td>Web</td>\n",
       "      <td>2016-05-20</td>\n",
       "      <td>Closed with non-monetary relief</td>\n",
       "      <td>Yes</td>\n",
       "      <td>1929306</td>\n",
       "    </tr>\n",
       "    <tr>\n",
       "      <th>4</th>\n",
       "      <td>2016-07-07</td>\n",
       "      <td>Debt collection</td>\n",
       "      <td>Improper contact or sharing of info</td>\n",
       "      <td>GMA Investments, LLC</td>\n",
       "      <td>SC</td>\n",
       "      <td>296XX</td>\n",
       "      <td>Web</td>\n",
       "      <td>2016-07-07</td>\n",
       "      <td>Closed with explanation</td>\n",
       "      <td>Yes</td>\n",
       "      <td>2001667</td>\n",
       "    </tr>\n",
       "  </tbody>\n",
       "</table>\n",
       "</div>"
      ],
      "text/plain": [
       "  Date received          Product                                  Issue  \\\n",
       "0    2015-01-17      Credit card  Customer service / Customer relations   \n",
       "1    2016-06-22    Consumer Loan           Payment to acct not credited   \n",
       "2    2015-09-04      Credit card          Credit line increase/decrease   \n",
       "3    2016-05-17    Consumer Loan    Problems when you are unable to pay   \n",
       "4    2016-07-07  Debt collection    Improper contact or sharing of info   \n",
       "\n",
       "                            Company State ZIP code Submitted via  \\\n",
       "0                          Citibank    TX    75241           Web   \n",
       "1  Larsen MacColl Partners II, L.P.    TX    76548         Phone   \n",
       "2                       Capital One    NC    271XX           Web   \n",
       "3   OneMain Financial Holdings, LLC    MO    634XX           Web   \n",
       "4              GMA Investments, LLC    SC    296XX           Web   \n",
       "\n",
       "  Date sent to company     Company response to consumer Timely response?  \\\n",
       "0           2015-01-17      Closed with monetary relief              Yes   \n",
       "1           2016-06-22          Closed with explanation              Yes   \n",
       "2           2015-09-04          Closed with explanation              Yes   \n",
       "3           2016-05-20  Closed with non-monetary relief              Yes   \n",
       "4           2016-07-07          Closed with explanation              Yes   \n",
       "\n",
       "   Complaint ID  \n",
       "0       1198133  \n",
       "1       1979989  \n",
       "2       1552090  \n",
       "3       1929306  \n",
       "4       2001667  "
      ]
     },
     "execution_count": 21,
     "metadata": {},
     "output_type": "execute_result"
    }
   ],
   "source": [
    "test_data.head()"
   ]
  },
  {
   "cell_type": "code",
   "execution_count": 22,
   "id": "7bdcec61",
   "metadata": {},
   "outputs": [],
   "source": [
    "test_data[\"Date received\"] = pd.to_datetime(test_data[\"Date received\"])\n",
    "train_data[\"Date received\"] = pd.to_datetime(train_data[\"Date received\"])"
   ]
  },
  {
   "cell_type": "code",
   "execution_count": 23,
   "id": "200cfa3c",
   "metadata": {},
   "outputs": [],
   "source": [
    "test_data[\"month\"] = test_data[\"Date received\"].dt.month\n",
    "test_data[\"day\"] = test_data[\"Date received\"].dt.day\n",
    "test_data[\"year\"] = test_data[\"Date received\"].dt.year"
   ]
  },
  {
   "cell_type": "code",
   "execution_count": 24,
   "id": "a04514db",
   "metadata": {},
   "outputs": [],
   "source": [
    "train_data[\"month\"] = train_data[\"Date received\"].dt.month\n",
    "train_data[\"day\"] = train_data[\"Date received\"].dt.day\n",
    "train_data[\"year\"] = train_data[\"Date received\"].dt.year"
   ]
  },
  {
   "cell_type": "code",
   "execution_count": 25,
   "id": "d8d28393",
   "metadata": {},
   "outputs": [
    {
     "data": {
      "text/html": [
       "<div>\n",
       "<style scoped>\n",
       "    .dataframe tbody tr th:only-of-type {\n",
       "        vertical-align: middle;\n",
       "    }\n",
       "\n",
       "    .dataframe tbody tr th {\n",
       "        vertical-align: top;\n",
       "    }\n",
       "\n",
       "    .dataframe thead th {\n",
       "        text-align: right;\n",
       "    }\n",
       "</style>\n",
       "<table border=\"1\" class=\"dataframe\">\n",
       "  <thead>\n",
       "    <tr style=\"text-align: right;\">\n",
       "      <th></th>\n",
       "      <th>Date received</th>\n",
       "      <th>Product</th>\n",
       "      <th>Issue</th>\n",
       "      <th>Company</th>\n",
       "      <th>State</th>\n",
       "      <th>ZIP code</th>\n",
       "      <th>Submitted via</th>\n",
       "      <th>Date sent to company</th>\n",
       "      <th>Company response to consumer</th>\n",
       "      <th>Timely response?</th>\n",
       "      <th>Complaint ID</th>\n",
       "      <th>month</th>\n",
       "      <th>day</th>\n",
       "      <th>year</th>\n",
       "    </tr>\n",
       "  </thead>\n",
       "  <tbody>\n",
       "    <tr>\n",
       "      <th>0</th>\n",
       "      <td>2015-01-17</td>\n",
       "      <td>Credit card</td>\n",
       "      <td>Customer service / Customer relations</td>\n",
       "      <td>Citibank</td>\n",
       "      <td>TX</td>\n",
       "      <td>75241</td>\n",
       "      <td>Web</td>\n",
       "      <td>2015-01-17</td>\n",
       "      <td>Closed with monetary relief</td>\n",
       "      <td>Yes</td>\n",
       "      <td>1198133</td>\n",
       "      <td>1</td>\n",
       "      <td>17</td>\n",
       "      <td>2015</td>\n",
       "    </tr>\n",
       "    <tr>\n",
       "      <th>1</th>\n",
       "      <td>2016-06-22</td>\n",
       "      <td>Consumer Loan</td>\n",
       "      <td>Payment to acct not credited</td>\n",
       "      <td>Larsen MacColl Partners II, L.P.</td>\n",
       "      <td>TX</td>\n",
       "      <td>76548</td>\n",
       "      <td>Phone</td>\n",
       "      <td>2016-06-22</td>\n",
       "      <td>Closed with explanation</td>\n",
       "      <td>Yes</td>\n",
       "      <td>1979989</td>\n",
       "      <td>6</td>\n",
       "      <td>22</td>\n",
       "      <td>2016</td>\n",
       "    </tr>\n",
       "    <tr>\n",
       "      <th>2</th>\n",
       "      <td>2015-09-04</td>\n",
       "      <td>Credit card</td>\n",
       "      <td>Credit line increase/decrease</td>\n",
       "      <td>Capital One</td>\n",
       "      <td>NC</td>\n",
       "      <td>271XX</td>\n",
       "      <td>Web</td>\n",
       "      <td>2015-09-04</td>\n",
       "      <td>Closed with explanation</td>\n",
       "      <td>Yes</td>\n",
       "      <td>1552090</td>\n",
       "      <td>9</td>\n",
       "      <td>4</td>\n",
       "      <td>2015</td>\n",
       "    </tr>\n",
       "    <tr>\n",
       "      <th>3</th>\n",
       "      <td>2016-05-17</td>\n",
       "      <td>Consumer Loan</td>\n",
       "      <td>Problems when you are unable to pay</td>\n",
       "      <td>OneMain Financial Holdings, LLC</td>\n",
       "      <td>MO</td>\n",
       "      <td>634XX</td>\n",
       "      <td>Web</td>\n",
       "      <td>2016-05-20</td>\n",
       "      <td>Closed with non-monetary relief</td>\n",
       "      <td>Yes</td>\n",
       "      <td>1929306</td>\n",
       "      <td>5</td>\n",
       "      <td>17</td>\n",
       "      <td>2016</td>\n",
       "    </tr>\n",
       "    <tr>\n",
       "      <th>4</th>\n",
       "      <td>2016-07-07</td>\n",
       "      <td>Debt collection</td>\n",
       "      <td>Improper contact or sharing of info</td>\n",
       "      <td>GMA Investments, LLC</td>\n",
       "      <td>SC</td>\n",
       "      <td>296XX</td>\n",
       "      <td>Web</td>\n",
       "      <td>2016-07-07</td>\n",
       "      <td>Closed with explanation</td>\n",
       "      <td>Yes</td>\n",
       "      <td>2001667</td>\n",
       "      <td>7</td>\n",
       "      <td>7</td>\n",
       "      <td>2016</td>\n",
       "    </tr>\n",
       "  </tbody>\n",
       "</table>\n",
       "</div>"
      ],
      "text/plain": [
       "  Date received          Product                                  Issue  \\\n",
       "0    2015-01-17      Credit card  Customer service / Customer relations   \n",
       "1    2016-06-22    Consumer Loan           Payment to acct not credited   \n",
       "2    2015-09-04      Credit card          Credit line increase/decrease   \n",
       "3    2016-05-17    Consumer Loan    Problems when you are unable to pay   \n",
       "4    2016-07-07  Debt collection    Improper contact or sharing of info   \n",
       "\n",
       "                            Company State ZIP code Submitted via  \\\n",
       "0                          Citibank    TX    75241           Web   \n",
       "1  Larsen MacColl Partners II, L.P.    TX    76548         Phone   \n",
       "2                       Capital One    NC    271XX           Web   \n",
       "3   OneMain Financial Holdings, LLC    MO    634XX           Web   \n",
       "4              GMA Investments, LLC    SC    296XX           Web   \n",
       "\n",
       "  Date sent to company     Company response to consumer Timely response?  \\\n",
       "0           2015-01-17      Closed with monetary relief              Yes   \n",
       "1           2016-06-22          Closed with explanation              Yes   \n",
       "2           2015-09-04          Closed with explanation              Yes   \n",
       "3           2016-05-20  Closed with non-monetary relief              Yes   \n",
       "4           2016-07-07          Closed with explanation              Yes   \n",
       "\n",
       "   Complaint ID  month  day  year  \n",
       "0       1198133      1   17  2015  \n",
       "1       1979989      6   22  2016  \n",
       "2       1552090      9    4  2015  \n",
       "3       1929306      5   17  2016  \n",
       "4       2001667      7    7  2016  "
      ]
     },
     "execution_count": 25,
     "metadata": {},
     "output_type": "execute_result"
    }
   ],
   "source": [
    "test_data.head()"
   ]
  },
  {
   "cell_type": "code",
   "execution_count": 26,
   "id": "aef477a1",
   "metadata": {},
   "outputs": [
    {
     "data": {
      "text/html": [
       "<div>\n",
       "<style scoped>\n",
       "    .dataframe tbody tr th:only-of-type {\n",
       "        vertical-align: middle;\n",
       "    }\n",
       "\n",
       "    .dataframe tbody tr th {\n",
       "        vertical-align: top;\n",
       "    }\n",
       "\n",
       "    .dataframe thead th {\n",
       "        text-align: right;\n",
       "    }\n",
       "</style>\n",
       "<table border=\"1\" class=\"dataframe\">\n",
       "  <thead>\n",
       "    <tr style=\"text-align: right;\">\n",
       "      <th></th>\n",
       "      <th>Date received</th>\n",
       "      <th>Product</th>\n",
       "      <th>Issue</th>\n",
       "      <th>Company</th>\n",
       "      <th>State</th>\n",
       "      <th>ZIP code</th>\n",
       "      <th>Submitted via</th>\n",
       "      <th>Date sent to company</th>\n",
       "      <th>Company response to consumer</th>\n",
       "      <th>Timely response?</th>\n",
       "      <th>Consumer disputed?</th>\n",
       "      <th>Complaint ID</th>\n",
       "      <th>month</th>\n",
       "      <th>day</th>\n",
       "      <th>year</th>\n",
       "    </tr>\n",
       "  </thead>\n",
       "  <tbody>\n",
       "    <tr>\n",
       "      <th>0</th>\n",
       "      <td>2015-10-14</td>\n",
       "      <td>Credit reporting</td>\n",
       "      <td>Incorrect information on credit report</td>\n",
       "      <td>Equifax</td>\n",
       "      <td>GA</td>\n",
       "      <td>30134</td>\n",
       "      <td>Web</td>\n",
       "      <td>2015-10-14</td>\n",
       "      <td>Closed with explanation</td>\n",
       "      <td>Yes</td>\n",
       "      <td>No</td>\n",
       "      <td>1605653</td>\n",
       "      <td>10</td>\n",
       "      <td>14</td>\n",
       "      <td>2015</td>\n",
       "    </tr>\n",
       "    <tr>\n",
       "      <th>1</th>\n",
       "      <td>2015-04-26</td>\n",
       "      <td>Bank account or service</td>\n",
       "      <td>Deposits and withdrawals</td>\n",
       "      <td>Wells Fargo &amp; Company</td>\n",
       "      <td>GA</td>\n",
       "      <td>319XX</td>\n",
       "      <td>Web</td>\n",
       "      <td>2015-04-26</td>\n",
       "      <td>Closed with explanation</td>\n",
       "      <td>Yes</td>\n",
       "      <td>Yes</td>\n",
       "      <td>1347613</td>\n",
       "      <td>4</td>\n",
       "      <td>26</td>\n",
       "      <td>2015</td>\n",
       "    </tr>\n",
       "    <tr>\n",
       "      <th>2</th>\n",
       "      <td>2013-12-20</td>\n",
       "      <td>Credit card</td>\n",
       "      <td>Other</td>\n",
       "      <td>Citibank</td>\n",
       "      <td>SC</td>\n",
       "      <td>29203</td>\n",
       "      <td>Phone</td>\n",
       "      <td>2014-01-03</td>\n",
       "      <td>Closed with non-monetary relief</td>\n",
       "      <td>Yes</td>\n",
       "      <td>No</td>\n",
       "      <td>640394</td>\n",
       "      <td>12</td>\n",
       "      <td>20</td>\n",
       "      <td>2013</td>\n",
       "    </tr>\n",
       "    <tr>\n",
       "      <th>3</th>\n",
       "      <td>2016-03-03</td>\n",
       "      <td>Debt collection</td>\n",
       "      <td>Disclosure verification of debt</td>\n",
       "      <td>FAIR COLLECTIONS &amp; OUTSOURCING, INC.</td>\n",
       "      <td>OH</td>\n",
       "      <td>43082</td>\n",
       "      <td>Referral</td>\n",
       "      <td>2016-03-04</td>\n",
       "      <td>Closed with explanation</td>\n",
       "      <td>Yes</td>\n",
       "      <td>No</td>\n",
       "      <td>1815134</td>\n",
       "      <td>3</td>\n",
       "      <td>3</td>\n",
       "      <td>2016</td>\n",
       "    </tr>\n",
       "    <tr>\n",
       "      <th>4</th>\n",
       "      <td>2015-01-30</td>\n",
       "      <td>Debt collection</td>\n",
       "      <td>Disclosure verification of debt</td>\n",
       "      <td>HCFS Health Care Financial Services, Inc.</td>\n",
       "      <td>CA</td>\n",
       "      <td>90036</td>\n",
       "      <td>Web</td>\n",
       "      <td>2015-01-30</td>\n",
       "      <td>Closed with explanation</td>\n",
       "      <td>Yes</td>\n",
       "      <td>Yes</td>\n",
       "      <td>1218613</td>\n",
       "      <td>1</td>\n",
       "      <td>30</td>\n",
       "      <td>2015</td>\n",
       "    </tr>\n",
       "  </tbody>\n",
       "</table>\n",
       "</div>"
      ],
      "text/plain": [
       "  Date received                  Product  \\\n",
       "0    2015-10-14         Credit reporting   \n",
       "1    2015-04-26  Bank account or service   \n",
       "2    2013-12-20              Credit card   \n",
       "3    2016-03-03          Debt collection   \n",
       "4    2015-01-30          Debt collection   \n",
       "\n",
       "                                    Issue  \\\n",
       "0  Incorrect information on credit report   \n",
       "1                Deposits and withdrawals   \n",
       "2                                   Other   \n",
       "3         Disclosure verification of debt   \n",
       "4         Disclosure verification of debt   \n",
       "\n",
       "                                     Company State ZIP code Submitted via  \\\n",
       "0                                    Equifax    GA    30134           Web   \n",
       "1                      Wells Fargo & Company    GA    319XX           Web   \n",
       "2                                   Citibank    SC    29203         Phone   \n",
       "3       FAIR COLLECTIONS & OUTSOURCING, INC.    OH    43082      Referral   \n",
       "4  HCFS Health Care Financial Services, Inc.    CA    90036           Web   \n",
       "\n",
       "  Date sent to company     Company response to consumer Timely response?  \\\n",
       "0           2015-10-14          Closed with explanation              Yes   \n",
       "1           2015-04-26          Closed with explanation              Yes   \n",
       "2           2014-01-03  Closed with non-monetary relief              Yes   \n",
       "3           2016-03-04          Closed with explanation              Yes   \n",
       "4           2015-01-30          Closed with explanation              Yes   \n",
       "\n",
       "  Consumer disputed?  Complaint ID  month  day  year  \n",
       "0                 No       1605653     10   14  2015  \n",
       "1                Yes       1347613      4   26  2015  \n",
       "2                 No        640394     12   20  2013  \n",
       "3                 No       1815134      3    3  2016  \n",
       "4                Yes       1218613      1   30  2015  "
      ]
     },
     "execution_count": 26,
     "metadata": {},
     "output_type": "execute_result"
    }
   ],
   "source": [
    "train_data.head()"
   ]
  },
  {
   "cell_type": "code",
   "execution_count": 27,
   "id": "f5829f1a",
   "metadata": {},
   "outputs": [],
   "source": [
    "train_data[\"Date sent to company\"] = pd.to_datetime(train_data[\"Date sent to company\"])\n",
    "test_data[\"Date sent to company\"] = pd.to_datetime(test_data[\"Date sent to company\"])"
   ]
  },
  {
   "cell_type": "code",
   "execution_count": 28,
   "id": "3f5b183f",
   "metadata": {},
   "outputs": [],
   "source": [
    "train_data[\"Days_Held\"] = (train_data[\"Date sent to company\"] - train_data[\"Date received\"])"
   ]
  },
  {
   "cell_type": "code",
   "execution_count": 29,
   "id": "3affbf5f",
   "metadata": {},
   "outputs": [
    {
     "data": {
      "text/html": [
       "<div>\n",
       "<style scoped>\n",
       "    .dataframe tbody tr th:only-of-type {\n",
       "        vertical-align: middle;\n",
       "    }\n",
       "\n",
       "    .dataframe tbody tr th {\n",
       "        vertical-align: top;\n",
       "    }\n",
       "\n",
       "    .dataframe thead th {\n",
       "        text-align: right;\n",
       "    }\n",
       "</style>\n",
       "<table border=\"1\" class=\"dataframe\">\n",
       "  <thead>\n",
       "    <tr style=\"text-align: right;\">\n",
       "      <th></th>\n",
       "      <th>Date received</th>\n",
       "      <th>Product</th>\n",
       "      <th>Issue</th>\n",
       "      <th>Company</th>\n",
       "      <th>State</th>\n",
       "      <th>ZIP code</th>\n",
       "      <th>Submitted via</th>\n",
       "      <th>Date sent to company</th>\n",
       "      <th>Company response to consumer</th>\n",
       "      <th>Timely response?</th>\n",
       "      <th>Consumer disputed?</th>\n",
       "      <th>Complaint ID</th>\n",
       "      <th>month</th>\n",
       "      <th>day</th>\n",
       "      <th>year</th>\n",
       "      <th>Days_Held</th>\n",
       "    </tr>\n",
       "  </thead>\n",
       "  <tbody>\n",
       "    <tr>\n",
       "      <th>0</th>\n",
       "      <td>2015-10-14</td>\n",
       "      <td>Credit reporting</td>\n",
       "      <td>Incorrect information on credit report</td>\n",
       "      <td>Equifax</td>\n",
       "      <td>GA</td>\n",
       "      <td>30134</td>\n",
       "      <td>Web</td>\n",
       "      <td>2015-10-14</td>\n",
       "      <td>Closed with explanation</td>\n",
       "      <td>Yes</td>\n",
       "      <td>No</td>\n",
       "      <td>1605653</td>\n",
       "      <td>10</td>\n",
       "      <td>14</td>\n",
       "      <td>2015</td>\n",
       "      <td>0 days</td>\n",
       "    </tr>\n",
       "    <tr>\n",
       "      <th>1</th>\n",
       "      <td>2015-04-26</td>\n",
       "      <td>Bank account or service</td>\n",
       "      <td>Deposits and withdrawals</td>\n",
       "      <td>Wells Fargo &amp; Company</td>\n",
       "      <td>GA</td>\n",
       "      <td>319XX</td>\n",
       "      <td>Web</td>\n",
       "      <td>2015-04-26</td>\n",
       "      <td>Closed with explanation</td>\n",
       "      <td>Yes</td>\n",
       "      <td>Yes</td>\n",
       "      <td>1347613</td>\n",
       "      <td>4</td>\n",
       "      <td>26</td>\n",
       "      <td>2015</td>\n",
       "      <td>0 days</td>\n",
       "    </tr>\n",
       "    <tr>\n",
       "      <th>2</th>\n",
       "      <td>2013-12-20</td>\n",
       "      <td>Credit card</td>\n",
       "      <td>Other</td>\n",
       "      <td>Citibank</td>\n",
       "      <td>SC</td>\n",
       "      <td>29203</td>\n",
       "      <td>Phone</td>\n",
       "      <td>2014-01-03</td>\n",
       "      <td>Closed with non-monetary relief</td>\n",
       "      <td>Yes</td>\n",
       "      <td>No</td>\n",
       "      <td>640394</td>\n",
       "      <td>12</td>\n",
       "      <td>20</td>\n",
       "      <td>2013</td>\n",
       "      <td>14 days</td>\n",
       "    </tr>\n",
       "    <tr>\n",
       "      <th>3</th>\n",
       "      <td>2016-03-03</td>\n",
       "      <td>Debt collection</td>\n",
       "      <td>Disclosure verification of debt</td>\n",
       "      <td>FAIR COLLECTIONS &amp; OUTSOURCING, INC.</td>\n",
       "      <td>OH</td>\n",
       "      <td>43082</td>\n",
       "      <td>Referral</td>\n",
       "      <td>2016-03-04</td>\n",
       "      <td>Closed with explanation</td>\n",
       "      <td>Yes</td>\n",
       "      <td>No</td>\n",
       "      <td>1815134</td>\n",
       "      <td>3</td>\n",
       "      <td>3</td>\n",
       "      <td>2016</td>\n",
       "      <td>1 days</td>\n",
       "    </tr>\n",
       "    <tr>\n",
       "      <th>4</th>\n",
       "      <td>2015-01-30</td>\n",
       "      <td>Debt collection</td>\n",
       "      <td>Disclosure verification of debt</td>\n",
       "      <td>HCFS Health Care Financial Services, Inc.</td>\n",
       "      <td>CA</td>\n",
       "      <td>90036</td>\n",
       "      <td>Web</td>\n",
       "      <td>2015-01-30</td>\n",
       "      <td>Closed with explanation</td>\n",
       "      <td>Yes</td>\n",
       "      <td>Yes</td>\n",
       "      <td>1218613</td>\n",
       "      <td>1</td>\n",
       "      <td>30</td>\n",
       "      <td>2015</td>\n",
       "      <td>0 days</td>\n",
       "    </tr>\n",
       "  </tbody>\n",
       "</table>\n",
       "</div>"
      ],
      "text/plain": [
       "  Date received                  Product  \\\n",
       "0    2015-10-14         Credit reporting   \n",
       "1    2015-04-26  Bank account or service   \n",
       "2    2013-12-20              Credit card   \n",
       "3    2016-03-03          Debt collection   \n",
       "4    2015-01-30          Debt collection   \n",
       "\n",
       "                                    Issue  \\\n",
       "0  Incorrect information on credit report   \n",
       "1                Deposits and withdrawals   \n",
       "2                                   Other   \n",
       "3         Disclosure verification of debt   \n",
       "4         Disclosure verification of debt   \n",
       "\n",
       "                                     Company State ZIP code Submitted via  \\\n",
       "0                                    Equifax    GA    30134           Web   \n",
       "1                      Wells Fargo & Company    GA    319XX           Web   \n",
       "2                                   Citibank    SC    29203         Phone   \n",
       "3       FAIR COLLECTIONS & OUTSOURCING, INC.    OH    43082      Referral   \n",
       "4  HCFS Health Care Financial Services, Inc.    CA    90036           Web   \n",
       "\n",
       "  Date sent to company     Company response to consumer Timely response?  \\\n",
       "0           2015-10-14          Closed with explanation              Yes   \n",
       "1           2015-04-26          Closed with explanation              Yes   \n",
       "2           2014-01-03  Closed with non-monetary relief              Yes   \n",
       "3           2016-03-04          Closed with explanation              Yes   \n",
       "4           2015-01-30          Closed with explanation              Yes   \n",
       "\n",
       "  Consumer disputed?  Complaint ID  month  day  year Days_Held  \n",
       "0                 No       1605653     10   14  2015    0 days  \n",
       "1                Yes       1347613      4   26  2015    0 days  \n",
       "2                 No        640394     12   20  2013   14 days  \n",
       "3                 No       1815134      3    3  2016    1 days  \n",
       "4                Yes       1218613      1   30  2015    0 days  "
      ]
     },
     "execution_count": 29,
     "metadata": {},
     "output_type": "execute_result"
    }
   ],
   "source": [
    "train_data.head()"
   ]
  },
  {
   "cell_type": "code",
   "execution_count": 30,
   "id": "243f10ae",
   "metadata": {},
   "outputs": [],
   "source": [
    "test_data[\"Days_Held\"] = (test_data[\"Date sent to company\"] - test_data[\"Date received\"])"
   ]
  },
  {
   "cell_type": "code",
   "execution_count": 31,
   "id": "09c99472",
   "metadata": {},
   "outputs": [
    {
     "data": {
      "text/html": [
       "<div>\n",
       "<style scoped>\n",
       "    .dataframe tbody tr th:only-of-type {\n",
       "        vertical-align: middle;\n",
       "    }\n",
       "\n",
       "    .dataframe tbody tr th {\n",
       "        vertical-align: top;\n",
       "    }\n",
       "\n",
       "    .dataframe thead th {\n",
       "        text-align: right;\n",
       "    }\n",
       "</style>\n",
       "<table border=\"1\" class=\"dataframe\">\n",
       "  <thead>\n",
       "    <tr style=\"text-align: right;\">\n",
       "      <th></th>\n",
       "      <th>Date received</th>\n",
       "      <th>Product</th>\n",
       "      <th>Issue</th>\n",
       "      <th>Company</th>\n",
       "      <th>State</th>\n",
       "      <th>ZIP code</th>\n",
       "      <th>Submitted via</th>\n",
       "      <th>Date sent to company</th>\n",
       "      <th>Company response to consumer</th>\n",
       "      <th>Timely response?</th>\n",
       "      <th>Complaint ID</th>\n",
       "      <th>month</th>\n",
       "      <th>day</th>\n",
       "      <th>year</th>\n",
       "      <th>Days_Held</th>\n",
       "    </tr>\n",
       "  </thead>\n",
       "  <tbody>\n",
       "    <tr>\n",
       "      <th>0</th>\n",
       "      <td>2015-01-17</td>\n",
       "      <td>Credit card</td>\n",
       "      <td>Customer service / Customer relations</td>\n",
       "      <td>Citibank</td>\n",
       "      <td>TX</td>\n",
       "      <td>75241</td>\n",
       "      <td>Web</td>\n",
       "      <td>2015-01-17</td>\n",
       "      <td>Closed with monetary relief</td>\n",
       "      <td>Yes</td>\n",
       "      <td>1198133</td>\n",
       "      <td>1</td>\n",
       "      <td>17</td>\n",
       "      <td>2015</td>\n",
       "      <td>0 days</td>\n",
       "    </tr>\n",
       "    <tr>\n",
       "      <th>1</th>\n",
       "      <td>2016-06-22</td>\n",
       "      <td>Consumer Loan</td>\n",
       "      <td>Payment to acct not credited</td>\n",
       "      <td>Larsen MacColl Partners II, L.P.</td>\n",
       "      <td>TX</td>\n",
       "      <td>76548</td>\n",
       "      <td>Phone</td>\n",
       "      <td>2016-06-22</td>\n",
       "      <td>Closed with explanation</td>\n",
       "      <td>Yes</td>\n",
       "      <td>1979989</td>\n",
       "      <td>6</td>\n",
       "      <td>22</td>\n",
       "      <td>2016</td>\n",
       "      <td>0 days</td>\n",
       "    </tr>\n",
       "    <tr>\n",
       "      <th>2</th>\n",
       "      <td>2015-09-04</td>\n",
       "      <td>Credit card</td>\n",
       "      <td>Credit line increase/decrease</td>\n",
       "      <td>Capital One</td>\n",
       "      <td>NC</td>\n",
       "      <td>271XX</td>\n",
       "      <td>Web</td>\n",
       "      <td>2015-09-04</td>\n",
       "      <td>Closed with explanation</td>\n",
       "      <td>Yes</td>\n",
       "      <td>1552090</td>\n",
       "      <td>9</td>\n",
       "      <td>4</td>\n",
       "      <td>2015</td>\n",
       "      <td>0 days</td>\n",
       "    </tr>\n",
       "    <tr>\n",
       "      <th>3</th>\n",
       "      <td>2016-05-17</td>\n",
       "      <td>Consumer Loan</td>\n",
       "      <td>Problems when you are unable to pay</td>\n",
       "      <td>OneMain Financial Holdings, LLC</td>\n",
       "      <td>MO</td>\n",
       "      <td>634XX</td>\n",
       "      <td>Web</td>\n",
       "      <td>2016-05-20</td>\n",
       "      <td>Closed with non-monetary relief</td>\n",
       "      <td>Yes</td>\n",
       "      <td>1929306</td>\n",
       "      <td>5</td>\n",
       "      <td>17</td>\n",
       "      <td>2016</td>\n",
       "      <td>3 days</td>\n",
       "    </tr>\n",
       "    <tr>\n",
       "      <th>4</th>\n",
       "      <td>2016-07-07</td>\n",
       "      <td>Debt collection</td>\n",
       "      <td>Improper contact or sharing of info</td>\n",
       "      <td>GMA Investments, LLC</td>\n",
       "      <td>SC</td>\n",
       "      <td>296XX</td>\n",
       "      <td>Web</td>\n",
       "      <td>2016-07-07</td>\n",
       "      <td>Closed with explanation</td>\n",
       "      <td>Yes</td>\n",
       "      <td>2001667</td>\n",
       "      <td>7</td>\n",
       "      <td>7</td>\n",
       "      <td>2016</td>\n",
       "      <td>0 days</td>\n",
       "    </tr>\n",
       "  </tbody>\n",
       "</table>\n",
       "</div>"
      ],
      "text/plain": [
       "  Date received          Product                                  Issue  \\\n",
       "0    2015-01-17      Credit card  Customer service / Customer relations   \n",
       "1    2016-06-22    Consumer Loan           Payment to acct not credited   \n",
       "2    2015-09-04      Credit card          Credit line increase/decrease   \n",
       "3    2016-05-17    Consumer Loan    Problems when you are unable to pay   \n",
       "4    2016-07-07  Debt collection    Improper contact or sharing of info   \n",
       "\n",
       "                            Company State ZIP code Submitted via  \\\n",
       "0                          Citibank    TX    75241           Web   \n",
       "1  Larsen MacColl Partners II, L.P.    TX    76548         Phone   \n",
       "2                       Capital One    NC    271XX           Web   \n",
       "3   OneMain Financial Holdings, LLC    MO    634XX           Web   \n",
       "4              GMA Investments, LLC    SC    296XX           Web   \n",
       "\n",
       "  Date sent to company     Company response to consumer Timely response?  \\\n",
       "0           2015-01-17      Closed with monetary relief              Yes   \n",
       "1           2016-06-22          Closed with explanation              Yes   \n",
       "2           2015-09-04          Closed with explanation              Yes   \n",
       "3           2016-05-20  Closed with non-monetary relief              Yes   \n",
       "4           2016-07-07          Closed with explanation              Yes   \n",
       "\n",
       "   Complaint ID  month  day  year Days_Held  \n",
       "0       1198133      1   17  2015    0 days  \n",
       "1       1979989      6   22  2016    0 days  \n",
       "2       1552090      9    4  2015    0 days  \n",
       "3       1929306      5   17  2016    3 days  \n",
       "4       2001667      7    7  2016    0 days  "
      ]
     },
     "execution_count": 31,
     "metadata": {},
     "output_type": "execute_result"
    }
   ],
   "source": [
    "test_data.head()"
   ]
  },
  {
   "cell_type": "code",
   "execution_count": 32,
   "id": "881ea936",
   "metadata": {},
   "outputs": [],
   "source": [
    "test_data = test_data.drop([\"Date received\", \"Complaint ID\",\"Date sent to company\", \"ZIP code\"], axis = 1)"
   ]
  },
  {
   "cell_type": "code",
   "execution_count": 33,
   "id": "9498741d",
   "metadata": {},
   "outputs": [],
   "source": [
    "train_data = train_data.drop([\"Date received\", \"Complaint ID\",\"Date sent to company\", \"ZIP code\"], axis = 1)"
   ]
  },
  {
   "cell_type": "code",
   "execution_count": 34,
   "id": "0b7e01be",
   "metadata": {},
   "outputs": [
    {
     "data": {
      "text/html": [
       "<div>\n",
       "<style scoped>\n",
       "    .dataframe tbody tr th:only-of-type {\n",
       "        vertical-align: middle;\n",
       "    }\n",
       "\n",
       "    .dataframe tbody tr th {\n",
       "        vertical-align: top;\n",
       "    }\n",
       "\n",
       "    .dataframe thead th {\n",
       "        text-align: right;\n",
       "    }\n",
       "</style>\n",
       "<table border=\"1\" class=\"dataframe\">\n",
       "  <thead>\n",
       "    <tr style=\"text-align: right;\">\n",
       "      <th></th>\n",
       "      <th>Product</th>\n",
       "      <th>Issue</th>\n",
       "      <th>Company</th>\n",
       "      <th>State</th>\n",
       "      <th>Submitted via</th>\n",
       "      <th>Company response to consumer</th>\n",
       "      <th>Timely response?</th>\n",
       "      <th>Consumer disputed?</th>\n",
       "      <th>month</th>\n",
       "      <th>day</th>\n",
       "      <th>year</th>\n",
       "      <th>Days_Held</th>\n",
       "    </tr>\n",
       "  </thead>\n",
       "  <tbody>\n",
       "    <tr>\n",
       "      <th>0</th>\n",
       "      <td>Credit reporting</td>\n",
       "      <td>Incorrect information on credit report</td>\n",
       "      <td>Equifax</td>\n",
       "      <td>GA</td>\n",
       "      <td>Web</td>\n",
       "      <td>Closed with explanation</td>\n",
       "      <td>Yes</td>\n",
       "      <td>No</td>\n",
       "      <td>10</td>\n",
       "      <td>14</td>\n",
       "      <td>2015</td>\n",
       "      <td>0 days</td>\n",
       "    </tr>\n",
       "    <tr>\n",
       "      <th>1</th>\n",
       "      <td>Bank account or service</td>\n",
       "      <td>Deposits and withdrawals</td>\n",
       "      <td>Wells Fargo &amp; Company</td>\n",
       "      <td>GA</td>\n",
       "      <td>Web</td>\n",
       "      <td>Closed with explanation</td>\n",
       "      <td>Yes</td>\n",
       "      <td>Yes</td>\n",
       "      <td>4</td>\n",
       "      <td>26</td>\n",
       "      <td>2015</td>\n",
       "      <td>0 days</td>\n",
       "    </tr>\n",
       "    <tr>\n",
       "      <th>2</th>\n",
       "      <td>Credit card</td>\n",
       "      <td>Other</td>\n",
       "      <td>Citibank</td>\n",
       "      <td>SC</td>\n",
       "      <td>Phone</td>\n",
       "      <td>Closed with non-monetary relief</td>\n",
       "      <td>Yes</td>\n",
       "      <td>No</td>\n",
       "      <td>12</td>\n",
       "      <td>20</td>\n",
       "      <td>2013</td>\n",
       "      <td>14 days</td>\n",
       "    </tr>\n",
       "    <tr>\n",
       "      <th>3</th>\n",
       "      <td>Debt collection</td>\n",
       "      <td>Disclosure verification of debt</td>\n",
       "      <td>FAIR COLLECTIONS &amp; OUTSOURCING, INC.</td>\n",
       "      <td>OH</td>\n",
       "      <td>Referral</td>\n",
       "      <td>Closed with explanation</td>\n",
       "      <td>Yes</td>\n",
       "      <td>No</td>\n",
       "      <td>3</td>\n",
       "      <td>3</td>\n",
       "      <td>2016</td>\n",
       "      <td>1 days</td>\n",
       "    </tr>\n",
       "    <tr>\n",
       "      <th>4</th>\n",
       "      <td>Debt collection</td>\n",
       "      <td>Disclosure verification of debt</td>\n",
       "      <td>HCFS Health Care Financial Services, Inc.</td>\n",
       "      <td>CA</td>\n",
       "      <td>Web</td>\n",
       "      <td>Closed with explanation</td>\n",
       "      <td>Yes</td>\n",
       "      <td>Yes</td>\n",
       "      <td>1</td>\n",
       "      <td>30</td>\n",
       "      <td>2015</td>\n",
       "      <td>0 days</td>\n",
       "    </tr>\n",
       "  </tbody>\n",
       "</table>\n",
       "</div>"
      ],
      "text/plain": [
       "                   Product                                   Issue  \\\n",
       "0         Credit reporting  Incorrect information on credit report   \n",
       "1  Bank account or service                Deposits and withdrawals   \n",
       "2              Credit card                                   Other   \n",
       "3          Debt collection         Disclosure verification of debt   \n",
       "4          Debt collection         Disclosure verification of debt   \n",
       "\n",
       "                                     Company State Submitted via  \\\n",
       "0                                    Equifax    GA           Web   \n",
       "1                      Wells Fargo & Company    GA           Web   \n",
       "2                                   Citibank    SC         Phone   \n",
       "3       FAIR COLLECTIONS & OUTSOURCING, INC.    OH      Referral   \n",
       "4  HCFS Health Care Financial Services, Inc.    CA           Web   \n",
       "\n",
       "      Company response to consumer Timely response? Consumer disputed?  month  \\\n",
       "0          Closed with explanation              Yes                 No     10   \n",
       "1          Closed with explanation              Yes                Yes      4   \n",
       "2  Closed with non-monetary relief              Yes                 No     12   \n",
       "3          Closed with explanation              Yes                 No      3   \n",
       "4          Closed with explanation              Yes                Yes      1   \n",
       "\n",
       "   day  year Days_Held  \n",
       "0   14  2015    0 days  \n",
       "1   26  2015    0 days  \n",
       "2   20  2013   14 days  \n",
       "3    3  2016    1 days  \n",
       "4   30  2015    0 days  "
      ]
     },
     "execution_count": 34,
     "metadata": {},
     "output_type": "execute_result"
    }
   ],
   "source": [
    "train_data.head()"
   ]
  },
  {
   "cell_type": "code",
   "execution_count": 35,
   "id": "12832cf1",
   "metadata": {},
   "outputs": [],
   "source": [
    "lb = LabelEncoder()\n",
    "\n",
    "lb.fit(train_data[\"State\"])\n",
    "train_data[\"State\"] = lb.transform(train_data[\"State\"])\n",
    "\n",
    "lb.fit(test_data[\"State\"])\n",
    "test_data[\"State\"] = lb.transform(test_data[\"State\"])"
   ]
  },
  {
   "cell_type": "code",
   "execution_count": 36,
   "id": "a9d02b48",
   "metadata": {},
   "outputs": [
    {
     "data": {
      "text/plain": [
       "0         15\n",
       "1         15\n",
       "2         50\n",
       "3         43\n",
       "4          8\n",
       "          ..\n",
       "358805    45\n",
       "358806    43\n",
       "358807    53\n",
       "358808    13\n",
       "358809    13\n",
       "Name: State, Length: 358810, dtype: int32"
      ]
     },
     "execution_count": 36,
     "metadata": {},
     "output_type": "execute_result"
    }
   ],
   "source": [
    "test_data[\"State\"].fillna(value = test_data[\"State\"].mode())\n",
    "train_data[\"State\"].fillna(value = train_data[\"State\"].mode())"
   ]
  },
  {
   "cell_type": "code",
   "execution_count": 37,
   "id": "3368e56f",
   "metadata": {},
   "outputs": [
    {
     "data": {
      "text/plain": [
       "Product                         0\n",
       "Issue                           0\n",
       "Company                         0\n",
       "State                           0\n",
       "Submitted via                   0\n",
       "Company response to consumer    0\n",
       "Timely response?                0\n",
       "Consumer disputed?              0\n",
       "month                           0\n",
       "day                             0\n",
       "year                            0\n",
       "Days_Held                       0\n",
       "dtype: int64"
      ]
     },
     "execution_count": 37,
     "metadata": {},
     "output_type": "execute_result"
    }
   ],
   "source": [
    "train_data.isnull().sum()"
   ]
  },
  {
   "cell_type": "code",
   "execution_count": 38,
   "id": "a541d877",
   "metadata": {},
   "outputs": [
    {
     "data": {
      "text/plain": [
       "Product                         0\n",
       "Issue                           0\n",
       "Company                         0\n",
       "State                           0\n",
       "Submitted via                   0\n",
       "Company response to consumer    0\n",
       "Timely response?                0\n",
       "month                           0\n",
       "day                             0\n",
       "year                            0\n",
       "Days_Held                       0\n",
       "dtype: int64"
      ]
     },
     "execution_count": 38,
     "metadata": {},
     "output_type": "execute_result"
    }
   ],
   "source": [
    "test_data.isnull().sum()"
   ]
  },
  {
   "cell_type": "code",
   "execution_count": 39,
   "id": "bf336298",
   "metadata": {},
   "outputs": [
    {
     "data": {
      "text/html": [
       "<div>\n",
       "<style scoped>\n",
       "    .dataframe tbody tr th:only-of-type {\n",
       "        vertical-align: middle;\n",
       "    }\n",
       "\n",
       "    .dataframe tbody tr th {\n",
       "        vertical-align: top;\n",
       "    }\n",
       "\n",
       "    .dataframe thead th {\n",
       "        text-align: right;\n",
       "    }\n",
       "</style>\n",
       "<table border=\"1\" class=\"dataframe\">\n",
       "  <thead>\n",
       "    <tr style=\"text-align: right;\">\n",
       "      <th></th>\n",
       "      <th>Product</th>\n",
       "      <th>Issue</th>\n",
       "      <th>Company</th>\n",
       "      <th>State</th>\n",
       "      <th>Submitted via</th>\n",
       "      <th>Company response to consumer</th>\n",
       "      <th>Timely response?</th>\n",
       "      <th>Consumer disputed?</th>\n",
       "      <th>month</th>\n",
       "      <th>day</th>\n",
       "      <th>year</th>\n",
       "      <th>Days_Held</th>\n",
       "    </tr>\n",
       "  </thead>\n",
       "  <tbody>\n",
       "    <tr>\n",
       "      <th>0</th>\n",
       "      <td>Credit reporting</td>\n",
       "      <td>Incorrect information on credit report</td>\n",
       "      <td>Equifax</td>\n",
       "      <td>15</td>\n",
       "      <td>Web</td>\n",
       "      <td>Closed with explanation</td>\n",
       "      <td>Yes</td>\n",
       "      <td>No</td>\n",
       "      <td>10</td>\n",
       "      <td>14</td>\n",
       "      <td>2015</td>\n",
       "      <td>0 days</td>\n",
       "    </tr>\n",
       "    <tr>\n",
       "      <th>1</th>\n",
       "      <td>Bank account or service</td>\n",
       "      <td>Deposits and withdrawals</td>\n",
       "      <td>Wells Fargo &amp; Company</td>\n",
       "      <td>15</td>\n",
       "      <td>Web</td>\n",
       "      <td>Closed with explanation</td>\n",
       "      <td>Yes</td>\n",
       "      <td>Yes</td>\n",
       "      <td>4</td>\n",
       "      <td>26</td>\n",
       "      <td>2015</td>\n",
       "      <td>0 days</td>\n",
       "    </tr>\n",
       "    <tr>\n",
       "      <th>2</th>\n",
       "      <td>Credit card</td>\n",
       "      <td>Other</td>\n",
       "      <td>Citibank</td>\n",
       "      <td>50</td>\n",
       "      <td>Phone</td>\n",
       "      <td>Closed with non-monetary relief</td>\n",
       "      <td>Yes</td>\n",
       "      <td>No</td>\n",
       "      <td>12</td>\n",
       "      <td>20</td>\n",
       "      <td>2013</td>\n",
       "      <td>14 days</td>\n",
       "    </tr>\n",
       "    <tr>\n",
       "      <th>3</th>\n",
       "      <td>Debt collection</td>\n",
       "      <td>Disclosure verification of debt</td>\n",
       "      <td>FAIR COLLECTIONS &amp; OUTSOURCING, INC.</td>\n",
       "      <td>43</td>\n",
       "      <td>Referral</td>\n",
       "      <td>Closed with explanation</td>\n",
       "      <td>Yes</td>\n",
       "      <td>No</td>\n",
       "      <td>3</td>\n",
       "      <td>3</td>\n",
       "      <td>2016</td>\n",
       "      <td>1 days</td>\n",
       "    </tr>\n",
       "    <tr>\n",
       "      <th>4</th>\n",
       "      <td>Debt collection</td>\n",
       "      <td>Disclosure verification of debt</td>\n",
       "      <td>HCFS Health Care Financial Services, Inc.</td>\n",
       "      <td>8</td>\n",
       "      <td>Web</td>\n",
       "      <td>Closed with explanation</td>\n",
       "      <td>Yes</td>\n",
       "      <td>Yes</td>\n",
       "      <td>1</td>\n",
       "      <td>30</td>\n",
       "      <td>2015</td>\n",
       "      <td>0 days</td>\n",
       "    </tr>\n",
       "  </tbody>\n",
       "</table>\n",
       "</div>"
      ],
      "text/plain": [
       "                   Product                                   Issue  \\\n",
       "0         Credit reporting  Incorrect information on credit report   \n",
       "1  Bank account or service                Deposits and withdrawals   \n",
       "2              Credit card                                   Other   \n",
       "3          Debt collection         Disclosure verification of debt   \n",
       "4          Debt collection         Disclosure verification of debt   \n",
       "\n",
       "                                     Company  State Submitted via  \\\n",
       "0                                    Equifax     15           Web   \n",
       "1                      Wells Fargo & Company     15           Web   \n",
       "2                                   Citibank     50         Phone   \n",
       "3       FAIR COLLECTIONS & OUTSOURCING, INC.     43      Referral   \n",
       "4  HCFS Health Care Financial Services, Inc.      8           Web   \n",
       "\n",
       "      Company response to consumer Timely response? Consumer disputed?  month  \\\n",
       "0          Closed with explanation              Yes                 No     10   \n",
       "1          Closed with explanation              Yes                Yes      4   \n",
       "2  Closed with non-monetary relief              Yes                 No     12   \n",
       "3          Closed with explanation              Yes                 No      3   \n",
       "4          Closed with explanation              Yes                Yes      1   \n",
       "\n",
       "   day  year Days_Held  \n",
       "0   14  2015    0 days  \n",
       "1   26  2015    0 days  \n",
       "2   20  2013   14 days  \n",
       "3    3  2016    1 days  \n",
       "4   30  2015    0 days  "
      ]
     },
     "execution_count": 39,
     "metadata": {},
     "output_type": "execute_result"
    }
   ],
   "source": [
    "train_data.head()"
   ]
  },
  {
   "cell_type": "code",
   "execution_count": 40,
   "id": "31f5963a",
   "metadata": {},
   "outputs": [
    {
     "data": {
      "text/html": [
       "<div>\n",
       "<style scoped>\n",
       "    .dataframe tbody tr th:only-of-type {\n",
       "        vertical-align: middle;\n",
       "    }\n",
       "\n",
       "    .dataframe tbody tr th {\n",
       "        vertical-align: top;\n",
       "    }\n",
       "\n",
       "    .dataframe thead th {\n",
       "        text-align: right;\n",
       "    }\n",
       "</style>\n",
       "<table border=\"1\" class=\"dataframe\">\n",
       "  <thead>\n",
       "    <tr style=\"text-align: right;\">\n",
       "      <th></th>\n",
       "      <th>Product</th>\n",
       "      <th>Issue</th>\n",
       "      <th>Company</th>\n",
       "      <th>State</th>\n",
       "      <th>Submitted via</th>\n",
       "      <th>Company response to consumer</th>\n",
       "      <th>Timely response?</th>\n",
       "      <th>month</th>\n",
       "      <th>day</th>\n",
       "      <th>year</th>\n",
       "      <th>Days_Held</th>\n",
       "    </tr>\n",
       "  </thead>\n",
       "  <tbody>\n",
       "    <tr>\n",
       "      <th>0</th>\n",
       "      <td>Credit card</td>\n",
       "      <td>Customer service / Customer relations</td>\n",
       "      <td>Citibank</td>\n",
       "      <td>53</td>\n",
       "      <td>Web</td>\n",
       "      <td>Closed with monetary relief</td>\n",
       "      <td>Yes</td>\n",
       "      <td>1</td>\n",
       "      <td>17</td>\n",
       "      <td>2015</td>\n",
       "      <td>0 days</td>\n",
       "    </tr>\n",
       "    <tr>\n",
       "      <th>1</th>\n",
       "      <td>Consumer Loan</td>\n",
       "      <td>Payment to acct not credited</td>\n",
       "      <td>Larsen MacColl Partners II, L.P.</td>\n",
       "      <td>53</td>\n",
       "      <td>Phone</td>\n",
       "      <td>Closed with explanation</td>\n",
       "      <td>Yes</td>\n",
       "      <td>6</td>\n",
       "      <td>22</td>\n",
       "      <td>2016</td>\n",
       "      <td>0 days</td>\n",
       "    </tr>\n",
       "    <tr>\n",
       "      <th>2</th>\n",
       "      <td>Credit card</td>\n",
       "      <td>Credit line increase/decrease</td>\n",
       "      <td>Capital One</td>\n",
       "      <td>35</td>\n",
       "      <td>Web</td>\n",
       "      <td>Closed with explanation</td>\n",
       "      <td>Yes</td>\n",
       "      <td>9</td>\n",
       "      <td>4</td>\n",
       "      <td>2015</td>\n",
       "      <td>0 days</td>\n",
       "    </tr>\n",
       "    <tr>\n",
       "      <th>3</th>\n",
       "      <td>Consumer Loan</td>\n",
       "      <td>Problems when you are unable to pay</td>\n",
       "      <td>OneMain Financial Holdings, LLC</td>\n",
       "      <td>31</td>\n",
       "      <td>Web</td>\n",
       "      <td>Closed with non-monetary relief</td>\n",
       "      <td>Yes</td>\n",
       "      <td>5</td>\n",
       "      <td>17</td>\n",
       "      <td>2016</td>\n",
       "      <td>3 days</td>\n",
       "    </tr>\n",
       "    <tr>\n",
       "      <th>4</th>\n",
       "      <td>Debt collection</td>\n",
       "      <td>Improper contact or sharing of info</td>\n",
       "      <td>GMA Investments, LLC</td>\n",
       "      <td>50</td>\n",
       "      <td>Web</td>\n",
       "      <td>Closed with explanation</td>\n",
       "      <td>Yes</td>\n",
       "      <td>7</td>\n",
       "      <td>7</td>\n",
       "      <td>2016</td>\n",
       "      <td>0 days</td>\n",
       "    </tr>\n",
       "  </tbody>\n",
       "</table>\n",
       "</div>"
      ],
      "text/plain": [
       "           Product                                  Issue  \\\n",
       "0      Credit card  Customer service / Customer relations   \n",
       "1    Consumer Loan           Payment to acct not credited   \n",
       "2      Credit card          Credit line increase/decrease   \n",
       "3    Consumer Loan    Problems when you are unable to pay   \n",
       "4  Debt collection    Improper contact or sharing of info   \n",
       "\n",
       "                            Company  State Submitted via  \\\n",
       "0                          Citibank     53           Web   \n",
       "1  Larsen MacColl Partners II, L.P.     53         Phone   \n",
       "2                       Capital One     35           Web   \n",
       "3   OneMain Financial Holdings, LLC     31           Web   \n",
       "4              GMA Investments, LLC     50           Web   \n",
       "\n",
       "      Company response to consumer Timely response?  month  day  year  \\\n",
       "0      Closed with monetary relief              Yes      1   17  2015   \n",
       "1          Closed with explanation              Yes      6   22  2016   \n",
       "2          Closed with explanation              Yes      9    4  2015   \n",
       "3  Closed with non-monetary relief              Yes      5   17  2016   \n",
       "4          Closed with explanation              Yes      7    7  2016   \n",
       "\n",
       "  Days_Held  \n",
       "0    0 days  \n",
       "1    0 days  \n",
       "2    0 days  \n",
       "3    3 days  \n",
       "4    0 days  "
      ]
     },
     "execution_count": 40,
     "metadata": {},
     "output_type": "execute_result"
    }
   ],
   "source": [
    "test_data.head()"
   ]
  },
  {
   "cell_type": "code",
   "execution_count": 41,
   "id": "2a5ad29c",
   "metadata": {},
   "outputs": [],
   "source": [
    "Week_Received = []\n",
    "\n",
    "for i in train_data[\"day\"]:\n",
    "    if i>=1 and i<=7:\n",
    "        Week_Received.append(1)\n",
    "    if i>=8 and i<=14:\n",
    "        Week_Received.append(2)\n",
    "    if i>=15 and i<=21:\n",
    "        Week_Received.append(3)\n",
    "    if i>=22 and i<=28:\n",
    "        Week_Received.append(4)\n",
    "    else:\n",
    "        Week_Received.append(5)\n",
    "    \n",
    "train_data[\"Week Received\"] = pd.Series(Week_Received)"
   ]
  },
  {
   "cell_type": "code",
   "execution_count": 42,
   "id": "2974006d",
   "metadata": {},
   "outputs": [],
   "source": [
    "Week_Received = []\n",
    "\n",
    "for i in test_data[\"day\"]:\n",
    "    if i>=1 and i<=7:\n",
    "        Week_Received.append(1)\n",
    "    if i>=8 and i<=14:\n",
    "        Week_Received.append(2)\n",
    "    if i>=15 and i<=21:\n",
    "        Week_Received.append(3)\n",
    "    if i>=22 and i<=28:\n",
    "        Week_Received.append(4)\n",
    "    else:\n",
    "        Week_Received.append(5)\n",
    "    \n",
    "test_data[\"Week Received\"] = pd.Series(Week_Received)"
   ]
  },
  {
   "cell_type": "code",
   "execution_count": 43,
   "id": "81d06f3f",
   "metadata": {},
   "outputs": [
    {
     "data": {
      "text/html": [
       "<div>\n",
       "<style scoped>\n",
       "    .dataframe tbody tr th:only-of-type {\n",
       "        vertical-align: middle;\n",
       "    }\n",
       "\n",
       "    .dataframe tbody tr th {\n",
       "        vertical-align: top;\n",
       "    }\n",
       "\n",
       "    .dataframe thead th {\n",
       "        text-align: right;\n",
       "    }\n",
       "</style>\n",
       "<table border=\"1\" class=\"dataframe\">\n",
       "  <thead>\n",
       "    <tr style=\"text-align: right;\">\n",
       "      <th></th>\n",
       "      <th>Product</th>\n",
       "      <th>Issue</th>\n",
       "      <th>Company</th>\n",
       "      <th>State</th>\n",
       "      <th>Submitted via</th>\n",
       "      <th>Company response to consumer</th>\n",
       "      <th>Timely response?</th>\n",
       "      <th>month</th>\n",
       "      <th>day</th>\n",
       "      <th>year</th>\n",
       "      <th>Days_Held</th>\n",
       "      <th>Week Received</th>\n",
       "    </tr>\n",
       "  </thead>\n",
       "  <tbody>\n",
       "    <tr>\n",
       "      <th>0</th>\n",
       "      <td>Credit card</td>\n",
       "      <td>Customer service / Customer relations</td>\n",
       "      <td>Citibank</td>\n",
       "      <td>53</td>\n",
       "      <td>Web</td>\n",
       "      <td>Closed with monetary relief</td>\n",
       "      <td>Yes</td>\n",
       "      <td>1</td>\n",
       "      <td>17</td>\n",
       "      <td>2015</td>\n",
       "      <td>0 days</td>\n",
       "      <td>3</td>\n",
       "    </tr>\n",
       "    <tr>\n",
       "      <th>1</th>\n",
       "      <td>Consumer Loan</td>\n",
       "      <td>Payment to acct not credited</td>\n",
       "      <td>Larsen MacColl Partners II, L.P.</td>\n",
       "      <td>53</td>\n",
       "      <td>Phone</td>\n",
       "      <td>Closed with explanation</td>\n",
       "      <td>Yes</td>\n",
       "      <td>6</td>\n",
       "      <td>22</td>\n",
       "      <td>2016</td>\n",
       "      <td>0 days</td>\n",
       "      <td>5</td>\n",
       "    </tr>\n",
       "    <tr>\n",
       "      <th>2</th>\n",
       "      <td>Credit card</td>\n",
       "      <td>Credit line increase/decrease</td>\n",
       "      <td>Capital One</td>\n",
       "      <td>35</td>\n",
       "      <td>Web</td>\n",
       "      <td>Closed with explanation</td>\n",
       "      <td>Yes</td>\n",
       "      <td>9</td>\n",
       "      <td>4</td>\n",
       "      <td>2015</td>\n",
       "      <td>0 days</td>\n",
       "      <td>4</td>\n",
       "    </tr>\n",
       "    <tr>\n",
       "      <th>3</th>\n",
       "      <td>Consumer Loan</td>\n",
       "      <td>Problems when you are unable to pay</td>\n",
       "      <td>OneMain Financial Holdings, LLC</td>\n",
       "      <td>31</td>\n",
       "      <td>Web</td>\n",
       "      <td>Closed with non-monetary relief</td>\n",
       "      <td>Yes</td>\n",
       "      <td>5</td>\n",
       "      <td>17</td>\n",
       "      <td>2016</td>\n",
       "      <td>3 days</td>\n",
       "      <td>1</td>\n",
       "    </tr>\n",
       "    <tr>\n",
       "      <th>4</th>\n",
       "      <td>Debt collection</td>\n",
       "      <td>Improper contact or sharing of info</td>\n",
       "      <td>GMA Investments, LLC</td>\n",
       "      <td>50</td>\n",
       "      <td>Web</td>\n",
       "      <td>Closed with explanation</td>\n",
       "      <td>Yes</td>\n",
       "      <td>7</td>\n",
       "      <td>7</td>\n",
       "      <td>2016</td>\n",
       "      <td>0 days</td>\n",
       "      <td>5</td>\n",
       "    </tr>\n",
       "  </tbody>\n",
       "</table>\n",
       "</div>"
      ],
      "text/plain": [
       "           Product                                  Issue  \\\n",
       "0      Credit card  Customer service / Customer relations   \n",
       "1    Consumer Loan           Payment to acct not credited   \n",
       "2      Credit card          Credit line increase/decrease   \n",
       "3    Consumer Loan    Problems when you are unable to pay   \n",
       "4  Debt collection    Improper contact or sharing of info   \n",
       "\n",
       "                            Company  State Submitted via  \\\n",
       "0                          Citibank     53           Web   \n",
       "1  Larsen MacColl Partners II, L.P.     53         Phone   \n",
       "2                       Capital One     35           Web   \n",
       "3   OneMain Financial Holdings, LLC     31           Web   \n",
       "4              GMA Investments, LLC     50           Web   \n",
       "\n",
       "      Company response to consumer Timely response?  month  day  year  \\\n",
       "0      Closed with monetary relief              Yes      1   17  2015   \n",
       "1          Closed with explanation              Yes      6   22  2016   \n",
       "2          Closed with explanation              Yes      9    4  2015   \n",
       "3  Closed with non-monetary relief              Yes      5   17  2016   \n",
       "4          Closed with explanation              Yes      7    7  2016   \n",
       "\n",
       "  Days_Held  Week Received  \n",
       "0    0 days              3  \n",
       "1    0 days              5  \n",
       "2    0 days              4  \n",
       "3    3 days              1  \n",
       "4    0 days              5  "
      ]
     },
     "execution_count": 43,
     "metadata": {},
     "output_type": "execute_result"
    }
   ],
   "source": [
    "test_data.head()"
   ]
  },
  {
   "cell_type": "code",
   "execution_count": 44,
   "id": "dd3f1213",
   "metadata": {},
   "outputs": [
    {
     "data": {
      "text/html": [
       "<div>\n",
       "<style scoped>\n",
       "    .dataframe tbody tr th:only-of-type {\n",
       "        vertical-align: middle;\n",
       "    }\n",
       "\n",
       "    .dataframe tbody tr th {\n",
       "        vertical-align: top;\n",
       "    }\n",
       "\n",
       "    .dataframe thead th {\n",
       "        text-align: right;\n",
       "    }\n",
       "</style>\n",
       "<table border=\"1\" class=\"dataframe\">\n",
       "  <thead>\n",
       "    <tr style=\"text-align: right;\">\n",
       "      <th></th>\n",
       "      <th>Product</th>\n",
       "      <th>Issue</th>\n",
       "      <th>Company</th>\n",
       "      <th>State</th>\n",
       "      <th>Submitted via</th>\n",
       "      <th>Company response to consumer</th>\n",
       "      <th>Timely response?</th>\n",
       "      <th>Consumer disputed?</th>\n",
       "      <th>month</th>\n",
       "      <th>day</th>\n",
       "      <th>year</th>\n",
       "      <th>Days_Held</th>\n",
       "      <th>Week Received</th>\n",
       "    </tr>\n",
       "  </thead>\n",
       "  <tbody>\n",
       "    <tr>\n",
       "      <th>0</th>\n",
       "      <td>Credit reporting</td>\n",
       "      <td>Incorrect information on credit report</td>\n",
       "      <td>Equifax</td>\n",
       "      <td>15</td>\n",
       "      <td>Web</td>\n",
       "      <td>Closed with explanation</td>\n",
       "      <td>Yes</td>\n",
       "      <td>No</td>\n",
       "      <td>10</td>\n",
       "      <td>14</td>\n",
       "      <td>2015</td>\n",
       "      <td>0 days</td>\n",
       "      <td>2</td>\n",
       "    </tr>\n",
       "    <tr>\n",
       "      <th>1</th>\n",
       "      <td>Bank account or service</td>\n",
       "      <td>Deposits and withdrawals</td>\n",
       "      <td>Wells Fargo &amp; Company</td>\n",
       "      <td>15</td>\n",
       "      <td>Web</td>\n",
       "      <td>Closed with explanation</td>\n",
       "      <td>Yes</td>\n",
       "      <td>Yes</td>\n",
       "      <td>4</td>\n",
       "      <td>26</td>\n",
       "      <td>2015</td>\n",
       "      <td>0 days</td>\n",
       "      <td>5</td>\n",
       "    </tr>\n",
       "    <tr>\n",
       "      <th>2</th>\n",
       "      <td>Credit card</td>\n",
       "      <td>Other</td>\n",
       "      <td>Citibank</td>\n",
       "      <td>50</td>\n",
       "      <td>Phone</td>\n",
       "      <td>Closed with non-monetary relief</td>\n",
       "      <td>Yes</td>\n",
       "      <td>No</td>\n",
       "      <td>12</td>\n",
       "      <td>20</td>\n",
       "      <td>2013</td>\n",
       "      <td>14 days</td>\n",
       "      <td>4</td>\n",
       "    </tr>\n",
       "    <tr>\n",
       "      <th>3</th>\n",
       "      <td>Debt collection</td>\n",
       "      <td>Disclosure verification of debt</td>\n",
       "      <td>FAIR COLLECTIONS &amp; OUTSOURCING, INC.</td>\n",
       "      <td>43</td>\n",
       "      <td>Referral</td>\n",
       "      <td>Closed with explanation</td>\n",
       "      <td>Yes</td>\n",
       "      <td>No</td>\n",
       "      <td>3</td>\n",
       "      <td>3</td>\n",
       "      <td>2016</td>\n",
       "      <td>1 days</td>\n",
       "      <td>3</td>\n",
       "    </tr>\n",
       "    <tr>\n",
       "      <th>4</th>\n",
       "      <td>Debt collection</td>\n",
       "      <td>Disclosure verification of debt</td>\n",
       "      <td>HCFS Health Care Financial Services, Inc.</td>\n",
       "      <td>8</td>\n",
       "      <td>Web</td>\n",
       "      <td>Closed with explanation</td>\n",
       "      <td>Yes</td>\n",
       "      <td>Yes</td>\n",
       "      <td>1</td>\n",
       "      <td>30</td>\n",
       "      <td>2015</td>\n",
       "      <td>0 days</td>\n",
       "      <td>5</td>\n",
       "    </tr>\n",
       "  </tbody>\n",
       "</table>\n",
       "</div>"
      ],
      "text/plain": [
       "                   Product                                   Issue  \\\n",
       "0         Credit reporting  Incorrect information on credit report   \n",
       "1  Bank account or service                Deposits and withdrawals   \n",
       "2              Credit card                                   Other   \n",
       "3          Debt collection         Disclosure verification of debt   \n",
       "4          Debt collection         Disclosure verification of debt   \n",
       "\n",
       "                                     Company  State Submitted via  \\\n",
       "0                                    Equifax     15           Web   \n",
       "1                      Wells Fargo & Company     15           Web   \n",
       "2                                   Citibank     50         Phone   \n",
       "3       FAIR COLLECTIONS & OUTSOURCING, INC.     43      Referral   \n",
       "4  HCFS Health Care Financial Services, Inc.      8           Web   \n",
       "\n",
       "      Company response to consumer Timely response? Consumer disputed?  month  \\\n",
       "0          Closed with explanation              Yes                 No     10   \n",
       "1          Closed with explanation              Yes                Yes      4   \n",
       "2  Closed with non-monetary relief              Yes                 No     12   \n",
       "3          Closed with explanation              Yes                 No      3   \n",
       "4          Closed with explanation              Yes                Yes      1   \n",
       "\n",
       "   day  year Days_Held  Week Received  \n",
       "0   14  2015    0 days              2  \n",
       "1   26  2015    0 days              5  \n",
       "2   20  2013   14 days              4  \n",
       "3    3  2016    1 days              3  \n",
       "4   30  2015    0 days              5  "
      ]
     },
     "execution_count": 44,
     "metadata": {},
     "output_type": "execute_result"
    }
   ],
   "source": [
    "train_data.head()"
   ]
  },
  {
   "cell_type": "code",
   "execution_count": 45,
   "id": "e41ce8dc",
   "metadata": {},
   "outputs": [
    {
     "data": {
      "text/plain": [
       "95"
      ]
     },
     "execution_count": 45,
     "metadata": {},
     "output_type": "execute_result"
    }
   ],
   "source": [
    "train_data[\"Issue\"].nunique()"
   ]
  },
  {
   "cell_type": "code",
   "execution_count": 46,
   "id": "ecaea895",
   "metadata": {},
   "outputs": [
    {
     "data": {
      "text/plain": [
       "12"
      ]
     },
     "execution_count": 46,
     "metadata": {},
     "output_type": "execute_result"
    }
   ],
   "source": [
    "train_data[\"Product\"].nunique()"
   ]
  },
  {
   "cell_type": "markdown",
   "id": "df9f7d2e",
   "metadata": {},
   "source": [
    "## DATA VISUALISATION "
   ]
  },
  {
   "cell_type": "code",
   "execution_count": 47,
   "id": "aef413f9",
   "metadata": {},
   "outputs": [
    {
     "data": {
      "image/png": "[encoded data removed]",
      "text/plain": [
       "<Figure size 1440x1440 with 6 Axes>"
      ]
     },
     "metadata": {
      "needs_background": "light"
     },
     "output_type": "display_data"
    }
   ],
   "source": [
    "train_data.hist(bins = 50, figsize = (20,20))\n",
    "plt.show()"
   ]
  },
  {
   "cell_type": "markdown",
   "id": "b8066026",
   "metadata": {},
   "source": [
    "INFERENCES : \n",
    "\n",
    "1. The state wuth index 6 generates the most number of disputes.\n",
    "2. The month of March sees an extreme rise in the number of disputes, and then sees a dip till September, followed by a rise in  October.\n",
    "3. The number of disputes have been seeing rise since 2011 (huge increase from 2011 to 2012), and then a huge dip in 2016.\n",
    "4. The last week of the month sees the most number of complaints/disputes"
   ]
  },
  {
   "cell_type": "code",
   "execution_count": 48,
   "id": "70a3519e",
   "metadata": {},
   "outputs": [
    {
     "name": "stderr",
     "output_type": "stream",
     "text": [
      "C:\\Users\\Diya Sivaprasad\\anaconda3\\lib\\site-packages\\seaborn\\_decorators.py:36: FutureWarning: Pass the following variable as a keyword arg: x. From version 0.12, the only valid positional argument will be `data`, and passing other arguments without an explicit keyword will result in an error or misinterpretation.\n",
      "  warnings.warn(\n"
     ]
    },
    {
     "data": {
      "image/png": "[encoded data removed]",
      "text/plain": [
       "<Figure size 1080x576 with 1 Axes>"
      ]
     },
     "metadata": {
      "needs_background": "light"
     },
     "output_type": "display_data"
    }
   ],
   "source": [
    "plt.figure(figsize = (15,8))\n",
    "sns.countplot(train_data[\"Product\"])\n",
    "plt.title(\"No. of products\")\n",
    "plt.show()"
   ]
  },
  {
   "cell_type": "code",
   "execution_count": 49,
   "id": "28df46d6",
   "metadata": {},
   "outputs": [
    {
     "data": {
      "text/html": [
       "<div>\n",
       "<style scoped>\n",
       "    .dataframe tbody tr th:only-of-type {\n",
       "        vertical-align: middle;\n",
       "    }\n",
       "\n",
       "    .dataframe tbody tr th {\n",
       "        vertical-align: top;\n",
       "    }\n",
       "\n",
       "    .dataframe thead th {\n",
       "        text-align: right;\n",
       "    }\n",
       "</style>\n",
       "<table border=\"1\" class=\"dataframe\">\n",
       "  <thead>\n",
       "    <tr style=\"text-align: right;\">\n",
       "      <th></th>\n",
       "      <th>Issue</th>\n",
       "    </tr>\n",
       "  </thead>\n",
       "  <tbody>\n",
       "    <tr>\n",
       "      <th>Loan modification,collection,foreclosure</th>\n",
       "      <td>60185</td>\n",
       "    </tr>\n",
       "    <tr>\n",
       "      <th>Incorrect information on credit report</th>\n",
       "      <td>43825</td>\n",
       "    </tr>\n",
       "    <tr>\n",
       "      <th>Loan servicing, payments, escrow account</th>\n",
       "      <td>38456</td>\n",
       "    </tr>\n",
       "    <tr>\n",
       "      <th>Cont'd attempts collect debt not owed</th>\n",
       "      <td>27266</td>\n",
       "    </tr>\n",
       "    <tr>\n",
       "      <th>Account opening, closing, or management</th>\n",
       "      <td>17557</td>\n",
       "    </tr>\n",
       "    <tr>\n",
       "      <th>Disclosure verification of debt</th>\n",
       "      <td>12283</td>\n",
       "    </tr>\n",
       "  </tbody>\n",
       "</table>\n",
       "</div>"
      ],
      "text/plain": [
       "                                          Issue\n",
       "Loan modification,collection,foreclosure  60185\n",
       "Incorrect information on credit report    43825\n",
       "Loan servicing, payments, escrow account  38456\n",
       "Cont'd attempts collect debt not owed     27266\n",
       "Account opening, closing, or management   17557\n",
       "Disclosure verification of debt           12283"
      ]
     },
     "execution_count": 49,
     "metadata": {},
     "output_type": "execute_result"
    }
   ],
   "source": [
    "issue_data = pd.DataFrame(train_data[\"Issue\"].value_counts().sort_values(ascending = False).head(6))\n",
    "issue_data"
   ]
  },
  {
   "cell_type": "code",
   "execution_count": 50,
   "id": "9d075751",
   "metadata": {},
   "outputs": [
    {
     "data": {
      "image/png": "[encoded data removed]",
      "text/plain": [
       "<Figure size 432x288 with 1 Axes>"
      ]
     },
     "metadata": {
      "needs_background": "light"
     },
     "output_type": "display_data"
    }
   ],
   "source": [
    "plt.figure()\n",
    "sns.barplot(x = \"Issue\", y = issue_data.index , data = issue_data)\n",
    "plt.show()"
   ]
  },
  {
   "cell_type": "code",
   "execution_count": 51,
   "id": "31f90a8e",
   "metadata": {},
   "outputs": [
    {
     "data": {
      "text/plain": [
       "63"
      ]
     },
     "execution_count": 51,
     "metadata": {},
     "output_type": "execute_result"
    }
   ],
   "source": [
    "train_data[\"State\"].nunique()"
   ]
  },
  {
   "cell_type": "code",
   "execution_count": 52,
   "id": "1ef7a2f8",
   "metadata": {},
   "outputs": [
    {
     "data": {
      "text/html": [
       "<div>\n",
       "<style scoped>\n",
       "    .dataframe tbody tr th:only-of-type {\n",
       "        vertical-align: middle;\n",
       "    }\n",
       "\n",
       "    .dataframe tbody tr th {\n",
       "        vertical-align: top;\n",
       "    }\n",
       "\n",
       "    .dataframe thead th {\n",
       "        text-align: right;\n",
       "    }\n",
       "</style>\n",
       "<table border=\"1\" class=\"dataframe\">\n",
       "  <thead>\n",
       "    <tr style=\"text-align: right;\">\n",
       "      <th></th>\n",
       "      <th>State</th>\n",
       "    </tr>\n",
       "  </thead>\n",
       "  <tbody>\n",
       "    <tr>\n",
       "      <th>8</th>\n",
       "      <td>52368</td>\n",
       "    </tr>\n",
       "    <tr>\n",
       "      <th>13</th>\n",
       "      <td>34567</td>\n",
       "    </tr>\n",
       "    <tr>\n",
       "      <th>53</th>\n",
       "      <td>26683</td>\n",
       "    </tr>\n",
       "    <tr>\n",
       "      <th>42</th>\n",
       "      <td>24554</td>\n",
       "    </tr>\n",
       "    <tr>\n",
       "      <th>15</th>\n",
       "      <td>15886</td>\n",
       "    </tr>\n",
       "    <tr>\n",
       "      <th>39</th>\n",
       "      <td>14571</td>\n",
       "    </tr>\n",
       "    <tr>\n",
       "      <th>46</th>\n",
       "      <td>12834</td>\n",
       "    </tr>\n",
       "    <tr>\n",
       "      <th>20</th>\n",
       "      <td>12745</td>\n",
       "    </tr>\n",
       "    <tr>\n",
       "      <th>55</th>\n",
       "      <td>11645</td>\n",
       "    </tr>\n",
       "    <tr>\n",
       "      <th>26</th>\n",
       "      <td>11456</td>\n",
       "    </tr>\n",
       "  </tbody>\n",
       "</table>\n",
       "</div>"
      ],
      "text/plain": [
       "    State\n",
       "8   52368\n",
       "13  34567\n",
       "53  26683\n",
       "42  24554\n",
       "15  15886\n",
       "39  14571\n",
       "46  12834\n",
       "20  12745\n",
       "55  11645\n",
       "26  11456"
      ]
     },
     "execution_count": 52,
     "metadata": {},
     "output_type": "execute_result"
    }
   ],
   "source": [
    "state_data = pd.DataFrame(train_data[\"State\"].value_counts().sort_values(ascending = False).head(10))\n",
    "state_data"
   ]
  },
  {
   "cell_type": "code",
   "execution_count": 53,
   "id": "a4973498",
   "metadata": {},
   "outputs": [
    {
     "data": {
      "image/png": "[encoded data removed]",
      "text/plain": [
       "<Figure size 720x576 with 1 Axes>"
      ]
     },
     "metadata": {
      "needs_background": "light"
     },
     "output_type": "display_data"
    }
   ],
   "source": [
    "plt.figure(figsize = (10,8))\n",
    "sns.barplot(x = state_data.index, y = \"State\", data = state_data)\n",
    "plt.xlabel(\"State Labels\")\n",
    "plt.ylabel(\"Count of the issues by state\")\n",
    "plt.show()"
   ]
  },
  {
   "cell_type": "markdown",
   "id": "b9cb2c28",
   "metadata": {},
   "source": [
    "INFERENCE : The state with the label 8 generates the most number of complaints, followed by 13, 53 and 42"
   ]
  },
  {
   "cell_type": "code",
   "execution_count": 54,
   "id": "27d127b0",
   "metadata": {},
   "outputs": [
    {
     "data": {
      "text/plain": [
       "array(['Web', 'Phone', 'Referral', 'Postal mail', 'Fax', 'Email'],\n",
       "      dtype=object)"
      ]
     },
     "execution_count": 54,
     "metadata": {},
     "output_type": "execute_result"
    }
   ],
   "source": [
    "train_data[\"Submitted via\"].unique()"
   ]
  },
  {
   "cell_type": "code",
   "execution_count": 55,
   "id": "083b286c",
   "metadata": {},
   "outputs": [
    {
     "name": "stderr",
     "output_type": "stream",
     "text": [
      "C:\\Users\\Diya Sivaprasad\\anaconda3\\lib\\site-packages\\seaborn\\_decorators.py:36: FutureWarning: Pass the following variable as a keyword arg: x. From version 0.12, the only valid positional argument will be `data`, and passing other arguments without an explicit keyword will result in an error or misinterpretation.\n",
      "  warnings.warn(\n"
     ]
    },
    {
     "data": {
      "image/png": "[encoded data removed]",
      "text/plain": [
       "<Figure size 720x504 with 1 Axes>"
      ]
     },
     "metadata": {
      "needs_background": "light"
     },
     "output_type": "display_data"
    }
   ],
   "source": [
    "plt.figure(figsize = (10,7))\n",
    "sns.countplot(train_data[\"Submitted via\"])\n",
    "plt.show()"
   ]
  },
  {
   "cell_type": "markdown",
   "id": "5c8796c7",
   "metadata": {},
   "source": [
    "INFERENCE : Most people prefer to use \"Web\" as a platform to register complaints, followed by \"Referrals\""
   ]
  },
  {
   "cell_type": "code",
   "execution_count": 56,
   "id": "5631a63e",
   "metadata": {},
   "outputs": [
    {
     "data": {
      "text/plain": [
       "array(['Closed with explanation', 'Closed with non-monetary relief',\n",
       "       'Closed with relief', 'Closed without relief',\n",
       "       'Closed with monetary relief', 'Closed'], dtype=object)"
      ]
     },
     "execution_count": 56,
     "metadata": {},
     "output_type": "execute_result"
    }
   ],
   "source": [
    "train_data[\"Company response to consumer\"].unique()"
   ]
  },
  {
   "cell_type": "code",
   "execution_count": 57,
   "id": "61ddc8a8",
   "metadata": {},
   "outputs": [
    {
     "name": "stderr",
     "output_type": "stream",
     "text": [
      "C:\\Users\\Diya Sivaprasad\\anaconda3\\lib\\site-packages\\seaborn\\_decorators.py:36: FutureWarning: Pass the following variable as a keyword arg: x. From version 0.12, the only valid positional argument will be `data`, and passing other arguments without an explicit keyword will result in an error or misinterpretation.\n",
      "  warnings.warn(\n"
     ]
    },
    {
     "data": {
      "image/png": "[encoded data removed]",
      "text/plain": [
       "<Figure size 1080x576 with 1 Axes>"
      ]
     },
     "metadata": {
      "needs_background": "light"
     },
     "output_type": "display_data"
    }
   ],
   "source": [
    "plt.figure(figsize = (15,8))\n",
    "sns.countplot(train_data[\"Company response to consumer\"])\n",
    "plt.xlabel(\"Response to the consumer\")\n",
    "plt.ylabel(\"Count\")\n",
    "plt.show()"
   ]
  },
  {
   "cell_type": "code",
   "execution_count": 58,
   "id": "852bceb0",
   "metadata": {},
   "outputs": [
    {
     "data": {
      "text/plain": [
       "Consumer disputed?\n",
       "No     282638\n",
       "Yes     76172\n",
       "Name: Company response to consumer, dtype: int64"
      ]
     },
     "execution_count": 58,
     "metadata": {},
     "output_type": "execute_result"
    }
   ],
   "source": [
    "train_data.groupby(\"Consumer disputed?\")[\"Company response to consumer\"].count()"
   ]
  },
  {
   "cell_type": "markdown",
   "id": "abb86ad3",
   "metadata": {},
   "source": [
    "We get the number of customers who are disputed even after company's respone to them"
   ]
  },
  {
   "cell_type": "code",
   "execution_count": 59,
   "id": "c9f64d67",
   "metadata": {},
   "outputs": [
    {
     "data": {
      "text/plain": [
       "74943"
      ]
     },
     "execution_count": 59,
     "metadata": {},
     "output_type": "execute_result"
    }
   ],
   "source": [
    "len(train_data[(train_data[\"Timely response?\"] == \"Yes\")&(train_data[\"Consumer disputed?\"] == \"Yes\")])"
   ]
  },
  {
   "cell_type": "code",
   "execution_count": 60,
   "id": "25631836",
   "metadata": {},
   "outputs": [
    {
     "data": {
      "text/html": [
       "<div>\n",
       "<style scoped>\n",
       "    .dataframe tbody tr th:only-of-type {\n",
       "        vertical-align: middle;\n",
       "    }\n",
       "\n",
       "    .dataframe tbody tr th {\n",
       "        vertical-align: top;\n",
       "    }\n",
       "\n",
       "    .dataframe thead th {\n",
       "        text-align: right;\n",
       "    }\n",
       "</style>\n",
       "<table border=\"1\" class=\"dataframe\">\n",
       "  <thead>\n",
       "    <tr style=\"text-align: right;\">\n",
       "      <th></th>\n",
       "      <th>Issue</th>\n",
       "    </tr>\n",
       "  </thead>\n",
       "  <tbody>\n",
       "    <tr>\n",
       "      <th>Loan modification,collection,foreclosure</th>\n",
       "      <td>13723</td>\n",
       "    </tr>\n",
       "    <tr>\n",
       "      <th>Loan servicing, payments, escrow account</th>\n",
       "      <td>9369</td>\n",
       "    </tr>\n",
       "    <tr>\n",
       "      <th>Incorrect information on credit report</th>\n",
       "      <td>7055</td>\n",
       "    </tr>\n",
       "    <tr>\n",
       "      <th>Cont'd attempts collect debt not owed</th>\n",
       "      <td>5008</td>\n",
       "    </tr>\n",
       "    <tr>\n",
       "      <th>Account opening, closing, or management</th>\n",
       "      <td>3775</td>\n",
       "    </tr>\n",
       "    <tr>\n",
       "      <th>Disclosure verification of debt</th>\n",
       "      <td>2893</td>\n",
       "    </tr>\n",
       "    <tr>\n",
       "      <th>Application, originator, mortgage broker</th>\n",
       "      <td>2291</td>\n",
       "    </tr>\n",
       "    <tr>\n",
       "      <th>Deposits and withdrawals</th>\n",
       "      <td>2177</td>\n",
       "    </tr>\n",
       "  </tbody>\n",
       "</table>\n",
       "</div>"
      ],
      "text/plain": [
       "                                          Issue\n",
       "Loan modification,collection,foreclosure  13723\n",
       "Loan servicing, payments, escrow account   9369\n",
       "Incorrect information on credit report     7055\n",
       "Cont'd attempts collect debt not owed      5008\n",
       "Account opening, closing, or management    3775\n",
       "Disclosure verification of debt            2893\n",
       "Application, originator, mortgage broker   2291\n",
       "Deposits and withdrawals                   2177"
      ]
     },
     "execution_count": 60,
     "metadata": {},
     "output_type": "execute_result"
    }
   ],
   "source": [
    "post_resolve_dispute = train_data[(train_data[\"Timely response?\"] == \"Yes\")&(train_data[\"Consumer disputed?\"] == \"Yes\")][\"Issue\"].value_counts().sort_values(ascending = False).head(8)\n",
    "post_resolve_dispute = pd.DataFrame(post_resolve_dispute)\n",
    "post_resolve_dispute"
   ]
  },
  {
   "cell_type": "code",
   "execution_count": 61,
   "id": "7e6918f2",
   "metadata": {},
   "outputs": [
    {
     "data": {
      "image/png": "[encoded data removed]",
      "text/plain": [
       "<Figure size 720x576 with 1 Axes>"
      ]
     },
     "metadata": {
      "needs_background": "light"
     },
     "output_type": "display_data"
    }
   ],
   "source": [
    "plt.figure(figsize = (10,8))\n",
    "sns.barplot(x = \"Issue\", y = post_resolve_dispute.index, data = post_resolve_dispute)\n",
    "plt.show()"
   ]
  },
  {
   "cell_type": "code",
   "execution_count": 62,
   "id": "195ad075",
   "metadata": {},
   "outputs": [
    {
     "name": "stderr",
     "output_type": "stream",
     "text": [
      "C:\\Users\\Diya Sivaprasad\\anaconda3\\lib\\site-packages\\seaborn\\_decorators.py:36: FutureWarning: Pass the following variable as a keyword arg: x. From version 0.12, the only valid positional argument will be `data`, and passing other arguments without an explicit keyword will result in an error or misinterpretation.\n",
      "  warnings.warn(\n"
     ]
    },
    {
     "data": {
      "image/png": "[encoded data removed]",
      "text/plain": [
       "<Figure size 720x576 with 1 Axes>"
      ]
     },
     "metadata": {
      "needs_background": "light"
     },
     "output_type": "display_data"
    }
   ],
   "source": [
    "plt.figure(figsize = (10,8))\n",
    "sns.countplot(train_data[\"year\"])\n",
    "plt.ylabel(\"no. of complaints\")\n",
    "plt.show()"
   ]
  },
  {
   "cell_type": "code",
   "execution_count": 63,
   "id": "3c02efdb",
   "metadata": {},
   "outputs": [
    {
     "data": {
      "text/plain": [
       "3064"
      ]
     },
     "execution_count": 63,
     "metadata": {},
     "output_type": "execute_result"
    }
   ],
   "source": [
    "train_data[\"Company\"].nunique()"
   ]
  },
  {
   "cell_type": "code",
   "execution_count": 64,
   "id": "824d30be",
   "metadata": {},
   "outputs": [],
   "source": [
    "company_data = train_data[\"Company\"].value_counts().sort_values(ascending = False).head(10)\n",
    "company_data = pd.DataFrame(company_data)"
   ]
  },
  {
   "cell_type": "code",
   "execution_count": 65,
   "id": "4201ac3a",
   "metadata": {},
   "outputs": [
    {
     "data": {
      "text/html": [
       "<div>\n",
       "<style scoped>\n",
       "    .dataframe tbody tr th:only-of-type {\n",
       "        vertical-align: middle;\n",
       "    }\n",
       "\n",
       "    .dataframe tbody tr th {\n",
       "        vertical-align: top;\n",
       "    }\n",
       "\n",
       "    .dataframe thead th {\n",
       "        text-align: right;\n",
       "    }\n",
       "</style>\n",
       "<table border=\"1\" class=\"dataframe\">\n",
       "  <thead>\n",
       "    <tr style=\"text-align: right;\">\n",
       "      <th></th>\n",
       "      <th>Company</th>\n",
       "    </tr>\n",
       "  </thead>\n",
       "  <tbody>\n",
       "    <tr>\n",
       "      <th>Bank of America</th>\n",
       "      <td>34903</td>\n",
       "    </tr>\n",
       "    <tr>\n",
       "      <th>Wells Fargo &amp; Company</th>\n",
       "      <td>26490</td>\n",
       "    </tr>\n",
       "    <tr>\n",
       "      <th>JPMorgan Chase &amp; Co.</th>\n",
       "      <td>21677</td>\n",
       "    </tr>\n",
       "    <tr>\n",
       "      <th>Equifax</th>\n",
       "      <td>21489</td>\n",
       "    </tr>\n",
       "    <tr>\n",
       "      <th>Experian</th>\n",
       "      <td>20075</td>\n",
       "    </tr>\n",
       "    <tr>\n",
       "      <th>TransUnion Intermediate Holdings, Inc.</th>\n",
       "      <td>16881</td>\n",
       "    </tr>\n",
       "    <tr>\n",
       "      <th>Citibank</th>\n",
       "      <td>16792</td>\n",
       "    </tr>\n",
       "    <tr>\n",
       "      <th>Ocwen</th>\n",
       "      <td>13110</td>\n",
       "    </tr>\n",
       "    <tr>\n",
       "      <th>Capital One</th>\n",
       "      <td>10082</td>\n",
       "    </tr>\n",
       "    <tr>\n",
       "      <th>Nationstar Mortgage</th>\n",
       "      <td>8414</td>\n",
       "    </tr>\n",
       "  </tbody>\n",
       "</table>\n",
       "</div>"
      ],
      "text/plain": [
       "                                        Company\n",
       "Bank of America                           34903\n",
       "Wells Fargo & Company                     26490\n",
       "JPMorgan Chase & Co.                      21677\n",
       "Equifax                                   21489\n",
       "Experian                                  20075\n",
       "TransUnion Intermediate Holdings, Inc.    16881\n",
       "Citibank                                  16792\n",
       "Ocwen                                     13110\n",
       "Capital One                               10082\n",
       "Nationstar Mortgage                        8414"
      ]
     },
     "execution_count": 65,
     "metadata": {},
     "output_type": "execute_result"
    }
   ],
   "source": [
    "company_data"
   ]
  },
  {
   "cell_type": "code",
   "execution_count": 66,
   "id": "4457729f",
   "metadata": {},
   "outputs": [
    {
     "data": {
      "image/png": "[encoded data removed]",
      "text/plain": [
       "<Figure size 1440x576 with 1 Axes>"
      ]
     },
     "metadata": {
      "needs_background": "light"
     },
     "output_type": "display_data"
    }
   ],
   "source": [
    "plt.figure(figsize = (20,8))\n",
    "sns.barplot(x = company_data.index, y = \"Company\", data = company_data)\n",
    "plt.show()"
   ]
  },
  {
   "cell_type": "markdown",
   "id": "67dd9a7b",
   "metadata": {},
   "source": [
    "## MODEL BUILDING"
   ]
  },
  {
   "cell_type": "code",
   "execution_count": 67,
   "id": "6e26c2c6",
   "metadata": {},
   "outputs": [
    {
     "data": {
      "text/html": [
       "<div>\n",
       "<style scoped>\n",
       "    .dataframe tbody tr th:only-of-type {\n",
       "        vertical-align: middle;\n",
       "    }\n",
       "\n",
       "    .dataframe tbody tr th {\n",
       "        vertical-align: top;\n",
       "    }\n",
       "\n",
       "    .dataframe thead th {\n",
       "        text-align: right;\n",
       "    }\n",
       "</style>\n",
       "<table border=\"1\" class=\"dataframe\">\n",
       "  <thead>\n",
       "    <tr style=\"text-align: right;\">\n",
       "      <th></th>\n",
       "      <th>Product</th>\n",
       "      <th>Issue</th>\n",
       "      <th>Submitted via</th>\n",
       "      <th>Company response to consumer</th>\n",
       "      <th>Timely response?</th>\n",
       "      <th>Consumer disputed?</th>\n",
       "      <th>month</th>\n",
       "      <th>day</th>\n",
       "      <th>year</th>\n",
       "    </tr>\n",
       "  </thead>\n",
       "  <tbody>\n",
       "    <tr>\n",
       "      <th>0</th>\n",
       "      <td>Credit reporting</td>\n",
       "      <td>Incorrect information on credit report</td>\n",
       "      <td>Web</td>\n",
       "      <td>Closed with explanation</td>\n",
       "      <td>Yes</td>\n",
       "      <td>No</td>\n",
       "      <td>10</td>\n",
       "      <td>14</td>\n",
       "      <td>2015</td>\n",
       "    </tr>\n",
       "    <tr>\n",
       "      <th>1</th>\n",
       "      <td>Bank account or service</td>\n",
       "      <td>Deposits and withdrawals</td>\n",
       "      <td>Web</td>\n",
       "      <td>Closed with explanation</td>\n",
       "      <td>Yes</td>\n",
       "      <td>Yes</td>\n",
       "      <td>4</td>\n",
       "      <td>26</td>\n",
       "      <td>2015</td>\n",
       "    </tr>\n",
       "    <tr>\n",
       "      <th>2</th>\n",
       "      <td>Credit card</td>\n",
       "      <td>Other</td>\n",
       "      <td>Phone</td>\n",
       "      <td>Closed with non-monetary relief</td>\n",
       "      <td>Yes</td>\n",
       "      <td>No</td>\n",
       "      <td>12</td>\n",
       "      <td>20</td>\n",
       "      <td>2013</td>\n",
       "    </tr>\n",
       "    <tr>\n",
       "      <th>3</th>\n",
       "      <td>Debt collection</td>\n",
       "      <td>Disclosure verification of debt</td>\n",
       "      <td>Referral</td>\n",
       "      <td>Closed with explanation</td>\n",
       "      <td>Yes</td>\n",
       "      <td>No</td>\n",
       "      <td>3</td>\n",
       "      <td>3</td>\n",
       "      <td>2016</td>\n",
       "    </tr>\n",
       "    <tr>\n",
       "      <th>4</th>\n",
       "      <td>Debt collection</td>\n",
       "      <td>Disclosure verification of debt</td>\n",
       "      <td>Web</td>\n",
       "      <td>Closed with explanation</td>\n",
       "      <td>Yes</td>\n",
       "      <td>Yes</td>\n",
       "      <td>1</td>\n",
       "      <td>30</td>\n",
       "      <td>2015</td>\n",
       "    </tr>\n",
       "  </tbody>\n",
       "</table>\n",
       "</div>"
      ],
      "text/plain": [
       "                   Product                                   Issue  \\\n",
       "0         Credit reporting  Incorrect information on credit report   \n",
       "1  Bank account or service                Deposits and withdrawals   \n",
       "2              Credit card                                   Other   \n",
       "3          Debt collection         Disclosure verification of debt   \n",
       "4          Debt collection         Disclosure verification of debt   \n",
       "\n",
       "  Submitted via     Company response to consumer Timely response?  \\\n",
       "0           Web          Closed with explanation              Yes   \n",
       "1           Web          Closed with explanation              Yes   \n",
       "2         Phone  Closed with non-monetary relief              Yes   \n",
       "3      Referral          Closed with explanation              Yes   \n",
       "4           Web          Closed with explanation              Yes   \n",
       "\n",
       "  Consumer disputed?  month  day  year  \n",
       "0                 No     10   14  2015  \n",
       "1                Yes      4   26  2015  \n",
       "2                 No     12   20  2013  \n",
       "3                 No      3    3  2016  \n",
       "4                Yes      1   30  2015  "
      ]
     },
     "execution_count": 67,
     "metadata": {},
     "output_type": "execute_result"
    }
   ],
   "source": [
    "train_data = train_data.drop([\"Company\", \"State\", \"Week Received\", \"Days_Held\"], axis = 1)\n",
    "train_data.head()"
   ]
  },
  {
   "cell_type": "code",
   "execution_count": 68,
   "id": "6b13faaa",
   "metadata": {},
   "outputs": [],
   "source": [
    "lb = LabelEncoder()\n",
    "\n",
    "lb.fit(train_data[\"Submitted via\"])\n",
    "train_data[\"Submitted via\"] = lb.transform(train_data[\"Submitted via\"])\n",
    "\n",
    "lb.fit(train_data[\"Timely response?\"])\n",
    "train_data[\"Timely response?\"] = lb.transform(train_data[\"Timely response?\"])\n",
    "\n",
    "lb.fit(train_data[\"Consumer disputed?\"])\n",
    "train_data[\"Consumer disputed?\"] = lb.transform(train_data[\"Consumer disputed?\"])\n",
    "\n",
    "lb.fit(train_data[\"Company response to consumer\"])\n",
    "train_data[\"Company response to consumer\"] = lb.transform(train_data[\"Company response to consumer\"])\n",
    "\n",
    "lb.fit(train_data[\"Product\"])\n",
    "train_data[\"Product\"] = lb.transform(train_data[\"Product\"])"
   ]
  },
  {
   "cell_type": "code",
   "execution_count": 69,
   "id": "c4513453",
   "metadata": {},
   "outputs": [
    {
     "data": {
      "text/html": [
       "<div>\n",
       "<style scoped>\n",
       "    .dataframe tbody tr th:only-of-type {\n",
       "        vertical-align: middle;\n",
       "    }\n",
       "\n",
       "    .dataframe tbody tr th {\n",
       "        vertical-align: top;\n",
       "    }\n",
       "\n",
       "    .dataframe thead th {\n",
       "        text-align: right;\n",
       "    }\n",
       "</style>\n",
       "<table border=\"1\" class=\"dataframe\">\n",
       "  <thead>\n",
       "    <tr style=\"text-align: right;\">\n",
       "      <th></th>\n",
       "      <th>Product</th>\n",
       "      <th>Issue</th>\n",
       "      <th>Submitted via</th>\n",
       "      <th>Company response to consumer</th>\n",
       "      <th>Timely response?</th>\n",
       "      <th>Consumer disputed?</th>\n",
       "      <th>month</th>\n",
       "      <th>day</th>\n",
       "      <th>year</th>\n",
       "    </tr>\n",
       "  </thead>\n",
       "  <tbody>\n",
       "    <tr>\n",
       "      <th>0</th>\n",
       "      <td>3</td>\n",
       "      <td>Incorrect information on credit report</td>\n",
       "      <td>5</td>\n",
       "      <td>1</td>\n",
       "      <td>1</td>\n",
       "      <td>0</td>\n",
       "      <td>10</td>\n",
       "      <td>14</td>\n",
       "      <td>2015</td>\n",
       "    </tr>\n",
       "    <tr>\n",
       "      <th>1</th>\n",
       "      <td>0</td>\n",
       "      <td>Deposits and withdrawals</td>\n",
       "      <td>5</td>\n",
       "      <td>1</td>\n",
       "      <td>1</td>\n",
       "      <td>1</td>\n",
       "      <td>4</td>\n",
       "      <td>26</td>\n",
       "      <td>2015</td>\n",
       "    </tr>\n",
       "    <tr>\n",
       "      <th>2</th>\n",
       "      <td>2</td>\n",
       "      <td>Other</td>\n",
       "      <td>2</td>\n",
       "      <td>3</td>\n",
       "      <td>1</td>\n",
       "      <td>0</td>\n",
       "      <td>12</td>\n",
       "      <td>20</td>\n",
       "      <td>2013</td>\n",
       "    </tr>\n",
       "    <tr>\n",
       "      <th>3</th>\n",
       "      <td>4</td>\n",
       "      <td>Disclosure verification of debt</td>\n",
       "      <td>4</td>\n",
       "      <td>1</td>\n",
       "      <td>1</td>\n",
       "      <td>0</td>\n",
       "      <td>3</td>\n",
       "      <td>3</td>\n",
       "      <td>2016</td>\n",
       "    </tr>\n",
       "    <tr>\n",
       "      <th>4</th>\n",
       "      <td>4</td>\n",
       "      <td>Disclosure verification of debt</td>\n",
       "      <td>5</td>\n",
       "      <td>1</td>\n",
       "      <td>1</td>\n",
       "      <td>1</td>\n",
       "      <td>1</td>\n",
       "      <td>30</td>\n",
       "      <td>2015</td>\n",
       "    </tr>\n",
       "  </tbody>\n",
       "</table>\n",
       "</div>"
      ],
      "text/plain": [
       "   Product                                   Issue  Submitted via  \\\n",
       "0        3  Incorrect information on credit report              5   \n",
       "1        0                Deposits and withdrawals              5   \n",
       "2        2                                   Other              2   \n",
       "3        4         Disclosure verification of debt              4   \n",
       "4        4         Disclosure verification of debt              5   \n",
       "\n",
       "   Company response to consumer  Timely response?  Consumer disputed?  month  \\\n",
       "0                             1                 1                   0     10   \n",
       "1                             1                 1                   1      4   \n",
       "2                             3                 1                   0     12   \n",
       "3                             1                 1                   0      3   \n",
       "4                             1                 1                   1      1   \n",
       "\n",
       "   day  year  \n",
       "0   14  2015  \n",
       "1   26  2015  \n",
       "2   20  2013  \n",
       "3    3  2016  \n",
       "4   30  2015  "
      ]
     },
     "execution_count": 69,
     "metadata": {},
     "output_type": "execute_result"
    }
   ],
   "source": [
    "train_data.head()"
   ]
  },
  {
   "cell_type": "code",
   "execution_count": 70,
   "id": "1ccbd483",
   "metadata": {},
   "outputs": [
    {
     "data": {
      "text/plain": [
       "12"
      ]
     },
     "execution_count": 70,
     "metadata": {},
     "output_type": "execute_result"
    }
   ],
   "source": [
    "train_data[\"Product\"].nunique()"
   ]
  },
  {
   "cell_type": "markdown",
   "id": "140a0c5e",
   "metadata": {},
   "source": [
    "### CORRELATION ANALYSIS "
   ]
  },
  {
   "cell_type": "code",
   "execution_count": 71,
   "id": "0b691122",
   "metadata": {},
   "outputs": [
    {
     "data": {
      "image/png": "[encoded data removed]",
      "text/plain": [
       "<Figure size 432x504 with 2 Axes>"
      ]
     },
     "metadata": {
      "needs_background": "light"
     },
     "output_type": "display_data"
    }
   ],
   "source": [
    "corr = train_data.corr()\n",
    "target_corr = corr[\"Consumer disputed?\"].drop(\"Consumer disputed?\")\n",
    "target_corr_sorted = target_corr.sort_values(ascending = True)\n",
    "\n",
    "plt.figure(figsize = (6,7))\n",
    "sns.heatmap(target_corr_sorted.to_frame(), annot = True, cmap = \"coolwarm\")\n",
    "plt.title(\"Correlation Analysis\")\n",
    "plt.show()"
   ]
  },
  {
   "cell_type": "code",
   "execution_count": 72,
   "id": "78205e4d",
   "metadata": {},
   "outputs": [
    {
     "data": {
      "image/png": "[encoded data removed]",
      "text/plain": [
       "<Figure size 648x504 with 2 Axes>"
      ]
     },
     "metadata": {
      "needs_background": "light"
     },
     "output_type": "display_data"
    }
   ],
   "source": [
    "corr_mat = train_data.corr()\n",
    "\n",
    "plt.figure(figsize = (9,7))\n",
    "sns.heatmap(corr_mat, annot = True, cmap = \"coolwarm\")\n",
    "plt.title(\"Correlation Map\")\n",
    "plt.show()"
   ]
  },
  {
   "cell_type": "code",
   "execution_count": null,
   "id": "1c0d63b2",
   "metadata": {},
   "outputs": [],
   "source": []
  },
  {
   "cell_type": "markdown",
   "id": "c17d9b54",
   "metadata": {},
   "source": [
    "##### 1. WITHOUT PCA"
   ]
  },
  {
   "cell_type": "markdown",
   "id": "dd257cbf",
   "metadata": {},
   "source": [
    "#### SEPARATING THE TARGET AND FEATURE VARIABLES "
   ]
  },
  {
   "cell_type": "code",
   "execution_count": 73,
   "id": "81f23118",
   "metadata": {},
   "outputs": [],
   "source": [
    "y = train_data[\"Consumer disputed?\"]  #target variable\n",
    "x = train_data[[\"Product\", \"Submitted via\", \"Timely response?\", \"month\"]] #feature variable\n"
   ]
  },
  {
   "cell_type": "code",
   "execution_count": 74,
   "id": "0c9567e8",
   "metadata": {},
   "outputs": [],
   "source": [
    "sc = StandardScaler()\n",
    "x = sc.fit_transform(x)"
   ]
  },
  {
   "cell_type": "markdown",
   "id": "4e4d0328",
   "metadata": {},
   "source": [
    "#### DIVIDING THE DATASET INTO TRAINING AND TESTING SET"
   ]
  },
  {
   "cell_type": "code",
   "execution_count": 75,
   "id": "82940aa1",
   "metadata": {},
   "outputs": [],
   "source": [
    "x_train, x_test, y_train, y_test = train_test_split(x, y, random_state = 40, train_size = 0.8)"
   ]
  },
  {
   "cell_type": "markdown",
   "id": "fd5e7b17",
   "metadata": {},
   "source": [
    "#### TESTING THE MODEL PERFORMANCES"
   ]
  },
  {
   "cell_type": "code",
   "execution_count": 76,
   "id": "a375253d",
   "metadata": {},
   "outputs": [],
   "source": [
    "from sklearn.metrics import precision_score"
   ]
  },
  {
   "cell_type": "code",
   "execution_count": null,
   "id": "e57a4763",
   "metadata": {},
   "outputs": [],
   "source": []
  },
  {
   "cell_type": "code",
   "execution_count": 77,
   "id": "549e1905",
   "metadata": {},
   "outputs": [],
   "source": [
    "def test(model):\n",
    "    model.fit(x_train,y_train)\n",
    "    y_pred = model.predict(x_test)\n",
    "    r2score = r2_score(y_test, y_pred)\n",
    "    acc_score = accuracy_score(y_test,y_pred)\n",
    "    prec_score = precision_score(y_test, y_pred, zero_division = 1)\n",
    "    \n",
    "    print(f\"{model} Model\")\n",
    "    print(\"The accuracy score : \", acc_score)\n",
    "    print(\"r2 score : \", r2score)\n",
    "    print(\"Precision score : \", prec_score)"
   ]
  },
  {
   "cell_type": "code",
   "execution_count": null,
   "id": "dddaf203",
   "metadata": {},
   "outputs": [],
   "source": []
  },
  {
   "cell_type": "markdown",
   "id": "3121c06d",
   "metadata": {},
   "source": [
    "###### Logistic Regression : "
   ]
  },
  {
   "cell_type": "code",
   "execution_count": 78,
   "id": "c320b7e2",
   "metadata": {},
   "outputs": [
    {
     "name": "stdout",
     "output_type": "stream",
     "text": [
      "LogisticRegression() Model\n",
      "The accuracy score :  0.788857612664084\n",
      "r2 score :  -0.2676558911853033\n",
      "Precision score :  1.0\n"
     ]
    }
   ],
   "source": [
    "test(LogisticRegression())"
   ]
  },
  {
   "cell_type": "markdown",
   "id": "9b573e51",
   "metadata": {},
   "source": [
    "##### Decision Tree Classifier : "
   ]
  },
  {
   "cell_type": "code",
   "execution_count": 79,
   "id": "bd163584",
   "metadata": {},
   "outputs": [
    {
     "name": "stdout",
     "output_type": "stream",
     "text": [
      "DecisionTreeClassifier() Model\n",
      "The accuracy score :  0.7885510437278782\n",
      "r2 score :  -0.2694964686408259\n",
      "Precision score :  0.21052631578947367\n"
     ]
    }
   ],
   "source": [
    "test(DecisionTreeClassifier())"
   ]
  },
  {
   "cell_type": "markdown",
   "id": "27909a56",
   "metadata": {},
   "source": [
    "##### Random Forest Classifier :"
   ]
  },
  {
   "cell_type": "code",
   "execution_count": 80,
   "id": "58da60f2",
   "metadata": {},
   "outputs": [
    {
     "name": "stdout",
     "output_type": "stream",
     "text": [
      "RandomForestClassifier() Model\n",
      "The accuracy score :  0.788564978679524\n",
      "r2 score :  -0.26941280602921114\n",
      "Precision score :  0.2\n"
     ]
    }
   ],
   "source": [
    "test(RandomForestClassifier())"
   ]
  },
  {
   "cell_type": "markdown",
   "id": "c2547e71",
   "metadata": {},
   "source": [
    "##### AdaBoost Classifier : "
   ]
  },
  {
   "cell_type": "code",
   "execution_count": 81,
   "id": "f42130de",
   "metadata": {},
   "outputs": [
    {
     "name": "stdout",
     "output_type": "stream",
     "text": [
      "AdaBoostClassifier() Model\n",
      "The accuracy score :  0.788857612664084\n",
      "r2 score :  -0.2676558911853033\n",
      "Precision score :  1.0\n"
     ]
    }
   ],
   "source": [
    "test(AdaBoostClassifier())"
   ]
  },
  {
   "cell_type": "code",
   "execution_count": null,
   "id": "00f7b695",
   "metadata": {},
   "outputs": [],
   "source": []
  },
  {
   "cell_type": "code",
   "execution_count": 88,
   "id": "a6f7a701",
   "metadata": {},
   "outputs": [],
   "source": [
    "from sklearn.ensemble import GradientBoostingClassifier"
   ]
  },
  {
   "cell_type": "code",
   "execution_count": 89,
   "id": "7bf5f401",
   "metadata": {},
   "outputs": [
    {
     "name": "stdout",
     "output_type": "stream",
     "text": [
      "Collecting xgboost\n",
      "  Downloading xgboost-1.7.6-py3-none-win_amd64.whl (70.9 MB)\n",
      "Requirement already satisfied: scipy in c:\\users\\diya sivaprasad\\anaconda3\\lib\\site-packages (from xgboost) (1.7.3)\n",
      "Requirement already satisfied: numpy in c:\\users\\diya sivaprasad\\anaconda3\\lib\\site-packages (from xgboost) (1.21.5)\n",
      "Installing collected packages: xgboost\n",
      "Successfully installed xgboost-1.7.6\n"
     ]
    }
   ],
   "source": [
    "!pip install xgboost"
   ]
  },
  {
   "cell_type": "markdown",
   "id": "92d31fd2",
   "metadata": {},
   "source": [
    "##### XGB Classifier: "
   ]
  },
  {
   "cell_type": "code",
   "execution_count": 90,
   "id": "264fd8f1",
   "metadata": {},
   "outputs": [],
   "source": [
    "from xgboost import XGBClassifier"
   ]
  },
  {
   "cell_type": "code",
   "execution_count": 91,
   "id": "afd00d96",
   "metadata": {},
   "outputs": [
    {
     "name": "stdout",
     "output_type": "stream",
     "text": [
      "XGBClassifier(base_score=None, booster=None, callbacks=None,\n",
      "              colsample_bylevel=None, colsample_bynode=None,\n",
      "              colsample_bytree=None, early_stopping_rounds=None,\n",
      "              enable_categorical=False, eval_metric=None, feature_types=None,\n",
      "              gamma=None, gpu_id=None, grow_policy=None, importance_type=None,\n",
      "              interaction_constraints=None, learning_rate=None, max_bin=None,\n",
      "              max_cat_threshold=None, max_cat_to_onehot=None,\n",
      "              max_delta_step=None, max_depth=None, max_leaves=None,\n",
      "              min_child_weight=None, missing=nan, monotone_constraints=None,\n",
      "              n_estimators=100, n_jobs=None, num_parallel_tree=None,\n",
      "              predictor=None, random_state=None, ...) Model\n",
      "The accuracy score :  0.7887461330509183\n",
      "r2 score :  -0.2683251920782206\n",
      "Precision score :  0.2777777777777778\n"
     ]
    }
   ],
   "source": [
    "test(XGBClassifier())"
   ]
  },
  {
   "cell_type": "markdown",
   "id": "bb1a6c64",
   "metadata": {},
   "source": [
    "##### KNN Classifier : "
   ]
  },
  {
   "cell_type": "code",
   "execution_count": 92,
   "id": "eb40fcf9",
   "metadata": {},
   "outputs": [
    {
     "name": "stdout",
     "output_type": "stream",
     "text": [
      "KNeighborsClassifier() Model\n",
      "The accuracy score :  0.7376745352693627\n",
      "r2 score :  -0.5749486636459433\n",
      "Precision score :  0.21380707495714507\n"
     ]
    }
   ],
   "source": [
    "test(KNN())"
   ]
  },
  {
   "cell_type": "markdown",
   "id": "0d989a36",
   "metadata": {},
   "source": [
    "Clearly, AdaBoostClassifier gives the maximum accuracy. So clearly, it can be employed for the further prediction process."
   ]
  },
  {
   "cell_type": "code",
   "execution_count": null,
   "id": "021148ee",
   "metadata": {},
   "outputs": [],
   "source": []
  },
  {
   "cell_type": "code",
   "execution_count": null,
   "id": "e92efcda",
   "metadata": {},
   "outputs": [],
   "source": []
  },
  {
   "cell_type": "markdown",
   "id": "e143ce4d",
   "metadata": {},
   "source": [
    "##### 2. WITH PCA :"
   ]
  },
  {
   "cell_type": "markdown",
   "id": "f60c314f",
   "metadata": {},
   "source": [
    "We will perform PCA to reduce the 7 availabel components to 2."
   ]
  },
  {
   "cell_type": "markdown",
   "id": "0a3d15ea",
   "metadata": {},
   "source": [
    "#### IMPORT LIBRARIES FOR PCA"
   ]
  },
  {
   "cell_type": "code",
   "execution_count": 94,
   "id": "36b82594",
   "metadata": {},
   "outputs": [],
   "source": [
    "from sklearn.decomposition import PCA"
   ]
  },
  {
   "cell_type": "code",
   "execution_count": 95,
   "id": "d885e1ed",
   "metadata": {},
   "outputs": [],
   "source": [
    "pca = PCA(n_components = 2)"
   ]
  },
  {
   "cell_type": "code",
   "execution_count": 96,
   "id": "af57793e",
   "metadata": {},
   "outputs": [],
   "source": [
    "principal_comp = pca.fit_transform(x)"
   ]
  },
  {
   "cell_type": "code",
   "execution_count": 98,
   "id": "f04749e8",
   "metadata": {},
   "outputs": [
    {
     "data": {
      "text/html": [
       "<div>\n",
       "<style scoped>\n",
       "    .dataframe tbody tr th:only-of-type {\n",
       "        vertical-align: middle;\n",
       "    }\n",
       "\n",
       "    .dataframe tbody tr th {\n",
       "        vertical-align: top;\n",
       "    }\n",
       "\n",
       "    .dataframe thead th {\n",
       "        text-align: right;\n",
       "    }\n",
       "</style>\n",
       "<table border=\"1\" class=\"dataframe\">\n",
       "  <thead>\n",
       "    <tr style=\"text-align: right;\">\n",
       "      <th></th>\n",
       "      <th>pc1</th>\n",
       "      <th>pc2</th>\n",
       "    </tr>\n",
       "  </thead>\n",
       "  <tbody>\n",
       "    <tr>\n",
       "      <th>0</th>\n",
       "      <td>-0.185602</td>\n",
       "      <td>0.820652</td>\n",
       "    </tr>\n",
       "    <tr>\n",
       "      <th>1</th>\n",
       "      <td>-0.641815</td>\n",
       "      <td>-0.566440</td>\n",
       "    </tr>\n",
       "    <tr>\n",
       "      <th>2</th>\n",
       "      <td>-2.516243</td>\n",
       "      <td>1.306370</td>\n",
       "    </tr>\n",
       "    <tr>\n",
       "      <th>3</th>\n",
       "      <td>-0.058973</td>\n",
       "      <td>-0.817547</td>\n",
       "    </tr>\n",
       "    <tr>\n",
       "      <th>4</th>\n",
       "      <td>0.712427</td>\n",
       "      <td>-1.289483</td>\n",
       "    </tr>\n",
       "    <tr>\n",
       "      <th>...</th>\n",
       "      <td>...</td>\n",
       "      <td>...</td>\n",
       "    </tr>\n",
       "    <tr>\n",
       "      <th>358805</th>\n",
       "      <td>0.221284</td>\n",
       "      <td>-0.582530</td>\n",
       "    </tr>\n",
       "    <tr>\n",
       "      <th>358806</th>\n",
       "      <td>0.516427</td>\n",
       "      <td>-0.828273</td>\n",
       "    </tr>\n",
       "    <tr>\n",
       "      <th>358807</th>\n",
       "      <td>0.069213</td>\n",
       "      <td>-1.044894</td>\n",
       "    </tr>\n",
       "    <tr>\n",
       "      <th>358808</th>\n",
       "      <td>-1.533958</td>\n",
       "      <td>-0.107538</td>\n",
       "    </tr>\n",
       "    <tr>\n",
       "      <th>358809</th>\n",
       "      <td>-0.482301</td>\n",
       "      <td>-0.344457</td>\n",
       "    </tr>\n",
       "  </tbody>\n",
       "</table>\n",
       "<p>358810 rows × 2 columns</p>\n",
       "</div>"
      ],
      "text/plain": [
       "             pc1       pc2\n",
       "0      -0.185602  0.820652\n",
       "1      -0.641815 -0.566440\n",
       "2      -2.516243  1.306370\n",
       "3      -0.058973 -0.817547\n",
       "4       0.712427 -1.289483\n",
       "...          ...       ...\n",
       "358805  0.221284 -0.582530\n",
       "358806  0.516427 -0.828273\n",
       "358807  0.069213 -1.044894\n",
       "358808 -1.533958 -0.107538\n",
       "358809 -0.482301 -0.344457\n",
       "\n",
       "[358810 rows x 2 columns]"
      ]
     },
     "execution_count": 98,
     "metadata": {},
     "output_type": "execute_result"
    }
   ],
   "source": [
    "princ_df = pd.DataFrame(data = principal_comp, columns = [\"pc1\",\"pc2\"])\n",
    "princ_df"
   ]
  },
  {
   "cell_type": "code",
   "execution_count": 99,
   "id": "20cc3cdc",
   "metadata": {},
   "outputs": [],
   "source": [
    "req_df = pd.concat([princ_df, train_data[[\"Consumer disputed?\"]]], axis = 1)"
   ]
  },
  {
   "cell_type": "code",
   "execution_count": 101,
   "id": "1993afe6",
   "metadata": {},
   "outputs": [
    {
     "data": {
      "text/html": [
       "<div>\n",
       "<style scoped>\n",
       "    .dataframe tbody tr th:only-of-type {\n",
       "        vertical-align: middle;\n",
       "    }\n",
       "\n",
       "    .dataframe tbody tr th {\n",
       "        vertical-align: top;\n",
       "    }\n",
       "\n",
       "    .dataframe thead th {\n",
       "        text-align: right;\n",
       "    }\n",
       "</style>\n",
       "<table border=\"1\" class=\"dataframe\">\n",
       "  <thead>\n",
       "    <tr style=\"text-align: right;\">\n",
       "      <th></th>\n",
       "      <th>pc1</th>\n",
       "      <th>pc2</th>\n",
       "      <th>Consumer disputed?</th>\n",
       "    </tr>\n",
       "  </thead>\n",
       "  <tbody>\n",
       "    <tr>\n",
       "      <th>0</th>\n",
       "      <td>-0.185602</td>\n",
       "      <td>0.820652</td>\n",
       "      <td>0</td>\n",
       "    </tr>\n",
       "    <tr>\n",
       "      <th>1</th>\n",
       "      <td>-0.641815</td>\n",
       "      <td>-0.566440</td>\n",
       "      <td>1</td>\n",
       "    </tr>\n",
       "    <tr>\n",
       "      <th>2</th>\n",
       "      <td>-2.516243</td>\n",
       "      <td>1.306370</td>\n",
       "      <td>0</td>\n",
       "    </tr>\n",
       "    <tr>\n",
       "      <th>3</th>\n",
       "      <td>-0.058973</td>\n",
       "      <td>-0.817547</td>\n",
       "      <td>0</td>\n",
       "    </tr>\n",
       "    <tr>\n",
       "      <th>4</th>\n",
       "      <td>0.712427</td>\n",
       "      <td>-1.289483</td>\n",
       "      <td>1</td>\n",
       "    </tr>\n",
       "  </tbody>\n",
       "</table>\n",
       "</div>"
      ],
      "text/plain": [
       "        pc1       pc2  Consumer disputed?\n",
       "0 -0.185602  0.820652                   0\n",
       "1 -0.641815 -0.566440                   1\n",
       "2 -2.516243  1.306370                   0\n",
       "3 -0.058973 -0.817547                   0\n",
       "4  0.712427 -1.289483                   1"
      ]
     },
     "execution_count": 101,
     "metadata": {},
     "output_type": "execute_result"
    }
   ],
   "source": [
    "req_df.head()"
   ]
  },
  {
   "cell_type": "markdown",
   "id": "528faa12",
   "metadata": {},
   "source": [
    "#### VISUALISING THE TRANSFORMATION"
   ]
  },
  {
   "cell_type": "code",
   "execution_count": 115,
   "id": "454751b5",
   "metadata": {},
   "outputs": [
    {
     "data": {
      "image/png": "[encoded data removed]",
      "text/plain": [
       "<Figure size 576x576 with 1 Axes>"
      ]
     },
     "metadata": {
      "needs_background": "light"
     },
     "output_type": "display_data"
    }
   ],
   "source": [
    "fig = plt.figure(figsize = (8,8))\n",
    "ax = fig.add_subplot(1,1,1) \n",
    "ax.set_xlabel('pc1', fontsize = 15)\n",
    "ax.set_ylabel('pc2', fontsize = 15)\n",
    "ax.set_title('2 component PCA', fontsize = 20)\n",
    "targets = [0,1]\n",
    "colors = ['r', 'g', 'b']\n",
    "for target, color in zip(targets,colors):\n",
    "    indicesToKeep = req_df['Consumer disputed?'] == target\n",
    "    ax.scatter(req_df.loc[indicesToKeep, 'pc1']\n",
    "               , req_df.loc[indicesToKeep, 'pc2']\n",
    "               , c = color\n",
    "               , s = 50)\n",
    "ax.legend(targets)\n",
    "ax.grid()"
   ]
  },
  {
   "cell_type": "markdown",
   "id": "75776956",
   "metadata": {},
   "source": [
    "#### DEFINING THE TARGET AND FEATURE VARIABLES "
   ]
  },
  {
   "cell_type": "code",
   "execution_count": 102,
   "id": "0ebb3093",
   "metadata": {},
   "outputs": [],
   "source": [
    "x1 = req_df[[\"pc1\",\"pc2\"]]\n",
    "y1 = req_df[\"Consumer disputed?\"]"
   ]
  },
  {
   "cell_type": "markdown",
   "id": "5fc7ba31",
   "metadata": {},
   "source": [
    "#### SPLITTING THE DATASET INTO TRAINING AND TESTING SET"
   ]
  },
  {
   "cell_type": "code",
   "execution_count": 103,
   "id": "34b77a5d",
   "metadata": {},
   "outputs": [],
   "source": [
    "x1_train, x1_test, y1_train, y1_test = train_test_split(x1, y1, train_size = 0.8, random_state = 60)"
   ]
  },
  {
   "cell_type": "markdown",
   "id": "ec58f84a",
   "metadata": {},
   "source": [
    "#### TESTING THE MODEL PERFORMANCES "
   ]
  },
  {
   "cell_type": "code",
   "execution_count": 104,
   "id": "2adfd5a1",
   "metadata": {},
   "outputs": [],
   "source": [
    "def test(model):\n",
    "    model.fit(x1_train,y1_train)\n",
    "    y1_pred = model.predict(x1_test)\n",
    "    r2score = r2_score(y1_test, y1_pred)\n",
    "    acc_score = accuracy_score(y1_test,y1_pred)\n",
    "    prec_score = precision_score(y1_test, y1_pred, zero_division = 1)\n",
    "    \n",
    "    print(f\"{model} Model\")\n",
    "    print(\"The accuracy score : \", acc_score)\n",
    "    print(\"r2 score : \", r2score)\n",
    "    print(\"Precision score : \", prec_score)"
   ]
  },
  {
   "cell_type": "markdown",
   "id": "2f929157",
   "metadata": {},
   "source": [
    "##### Logistic Regression"
   ]
  },
  {
   "cell_type": "code",
   "execution_count": 105,
   "id": "52b13cc5",
   "metadata": {},
   "outputs": [
    {
     "name": "stdout",
     "output_type": "stream",
     "text": [
      "LogisticRegression() Model\n",
      "The accuracy score :  0.7878264262423009\n",
      "r2 score :  -0.2693151266449696\n",
      "Precision score :  1.0\n"
     ]
    }
   ],
   "source": [
    "test(LogisticRegression())"
   ]
  },
  {
   "cell_type": "markdown",
   "id": "801bec77",
   "metadata": {},
   "source": [
    "##### Decision Tree Classifier"
   ]
  },
  {
   "cell_type": "code",
   "execution_count": 106,
   "id": "82938ce2",
   "metadata": {},
   "outputs": [
    {
     "name": "stdout",
     "output_type": "stream",
     "text": [
      "DecisionTreeClassifier() Model\n",
      "The accuracy score :  0.7876174019676152\n",
      "r2 score :  -0.2705656012870079\n",
      "Precision score :  0.2972972972972973\n"
     ]
    }
   ],
   "source": [
    "test(DecisionTreeClassifier())"
   ]
  },
  {
   "cell_type": "markdown",
   "id": "e9a52925",
   "metadata": {},
   "source": [
    "##### Random Forest Classifier"
   ]
  },
  {
   "cell_type": "code",
   "execution_count": 107,
   "id": "9f159ddd",
   "metadata": {},
   "outputs": [
    {
     "name": "stdout",
     "output_type": "stream",
     "text": [
      "RandomForestClassifier() Model\n",
      "The accuracy score :  0.7875895320643237\n",
      "r2 score :  -0.27073233123927976\n",
      "Precision score :  0.3023255813953488\n"
     ]
    }
   ],
   "source": [
    "test(RandomForestClassifier())"
   ]
  },
  {
   "cell_type": "markdown",
   "id": "87d12fb6",
   "metadata": {},
   "source": [
    "##### AdaBoost Classifier"
   ]
  },
  {
   "cell_type": "code",
   "execution_count": 108,
   "id": "15d2492f",
   "metadata": {},
   "outputs": [
    {
     "name": "stdout",
     "output_type": "stream",
     "text": [
      "AdaBoostClassifier() Model\n",
      "The accuracy score :  0.7878264262423009\n",
      "r2 score :  -0.2693151266449696\n",
      "Precision score :  1.0\n"
     ]
    }
   ],
   "source": [
    "test(AdaBoostClassifier())"
   ]
  },
  {
   "cell_type": "markdown",
   "id": "3ecf6cf6",
   "metadata": {},
   "source": [
    "##### Gradient Boosting Classifier"
   ]
  },
  {
   "cell_type": "code",
   "execution_count": 109,
   "id": "b6f157dd",
   "metadata": {},
   "outputs": [
    {
     "name": "stdout",
     "output_type": "stream",
     "text": [
      "GradientBoostingClassifier() Model\n",
      "The accuracy score :  0.7878264262423009\n",
      "r2 score :  -0.2693151266449696\n",
      "Precision score :  1.0\n"
     ]
    }
   ],
   "source": [
    "test(GradientBoostingClassifier())"
   ]
  },
  {
   "cell_type": "markdown",
   "id": "9c965c9d",
   "metadata": {},
   "source": [
    "##### KNN Classifier"
   ]
  },
  {
   "cell_type": "code",
   "execution_count": 111,
   "id": "8962ff65",
   "metadata": {},
   "outputs": [
    {
     "name": "stdout",
     "output_type": "stream",
     "text": [
      "KNeighborsClassifier() Model\n",
      "The accuracy score :  0.7607786850979628\n",
      "r2 score :  -0.4311265453247206\n",
      "Precision score :  0.2457427298925858\n"
     ]
    }
   ],
   "source": [
    "test(KNN())"
   ]
  },
  {
   "cell_type": "markdown",
   "id": "e8995247",
   "metadata": {},
   "source": [
    "##### XGB Classifier"
   ]
  },
  {
   "cell_type": "code",
   "execution_count": 110,
   "id": "24d678d6",
   "metadata": {},
   "outputs": [
    {
     "name": "stdout",
     "output_type": "stream",
     "text": [
      "XGBClassifier(base_score=None, booster=None, callbacks=None,\n",
      "              colsample_bylevel=None, colsample_bynode=None,\n",
      "              colsample_bytree=None, early_stopping_rounds=None,\n",
      "              enable_categorical=False, eval_metric=None, feature_types=None,\n",
      "              gamma=None, gpu_id=None, grow_policy=None, importance_type=None,\n",
      "              interaction_constraints=None, learning_rate=None, max_bin=None,\n",
      "              max_cat_threshold=None, max_cat_to_onehot=None,\n",
      "              max_delta_step=None, max_depth=None, max_leaves=None,\n",
      "              min_child_weight=None, missing=nan, monotone_constraints=None,\n",
      "              n_estimators=100, n_jobs=None, num_parallel_tree=None,\n",
      "              predictor=None, random_state=None, ...) Model\n",
      "The accuracy score :  0.7878124912906552\n",
      "r2 score :  -0.26939849162110563\n",
      "Precision score :  0.4444444444444444\n"
     ]
    }
   ],
   "source": [
    "test(XGBClassifier())"
   ]
  },
  {
   "cell_type": "markdown",
   "id": "20661904",
   "metadata": {},
   "source": [
    "Claerly, the AdaBoostClassifier performs the best with the highest accuracy."
   ]
  },
  {
   "cell_type": "code",
   "execution_count": 117,
   "id": "858bcdc9",
   "metadata": {},
   "outputs": [],
   "source": [
    "from sklearn.metrics import mean_absolute_error"
   ]
  },
  {
   "cell_type": "markdown",
   "id": "9f80f526",
   "metadata": {},
   "source": [
    "##### Analysing The AdaBoost Classifier"
   ]
  },
  {
   "cell_type": "code",
   "execution_count": 119,
   "id": "f06455ea",
   "metadata": {},
   "outputs": [
    {
     "name": "stdout",
     "output_type": "stream",
     "text": [
      "accuracy score :  0.7878264262423009\n",
      "mean absolute error :  0.21217357375769907\n"
     ]
    }
   ],
   "source": [
    "ada = AdaBoostClassifier()\n",
    "ada.fit(x1_train, y1_train)\n",
    "y1_pred = ada.predict(x1_test)\n",
    "\n",
    "acc_score = accuracy_score(y1_test, y1_pred)\n",
    "mean_abs_err = mean_absolute_error(y1_test,y1_pred)\n",
    "\n",
    "print(\"accuracy score : \", acc_score)\n",
    "print(\"mean absolute error : \", mean_abs_err)"
   ]
  },
  {
   "cell_type": "code",
   "execution_count": null,
   "id": "792580d0",
   "metadata": {},
   "outputs": [],
   "source": []
  }
 ],
 "metadata": {
  "kernelspec": {
   "display_name": "Python 3 (ipykernel)",
   "language": "python",
   "name": "python3"
  },
  "language_info": {
   "codemirror_mode": {
    "name": "ipython",
    "version": 3
   },
   "file_extension": ".py",
   "mimetype": "text/x-python",
   "name": "python",
   "nbconvert_exporter": "python",
   "pygments_lexer": "ipython3",
   "version": "3.9.12"
  }
 },
 "nbformat": 4,
 "nbformat_minor": 5
}
